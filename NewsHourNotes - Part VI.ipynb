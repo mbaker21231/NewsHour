{
 "cells": [
  {
   "cell_type": "markdown",
   "metadata": {},
   "source": [
    "# Estimation \n",
    "\n",
    "In this notebook, we construct a giant likelihood with price, viewership, and sampling weights and estimate everything out. "
   ]
  },
  {
   "cell_type": "code",
   "execution_count": 21,
   "metadata": {
    "collapsed": false
   },
   "outputs": [
    {
     "data": {
      "text/plain": [
       "'C:\\\\Users\\\\mjbaker\\\\Documents\\\\GitHub\\\\NewsHour'"
      ]
     },
     "execution_count": 21,
     "metadata": {},
     "output_type": "execute_result"
    }
   ],
   "source": [
    "import ipystata\n",
    "import os\n",
    "os.getcwd()"
   ]
  },
  {
   "cell_type": "code",
   "execution_count": 22,
   "metadata": {
    "collapsed": false
   },
   "outputs": [
    {
     "name": "stdout",
     "output_type": "stream",
     "text": [
      "\n",
      "C:\\Users\\mjbaker\\Documents\\Github\\NewsHour\n"
     ]
    }
   ],
   "source": [
    "%%stata -s nh1\n",
    "clear all\n",
    "cd C:\\Users\\mjbaker\\Documents\\Github\\NewsHour\n",
    "use AveragedDataDyno.dta\n",
    "set more off\n",
    "set seed 8675309\n",
    "sort market stationid mt timeslot"
   ]
  },
  {
   "cell_type": "markdown",
   "metadata": {},
   "source": [
    "## Step 1 - read in some data and organize it.\n",
    "\n",
    "Here, we have to organize data and get everything going. Really, this is the same stuff we did in notebook one to get dynamic data aligned with the (observed) viewership likelihood. ALong these lines, we need to reconstitute a few variables that we use and get them into mata. We will create a marker variable so that things work. \n",
    "\n",
    "While previously we developed a \"game\" variable in `mata`, this time around I'll do it in `Stata` just to see if we get the same result:"
   ]
  },
  {
   "cell_type": "code",
   "execution_count": 23,
   "metadata": {
    "collapsed": false
   },
   "outputs": [
    {
     "name": "stdout",
     "output_type": "stream",
     "text": [
      "\n",
      "(1328 real changes made)\n"
     ]
    }
   ],
   "source": [
    "%%stata -s nh1\n",
    "bysort stationid: egen countl = total(lnews)\n",
    "bysort stationid: gen lasts = _n == _N\n",
    "\n",
    "gen game=lnpps!=. & (lnews | otherl)\n",
    "replace game = 0 if countl ==0"
   ]
  },
  {
   "cell_type": "code",
   "execution_count": 24,
   "metadata": {
    "collapsed": false
   },
   "outputs": [
    {
     "name": "stdout",
     "output_type": "stream",
     "text": [
      "\n",
      "       panel variable:  stationid (strongly balanced)\n",
      "        time variable:  timeslot, 3 to 8\n",
      "                delta:  1 unit\n",
      "(16622 missing values generated)\n",
      "(16622 missing values generated)\n",
      "(16622 missing values generated)\n",
      "(16622 missing values generated)\n",
      "(16622 missing values generated)\n",
      "(83110 real changes made)\n",
      "(16622 real changes made)\n",
      "(16622 missing values generated)\n",
      "(16622 missing values generated)\n",
      "(16622 missing values generated)\n",
      "(16622 missing values generated)\n"
     ]
    }
   ],
   "source": [
    "%%stata -s nh1\n",
    "gen useOrd =_n\n",
    "tsset stationid timeslot\n",
    "\n",
    "gen otherlPrime=lnews&game\n",
    "gen lnewsPrime =otherl&game\n",
    "gen nnewsPrime =nnews&game\n",
    "\n",
    "gen lnewslnewsPrime=otherl*l.lnews\n",
    "gen lnewsnnewsPrime=otherl*l.nnews\n",
    "gen nnewslnewsPrime=nnews*l.lnews\n",
    "gen nnewsnnewsPrime=nnews*l.nnews\n",
    "gen lsiPrime=l.si\n",
    "replace lsiPrime=ln(lsiPrime)\n",
    "replace lsiPrime=0 if lsiPrime==.\n",
    "\n",
    "gen siXlnlnPrime=lnewslnewsPrime*lsi\n",
    "gen siXlnnnPrime=lnewsnnewsPrime*lsi\n",
    "gen siXnnlnPrime=nnewslnewsPrime*lsi\n",
    "gen siXnnnnPrime=nnewsnnewsPrime*lsi\n",
    "gen lnewstotPrime=otherl*ln(1+totslnews)\n",
    "gen nnewstotPrime=nnews*ln(1+totsnnews)\n",
    "sort useOrd "
   ]
  },
  {
   "cell_type": "markdown",
   "metadata": {},
   "source": [
    "Pull all the variables into `mata`:"
   ]
  },
  {
   "cell_type": "code",
   "execution_count": 25,
   "metadata": {
    "collapsed": false
   },
   "outputs": [
    {
     "name": "stdout",
     "output_type": "stream",
     "text": [
      "\n",
      "------------------------------------------------- mata (type end to exit) -------------------------------------------------------------------------------------------\n",
      ":     st_view(lnewsPrime=.,.,\"lnewsPrime\")\n",
      "\n",
      ":     st_view(otherlPrime=.,.,\"otherlPrime\")\n",
      "\n",
      ":     st_view(nnewsPrime=.,.,\"nnewsPrime\")\n",
      "\n",
      ":     st_view(lnewslnewsPrime=.,.,\"lnewslnewsPrime\")\n",
      "\n",
      ":     st_view(lnewsnnewsPrime=.,.,\"lnewsnnewsPrime\")\n",
      "\n",
      ":     st_view(nnewslnewsPrime=.,.,\"nnewslnewsPrime\")\n",
      "\n",
      ":     st_view(nnewsnnewsPrime=.,.,\"nnewsnnewsPrime\")\n",
      "\n",
      ":     st_view(lsiPrime=.,.,\"lsiPrime\")\n",
      "\n",
      ":     st_view(siXlnlnPrime=.,.,\"siXlnlnPrime\")\n",
      "\n",
      ":     st_view(siXlnnnPrime=.,.,\"siXlnnnPrime\")\n",
      "\n",
      ":     st_view(siXnnlnPrime=.,.,\"siXnnlnPrime\")\n",
      "\n",
      ":     st_view(siXnnnnPrime=.,.,\"siXnnnnPrime\")\n",
      "\n",
      ":     st_view(lnewstotPrime=.,.,\"lnewstotPrime\")\n",
      "\n",
      ":     st_view(nnewstotPrime=.,.,\"nnewstotPrime\")\n",
      "\n",
      ":     st_view(lnewsnnews=.,.,\"lnewsnnews\")\n",
      "\n",
      ":     st_view(nnewslnews=.,.,\"nnewslnews\")\n",
      "\n",
      ":     st_view(nnewsnnews=.,.,\"nnewsnnews\")\n",
      "\n",
      ":     st_view(lsi=.,.,\"lsi\")\n",
      "\n",
      ":     st_view(siXlnln=.,.,\"siXlnln\")\n",
      "\n",
      ":     st_view(siXlnnn=.,.,\"siXlnnn\")\n",
      "\n",
      ":     st_view(siXnnln=.,.,\"siXnnln\")\n",
      "\n",
      ":     st_view(siXnnnn=.,.,\"siXnnnn\")\n",
      "\n",
      ":     st_view(lnewstot=.,.,\"lnewstot\")\n",
      "\n",
      ":     st_view(nnewstot=.,.,\"nnewstot\")\n",
      "\n",
      ":     st_view(l_ACS_HH=.,.,\"l_ACS_HH\")\n",
      "\n",
      ":     st_view(nnewsn=.,.,\"nnewsn\")\n",
      "\n",
      ":     st_view(lnewsn=.,.,\"lnewsn\")\n",
      "\n",
      ":     st_view(otherln=.,.,\"otherln\")\n",
      "\n",
      ":     st_view(othercn=.,.,\"othercn\")\n",
      "\n",
      ": end\n"
     ]
    }
   ],
   "source": [
    "%%stata -s nh1\n",
    "mata:\n",
    "    st_view(lnewsPrime=.,.,\"lnewsPrime\")\n",
    "    st_view(otherlPrime=.,.,\"otherlPrime\")\n",
    "    st_view(nnewsPrime=.,.,\"nnewsPrime\")\n",
    "    st_view(lnewslnewsPrime=.,.,\"lnewslnewsPrime\")\n",
    "    st_view(lnewsnnewsPrime=.,.,\"lnewsnnewsPrime\")\n",
    "    st_view(nnewslnewsPrime=.,.,\"nnewslnewsPrime\")\n",
    "    st_view(nnewsnnewsPrime=.,.,\"nnewsnnewsPrime\")\n",
    "    st_view(lsiPrime=.,.,\"lsiPrime\")\n",
    "    st_view(siXlnlnPrime=.,.,\"siXlnlnPrime\")\n",
    "    st_view(siXlnnnPrime=.,.,\"siXlnnnPrime\")\n",
    "    st_view(siXnnlnPrime=.,.,\"siXnnlnPrime\")\n",
    "    st_view(siXnnnnPrime=.,.,\"siXnnnnPrime\")\n",
    "    st_view(lnewstotPrime=.,.,\"lnewstotPrime\")\n",
    "    st_view(nnewstotPrime=.,.,\"nnewstotPrime\")\n",
    "\n",
    "    st_view(lnewslnews=.,.,\"lnewslnews\")\n",
    "    st_view(lnewsnnews=.,.,\"lnewsnnews\")\n",
    "    st_view(nnewslnews=.,.,\"nnewslnews\")\n",
    "    st_view(nnewsnnews=.,.,\"nnewsnnews\")\n",
    "    st_view(lsi=.,.,\"lsi\")\n",
    "    st_view(siXlnln=.,.,\"siXlnln\")\n",
    "    st_view(siXlnnn=.,.,\"siXlnnn\")\n",
    "    st_view(siXnnln=.,.,\"siXnnln\")\n",
    "    st_view(siXnnnn=.,.,\"siXnnnn\")\n",
    "    st_view(lnewstot=.,.,\"lnewstot\")\n",
    "    st_view(nnewstot=.,.,\"nnewstot\")\n",
    "    st_view(l_ACS_HH=.,.,\"l_ACS_HH\")\n",
    "    st_view(nnewsn=.,.,\"nnewsn\")\n",
    "    st_view(lnewsn=.,.,\"lnewsn\")\n",
    "    st_view(otherln=.,.,\"otherln\")\n",
    "    st_view(othercn=.,.,\"othercn\")\n",
    "end"
   ]
  },
  {
   "cell_type": "markdown",
   "metadata": {},
   "source": [
    "To make it easier to pass things around, let's create a structured object and use it to pass all this stuff around. We also make a simple initiation function to deal with it (this would be a bit simpler in Python!)"
   ]
  },
  {
   "cell_type": "code",
   "execution_count": 26,
   "metadata": {
    "collapsed": false
   },
   "outputs": [
    {
     "name": "stdout",
     "output_type": "stream",
     "text": [
      "\n",
      "------------------------------------------------- mata (type end to exit) -------------------------------------------------------------------------------------------\n",
      ":     struct dynoInfo {\n",
      ">         real matrix lnewslnews, lnewsnnews, nnewslnews, nnewsnnews, lsi,\n",
      ">             siXlnln, siXlnnn, siXnnln, siXnnnn, lnewstot, nnewstot, l_ACS_HH,\n",
      ">             lnewsn,otherln,nnewsn,othercn\n",
      ">     }\n",
      "\n",
      ":     \n",
      ":     struct dynoInfo dynoInfoInit(real matrix lnewslnews, lnewsnnews, nnewslnews, nnewsnnews,\n",
      ">         lsi,siXlnln, siXlnnn,siXnnln, siXnnnn, lnewstot, nnewstot,l_ACS_HH,lnewsn,otherln,nnewsn,othercn)\n",
      ">     {\n",
      ">         struct dynoInfo scalar Dy\n",
      ">     \n",
      ">         Dy.lnewslnews=lnewslnews\n",
      ">         Dy.lnewsnnews=lnewsnnews\n",
      ">         Dy.nnewslnews=nnewslnews\n",
      ">         Dy.nnewsnnews=nnewsnnews\n",
      ">         Dy.lsi=lsi\n",
      ">         Dy.siXlnln=siXlnln\n",
      ">         Dy.siXlnnn=siXlnnn\n",
      ">         Dy.siXnnln=siXnnln\n",
      ">         Dy.siXnnnn=siXnnnn\n",
      ">         Dy.lnewstot=lnewstot\n",
      ">         Dy.nnewstot=nnewstot\n",
      ">         Dy.l_ACS_HH=l_ACS_HH\n",
      ">         Dy.lnewsn=lnewsn\n",
      ">         Dy.otherln=otherln\n",
      ">         Dy.nnewsn=nnewsn\n",
      ">         Dy.othercn=othercn\n",
      ">         return(Dy)\n",
      ">     }\n",
      "\n",
      ": end\n"
     ]
    }
   ],
   "source": [
    "%%stata -s nh1\n",
    "mata: \n",
    "    struct dynoInfo {\n",
    "        real matrix lnewslnews, lnewsnnews, nnewslnews, nnewsnnews, lsi,\n",
    "            siXlnln, siXlnnn, siXnnln, siXnnnn, lnewstot, nnewstot, l_ACS_HH,\n",
    "            lnewsn,otherln,nnewsn,othercn\n",
    "    }\n",
    "    \n",
    "    struct dynoInfo dynoInfoInit(real matrix lnewslnews, lnewsnnews, nnewslnews, nnewsnnews,\n",
    "        lsi,siXlnln, siXlnnn,siXnnln, siXnnnn, lnewstot, nnewstot,l_ACS_HH,lnewsn,otherln,nnewsn,othercn)\n",
    "    {\n",
    "        struct dynoInfo scalar Dy\n",
    "    \n",
    "        Dy.lnewslnews=lnewslnews\n",
    "        Dy.lnewsnnews=lnewsnnews\n",
    "        Dy.nnewslnews=nnewslnews\n",
    "        Dy.nnewsnnews=nnewsnnews\n",
    "        Dy.lsi=lsi\n",
    "        Dy.siXlnln=siXlnln\n",
    "        Dy.siXlnnn=siXlnnn\n",
    "        Dy.siXnnln=siXnnln\n",
    "        Dy.siXnnnn=siXnnnn\n",
    "        Dy.lnewstot=lnewstot\n",
    "        Dy.nnewstot=nnewstot\n",
    "        Dy.l_ACS_HH=l_ACS_HH\n",
    "        Dy.lnewsn=lnewsn\n",
    "        Dy.otherln=otherln\n",
    "        Dy.nnewsn=nnewsn\n",
    "        Dy.othercn=othercn\n",
    "        return(Dy)\n",
    "    }\n",
    "end"
   ]
  },
  {
   "cell_type": "markdown",
   "metadata": {},
   "source": [
    "Now, just pass all the information along for use in estimation."
   ]
  },
  {
   "cell_type": "code",
   "execution_count": 27,
   "metadata": {
    "collapsed": false
   },
   "outputs": [
    {
     "name": "stdout",
     "output_type": "stream",
     "text": [
      "\n",
      "------------------------------------------------- mata (type end to exit) -------------------------------------------------------------------------------------------\n",
      ":     Dy=dynoInfoInit(lnewslnews, lnewsnnews, nnewslnews, nnewsnnews,\n",
      ">         lsi,siXlnln, siXlnnn,siXnnln, siXnnnn, lnewstot, nnewstot,l_ACS_HH,\n",
      ">         lnewsn,otherln,nnewsn,othercn)\n",
      "\n",
      ": end\n"
     ]
    }
   ],
   "source": [
    "%%stata -s nh1\n",
    "mata:\n",
    "    Dy=dynoInfoInit(lnewslnews, lnewsnnews, nnewslnews, nnewsnnews,\n",
    "        lsi,siXlnln, siXlnnn,siXnnln, siXnnnn, lnewstot, nnewstot,l_ACS_HH,\n",
    "        lnewsn,otherln,nnewsn,othercn)\n",
    "end"
   ]
  },
  {
   "cell_type": "markdown",
   "metadata": {},
   "source": [
    "## Price information\n",
    "\n",
    "Since the above is a pretty convenient way of dealing with a lot of variables, let's also use our previously constructed and saved data on pricing, and pack it up in a similar way:"
   ]
  },
  {
   "cell_type": "code",
   "execution_count": 28,
   "metadata": {
    "collapsed": false
   },
   "outputs": [
    {
     "name": "stdout",
     "output_type": "stream",
     "text": [
      "\n",
      "------------------------------------------------- mata (type end to exit) -------------------------------------------------------------------------------------------\n",
      ":     mata matuse MataPriceData\n",
      "(loading idt[3738,1], l_ACS_HHt[3738,1], lnewst[3738,1], lnppst[3738,1], lnviewt[3738,1], mat[101,2], mtt[3738,1], nnewst[3738,1], otherlt[3738,1])\n",
      "\n",
      ": end\n"
     ]
    }
   ],
   "source": [
    "%%stata -s nh1\n",
    "mata:\n",
    "    mata matuse MataPriceData\n",
    "end\n",
    "    "
   ]
  },
  {
   "cell_type": "markdown",
   "metadata": {},
   "source": [
    "A structured object containing all this information, and using it to pass stuff along:"
   ]
  },
  {
   "cell_type": "code",
   "execution_count": 29,
   "metadata": {
    "collapsed": false
   },
   "outputs": [
    {
     "name": "stdout",
     "output_type": "stream",
     "text": [
      "\n",
      "------------------------------------------------- mata (type end to exit) -------------------------------------------------------------------------------------------\n",
      ":    struct priceInfo {\n",
      ">         real matrix y,lnewst,otherlt,nnewst,lnviewt,l_ACS_HHt,id,mt,m\n",
      ">     }\n",
      "\n",
      ":     struct priceInfo priceInfoInit(y,lnewst,otherlt,nnewst,lnviewt,l_ACS_HHt,id,mt,m)\n",
      ">     {\n",
      ">         struct priceInfo scalar pInfo\n",
      ">     \n",
      ">         pInfo.y=y\n",
      ">         pInfo.lnewst=lnewst\n",
      ">         pInfo.otherlt=otherlt\n",
      ">         pInfo.nnewst=nnewst\n",
      ">         pInfo.lnviewt=lnviewt\n",
      ">         pInfo.id=id\n",
      ">         pInfo.mt=mt\n",
      ">         pInfo.m=m\n",
      ">         pInfo.l_ACS_HHt=l_ACS_HHt\n",
      ">     return(pInfo)\n",
      ">     }\n",
      "\n",
      ": end\n"
     ]
    }
   ],
   "source": [
    "%%stata -s nh1\n",
    "mata:\n",
    "   struct priceInfo {\n",
    "        real matrix y,lnewst,otherlt,nnewst,lnviewt,l_ACS_HHt,id,mt,m\n",
    "    }\n",
    "    struct priceInfo priceInfoInit(y,lnewst,otherlt,nnewst,lnviewt,l_ACS_HHt,id,mt,m)\n",
    "    {\n",
    "        struct priceInfo scalar pInfo\n",
    "    \n",
    "        pInfo.y=y\n",
    "        pInfo.lnewst=lnewst\n",
    "        pInfo.otherlt=otherlt\n",
    "        pInfo.nnewst=nnewst\n",
    "        pInfo.lnviewt=lnviewt\n",
    "        pInfo.id=id\n",
    "        pInfo.mt=mt\n",
    "        pInfo.m=m\n",
    "        pInfo.l_ACS_HHt=l_ACS_HHt\n",
    "    return(pInfo)\n",
    "    }\n",
    "end"
   ]
  },
  {
   "cell_type": "markdown",
   "metadata": {
    "collapsed": true
   },
   "source": [
    "Import our information on selection stuff and the game and all that:"
   ]
  },
  {
   "cell_type": "code",
   "execution_count": 30,
   "metadata": {
    "collapsed": false
   },
   "outputs": [
    {
     "name": "stdout",
     "output_type": "stream",
     "text": [
      "\n",
      "------------------------------------------------- mata (type end to exit) -------------------------------------------------------------------------------------------\n",
      ":     mata matuse gsAndus, replace\n",
      "(loading NashW[99732,20], Up[99732,20], Upb[99732,20], Upg[99732,20], Upre1[99732,20], Upre1g[99732,20], Upre2[99732,20], Upre2g[99732,20], Uv[99732,20],\n",
      " Uvg[99732,20], Uvre1[99732,20], Uvre1g[99732,20], Uvre2[99732,20], Uvre2g[99732,20], Uvsg[99732,20], Uvsi[99732,20], Uvso[99732,20], Vup[99732,20], id[99732,1],\n",
      " market[99732,1], mt[99732,1], weights1[99732,1], weights2[99732,1])\n",
      "\n",
      ": end\n"
     ]
    }
   ],
   "source": [
    "%%stata -s nh1\n",
    "mata:\n",
    "    mata matuse gsAndus, replace\n",
    "end"
   ]
  },
  {
   "cell_type": "code",
   "execution_count": 32,
   "metadata": {
    "collapsed": false
   },
   "outputs": [
    {
     "name": "stdout",
     "output_type": "stream",
     "text": [
      "\n",
      "------------------------------------------------- mata (type end to exit) -------------------------------------------------------------------------------------------\n",
      ":     st_view(game=.,.,\"game\")\n",
      "\n",
      ":     sum(NashW:!=.)\n",
      "  2020\n",
      "\n",
      ":     sum(select(NashW,game):!=.)\n",
      "  0\n",
      "\n",
      ": end\n"
     ]
    }
   ],
   "source": [
    "%%stata -s nh1\n",
    "mata:\n",
    "    st_view(game=.,.,\"game\")\n",
    "    sum(NashW:!=.)\n",
    "    sum(select(NashW,game):!=.)\n",
    "end"
   ]
  },
  {
   "cell_type": "code",
   "execution_count": 20,
   "metadata": {
    "collapsed": false
   },
   "outputs": [
    {
     "name": "stdout",
     "output_type": "stream",
     "text": [
      "Terminated 2 running Stata processes\n"
     ]
    }
   ],
   "source": [
    "%%stata \n",
    "close all\n"
   ]
  },
  {
   "cell_type": "code",
   "execution_count": null,
   "metadata": {
    "collapsed": true
   },
   "outputs": [],
   "source": []
  }
 ],
 "metadata": {
  "kernelspec": {
   "display_name": "Python 3",
   "language": "python",
   "name": "python3"
  },
  "language_info": {
   "codemirror_mode": {
    "name": "ipython",
    "version": 3
   },
   "file_extension": ".py",
   "mimetype": "text/x-python",
   "name": "python",
   "nbconvert_exporter": "python",
   "pygments_lexer": "ipython3",
   "version": "3.5.1"
  }
 },
 "nbformat": 4,
 "nbformat_minor": 0
}

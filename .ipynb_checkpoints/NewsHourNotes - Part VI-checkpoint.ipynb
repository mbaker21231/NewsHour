{
 "cells": [
  {
   "cell_type": "markdown",
   "metadata": {},
   "source": [
    "# Estimation \n",
    "\n",
    "In this notebook, we construct a giant likelihood with price, viewership, and sampling weights and estimate everything out. "
   ]
  },
  {
   "cell_type": "code",
   "execution_count": 1,
   "metadata": {
    "collapsed": false
   },
   "outputs": [
    {
     "data": {
      "application/javascript": [
       "IPython.CodeCell.config_defaults.highlight_modes['magic_stata'] = {'reg':[/^%%stata/]};"
      ]
     },
     "metadata": {},
     "output_type": "display_data"
    },
    {
     "data": {
      "text/plain": [
       "'C:\\\\Users\\\\mjbaker\\\\Documents\\\\GitHub\\\\NewsHour'"
      ]
     },
     "execution_count": 1,
     "metadata": {},
     "output_type": "execute_result"
    }
   ],
   "source": [
    "import ipystata\n",
    "import os\n",
    "os.getcwd()"
   ]
  },
  {
   "cell_type": "code",
   "execution_count": 2,
   "metadata": {
    "collapsed": false
   },
   "outputs": [
    {
     "name": "stdout",
     "output_type": "stream",
     "text": [
      "\n",
      "C:\\Users\\mjbaker\\Documents\\Github\\NewsHour\n"
     ]
    }
   ],
   "source": [
    "%%stata -s nh1\n",
    "clear all\n",
    "cd C:\\Users\\mjbaker\\Documents\\Github\\NewsHour\n",
    "use AveragedDataDyno.dta\n",
    "set more off\n",
    "set seed 8675309\n",
    "sort market stationid mt timeslot"
   ]
  },
  {
   "cell_type": "markdown",
   "metadata": {},
   "source": [
    "## Step 1 - read in some data and organize it.\n",
    "\n",
    "Here, we have to organize data and get everything going. Really, this is the same stuff we did in notebook one to get dynamic data aligned with the (observed) viewership likelihood. ALong these lines, we need to reconstitute a few variables that we use and get them into mata. We will create a marker variable so that things work. \n",
    "\n",
    "While previously we developed a \"game\" variable in `mata`, this time around I'll do it in `Stata` just to see if we get the same result:"
   ]
  },
  {
   "cell_type": "code",
   "execution_count": 3,
   "metadata": {
    "collapsed": false
   },
   "outputs": [
    {
     "name": "stdout",
     "output_type": "stream",
     "text": [
      "\n",
      "(1,328 real changes made)\n"
     ]
    }
   ],
   "source": [
    "%%stata -s nh1\n",
    "bysort stationid: egen countl = total(lnews)\n",
    "bysort stationid: gen lasts = _n == _N\n",
    "\n",
    "gen game=lnpps!=. & (lnews | otherl)\n",
    "replace game = 0 if countl ==0"
   ]
  },
  {
   "cell_type": "code",
   "execution_count": 5,
   "metadata": {
    "collapsed": false
   },
   "outputs": [
    {
     "name": "stdout",
     "output_type": "stream",
     "text": [
      "\n",
      "       game |      Freq.     Percent        Cum.\n",
      "------------+-----------------------------------\n",
      "          0 |     16,222       97.59       97.59\n",
      "          1 |        400        2.41      100.00\n",
      "------------+-----------------------------------\n",
      "      Total |     16,622      100.00\n"
     ]
    }
   ],
   "source": [
    "%%stata -s nh1\n",
    "tab game if timeslot == 8"
   ]
  },
  {
   "cell_type": "code",
   "execution_count": 6,
   "metadata": {
    "collapsed": false
   },
   "outputs": [
    {
     "name": "stdout",
     "output_type": "stream",
     "text": [
      "\n",
      "       panel variable:  stationid (strongly balanced)\n",
      "        time variable:  timeslot, 3 to 8\n",
      "                delta:  1 unit\n",
      "(16,622 missing values generated)\n",
      "(16,622 missing values generated)\n",
      "(16,622 missing values generated)\n",
      "(16,622 missing values generated)\n",
      "(16,622 missing values generated)\n",
      "(83,110 real changes made)\n",
      "(16,622 real changes made)\n",
      "(16,622 missing values generated)\n",
      "(16,622 missing values generated)\n",
      "(16,622 missing values generated)\n",
      "(16,622 missing values generated)\n"
     ]
    }
   ],
   "source": [
    "%%stata -s nh1\n",
    "gen useOrd =_n\n",
    "tsset stationid timeslot\n",
    "\n",
    "gen otherlPrime=lnews&game\n",
    "gen lnewsPrime =otherl&game\n",
    "gen nnewsPrime =nnews&game\n",
    "\n",
    "gen lnewslnewsPrime=otherl*l.lnews\n",
    "gen lnewsnnewsPrime=otherl*l.nnews\n",
    "gen nnewslnewsPrime=nnews*l.lnews\n",
    "gen nnewsnnewsPrime=nnews*l.nnews\n",
    "gen lsiPrime=l.si\n",
    "replace lsiPrime=ln(lsiPrime)\n",
    "replace lsiPrime=0 if lsiPrime==.\n",
    "\n",
    "gen siXlnlnPrime=lnewslnewsPrime*lsi\n",
    "gen siXlnnnPrime=lnewsnnewsPrime*lsi\n",
    "gen siXnnlnPrime=nnewslnewsPrime*lsi\n",
    "gen siXnnnnPrime=nnewsnnewsPrime*lsi\n",
    "gen lnewstotPrime=otherl*ln(1+totslnews)\n",
    "gen nnewstotPrime=nnews*ln(1+totsnnews)\n",
    "sort useOrd "
   ]
  },
  {
   "cell_type": "markdown",
   "metadata": {},
   "source": [
    "Pull all the variables into `mata`:"
   ]
  },
  {
   "cell_type": "code",
   "execution_count": 7,
   "metadata": {
    "collapsed": false
   },
   "outputs": [
    {
     "name": "stdout",
     "output_type": "stream",
     "text": [
      "\n",
      ":     st_view(lnewsPrime=.,.,\"lnewsPrime\")\n",
      "\n",
      ":     st_view(otherlPrime=.,.,\"otherlPrime\")\n",
      "\n",
      ":     st_view(nnewsPrime=.,.,\"nnewsPrime\")\n",
      "\n",
      ":     st_view(lnewslnewsPrime=.,.,\"lnewslnewsPrime\")\n",
      "\n",
      ":     st_view(lnewsnnewsPrime=.,.,\"lnewsnnewsPrime\")\n",
      "\n",
      ":     st_view(nnewslnewsPrime=.,.,\"nnewslnewsPrime\")\n",
      "\n",
      ":     st_view(nnewsnnewsPrime=.,.,\"nnewsnnewsPrime\")\n",
      "\n",
      ":     st_view(lsiPrime=.,.,\"lsiPrime\")\n",
      "\n",
      ":     st_view(siXlnlnPrime=.,.,\"siXlnlnPrime\")\n",
      "\n",
      ":     st_view(siXlnnnPrime=.,.,\"siXlnnnPrime\")\n",
      "\n",
      ":     st_view(siXnnlnPrime=.,.,\"siXnnlnPrime\")\n",
      "\n",
      ":     st_view(siXnnnnPrime=.,.,\"siXnnnnPrime\")\n",
      "\n",
      ":     st_view(lnewstotPrime=.,.,\"lnewstotPrime\")\n",
      "\n",
      ":     st_view(nnewstotPrime=.,.,\"nnewstotPrime\")\n",
      "\n",
      ":     st_view(lnewsnnews=.,.,\"lnewsnnews\")\n",
      "\n",
      ":     st_view(nnewslnews=.,.,\"nnewslnews\")\n",
      "\n",
      ":     st_view(nnewsnnews=.,.,\"nnewsnnews\")\n",
      "\n",
      ":     st_view(lsi=.,.,\"lsi\")\n",
      "\n",
      ":     st_view(siXlnln=.,.,\"siXlnln\")\n",
      "\n",
      ":     st_view(siXlnnn=.,.,\"siXlnnn\")\n",
      "\n",
      ":     st_view(siXnnln=.,.,\"siXnnln\")\n",
      "\n",
      ":     st_view(siXnnnn=.,.,\"siXnnnn\")\n",
      "\n",
      ":     st_view(lnewstot=.,.,\"lnewstot\")\n",
      "\n",
      ":     st_view(nnewstot=.,.,\"nnewstot\")\n",
      "\n",
      ":     st_view(l_ACS_HH=.,.,\"l_ACS_HH\")\n",
      "\n",
      ":     st_view(nnewsn=.,.,\"nnewsn\")\n",
      "\n",
      ":     st_view(lnewsn=.,.,\"lnewsn\")\n",
      "\n",
      ":     st_view(otherln=.,.,\"otherln\")\n",
      "\n",
      ":     st_view(othercn=.,.,\"othercn\")\n"
     ]
    }
   ],
   "source": [
    "%%stata -s nh1\n",
    "mata:\n",
    "    st_view(lnewsPrime=.,.,\"lnewsPrime\")\n",
    "    st_view(otherlPrime=.,.,\"otherlPrime\")\n",
    "    st_view(nnewsPrime=.,.,\"nnewsPrime\")\n",
    "    st_view(lnewslnewsPrime=.,.,\"lnewslnewsPrime\")\n",
    "    st_view(lnewsnnewsPrime=.,.,\"lnewsnnewsPrime\")\n",
    "    st_view(nnewslnewsPrime=.,.,\"nnewslnewsPrime\")\n",
    "    st_view(nnewsnnewsPrime=.,.,\"nnewsnnewsPrime\")\n",
    "    st_view(lsiPrime=.,.,\"lsiPrime\")\n",
    "    st_view(siXlnlnPrime=.,.,\"siXlnlnPrime\")\n",
    "    st_view(siXlnnnPrime=.,.,\"siXlnnnPrime\")\n",
    "    st_view(siXnnlnPrime=.,.,\"siXnnlnPrime\")\n",
    "    st_view(siXnnnnPrime=.,.,\"siXnnnnPrime\")\n",
    "    st_view(lnewstotPrime=.,.,\"lnewstotPrime\")\n",
    "    st_view(nnewstotPrime=.,.,\"nnewstotPrime\")\n",
    "\n",
    "    st_view(lnewslnews=.,.,\"lnewslnews\")\n",
    "    st_view(lnewsnnews=.,.,\"lnewsnnews\")\n",
    "    st_view(nnewslnews=.,.,\"nnewslnews\")\n",
    "    st_view(nnewsnnews=.,.,\"nnewsnnews\")\n",
    "    st_view(lsi=.,.,\"lsi\")\n",
    "    st_view(siXlnln=.,.,\"siXlnln\")\n",
    "    st_view(siXlnnn=.,.,\"siXlnnn\")\n",
    "    st_view(siXnnln=.,.,\"siXnnln\")\n",
    "    st_view(siXnnnn=.,.,\"siXnnnn\")\n",
    "    st_view(lnewstot=.,.,\"lnewstot\")\n",
    "    st_view(nnewstot=.,.,\"nnewstot\")\n",
    "    st_view(l_ACS_HH=.,.,\"l_ACS_HH\")\n",
    "    st_view(nnewsn=.,.,\"nnewsn\")\n",
    "    st_view(lnewsn=.,.,\"lnewsn\")\n",
    "    st_view(otherln=.,.,\"otherln\")\n",
    "    st_view(othercn=.,.,\"othercn\")\n",
    "end"
   ]
  },
  {
   "cell_type": "markdown",
   "metadata": {},
   "source": [
    "To make it easier to pass things around, let's create a structured object and use it to pass all this stuff around. We also make a simple initiation function to deal with it (this would be a bit simpler in Python!)"
   ]
  },
  {
   "cell_type": "code",
   "execution_count": 8,
   "metadata": {
    "collapsed": false
   },
   "outputs": [
    {
     "name": "stdout",
     "output_type": "stream",
     "text": [
      "\n",
      ":     struct dynoInfo {\n",
      ">         real matrix lnewslnews, lnewsnnews, nnewslnews, nnewsnnews, lsi,\n",
      ">             siXlnln, siXlnnn, siXnnln, siXnnnn, lnewstot, nnewstot, l_ACS_HH,\n",
      ">             lnewsn,otherln,nnewsn,othercn\n",
      ">     }\n",
      "\n",
      ":     \n",
      ":     struct dynoInfo dynoInfoInit(real matrix lnewslnews, lnewsnnews, nnewslnews, nnewsnnews,\n",
      ">         lsi,siXlnln, siXlnnn,siXnnln, siXnnnn, lnewstot, nnewstot,l_ACS_HH,lnewsn,otherln,nnewsn,othercn)\n",
      ">     {\n",
      ">         struct dynoInfo scalar Dy\n",
      ">     \n",
      ">         Dy.lnewslnews=lnewslnews\n",
      ">         Dy.lnewsnnews=lnewsnnews\n",
      ">         Dy.nnewslnews=nnewslnews\n",
      ">         Dy.nnewsnnews=nnewsnnews\n",
      ">         Dy.lsi=lsi\n",
      ">         Dy.siXlnln=siXlnln\n",
      ">         Dy.siXlnnn=siXlnnn\n",
      ">         Dy.siXnnln=siXnnln\n",
      ">         Dy.siXnnnn=siXnnnn\n",
      ">         Dy.lnewstot=lnewstot\n",
      ">         Dy.nnewstot=nnewstot\n",
      ">         Dy.l_ACS_HH=l_ACS_HH\n",
      ">         Dy.lnewsn=lnewsn\n",
      ">         Dy.otherln=otherln\n",
      ">         Dy.nnewsn=nnewsn\n",
      ">         Dy.othercn=othercn\n",
      ">         return(Dy)\n",
      ">     }\n"
     ]
    }
   ],
   "source": [
    "%%stata -s nh1\n",
    "mata: \n",
    "    struct dynoInfo {\n",
    "        real matrix lnewslnews, lnewsnnews, nnewslnews, nnewsnnews, lsi,\n",
    "            siXlnln, siXlnnn, siXnnln, siXnnnn, lnewstot, nnewstot, l_ACS_HH,\n",
    "            lnewsn,otherln,nnewsn,othercn\n",
    "    }\n",
    "    \n",
    "    struct dynoInfo dynoInfoInit(real matrix lnewslnews, lnewsnnews, nnewslnews, nnewsnnews,\n",
    "        lsi,siXlnln, siXlnnn,siXnnln, siXnnnn, lnewstot, nnewstot,l_ACS_HH,lnewsn,otherln,nnewsn,othercn)\n",
    "    {\n",
    "        struct dynoInfo scalar Dy\n",
    "    \n",
    "        Dy.lnewslnews=lnewslnews\n",
    "        Dy.lnewsnnews=lnewsnnews\n",
    "        Dy.nnewslnews=nnewslnews\n",
    "        Dy.nnewsnnews=nnewsnnews\n",
    "        Dy.lsi=lsi\n",
    "        Dy.siXlnln=siXlnln\n",
    "        Dy.siXlnnn=siXlnnn\n",
    "        Dy.siXnnln=siXnnln\n",
    "        Dy.siXnnnn=siXnnnn\n",
    "        Dy.lnewstot=lnewstot\n",
    "        Dy.nnewstot=nnewstot\n",
    "        Dy.l_ACS_HH=l_ACS_HH\n",
    "        Dy.lnewsn=lnewsn\n",
    "        Dy.otherln=otherln\n",
    "        Dy.nnewsn=nnewsn\n",
    "        Dy.othercn=othercn\n",
    "        return(Dy)\n",
    "    }\n",
    "end"
   ]
  },
  {
   "cell_type": "markdown",
   "metadata": {},
   "source": [
    "Now, just pass all the information along for use in estimation."
   ]
  },
  {
   "cell_type": "code",
   "execution_count": 9,
   "metadata": {
    "collapsed": false
   },
   "outputs": [
    {
     "name": "stdout",
     "output_type": "stream",
     "text": [
      "\n",
      ":     Dy=dynoInfoInit(lnewslnews, lnewsnnews, nnewslnews, nnewsnnews,\n",
      ">         lsi,siXlnln, siXlnnn,siXnnln, siXnnnn, lnewstot, nnewstot,l_ACS_HH,\n",
      ">         lnewsn,otherln,nnewsn,othercn)\n"
     ]
    }
   ],
   "source": [
    "%%stata -s nh1\n",
    "mata:\n",
    "    Dy=dynoInfoInit(lnewslnews, lnewsnnews, nnewslnews, nnewsnnews,\n",
    "        lsi,siXlnln, siXlnnn,siXnnln, siXnnnn, lnewstot, nnewstot,l_ACS_HH,\n",
    "        lnewsn,otherln,nnewsn,othercn)\n",
    "end"
   ]
  },
  {
   "cell_type": "markdown",
   "metadata": {},
   "source": [
    "## Price information\n",
    "\n",
    "Since the above is a pretty convenient way of dealing with a lot of variables, let's also use our previously constructed and saved data on pricing, and pack it up in a similar way:"
   ]
  },
  {
   "cell_type": "code",
   "execution_count": 10,
   "metadata": {
    "collapsed": false
   },
   "outputs": [
    {
     "name": "stdout",
     "output_type": "stream",
     "text": [
      "\n",
      ":     mata matuse MataPriceData\n",
      "(loading idt[3738,1], l_ACS_HHt[3738,1], lnewst[3738,1], lnppst[3738,1], lnviewt[3738,1], mat[101,2], mtt[3738,1], nnewst[3738,1],\n",
      " otherlt[3738,1])\n"
     ]
    }
   ],
   "source": [
    "%%stata -s nh1\n",
    "mata:\n",
    "    mata matuse MataPriceData\n",
    "end\n",
    "    "
   ]
  },
  {
   "cell_type": "markdown",
   "metadata": {},
   "source": [
    "A structured object containing all this information, and using it to pass stuff along:"
   ]
  },
  {
   "cell_type": "code",
   "execution_count": 11,
   "metadata": {
    "collapsed": false
   },
   "outputs": [
    {
     "name": "stdout",
     "output_type": "stream",
     "text": [
      "\n",
      ":    struct priceInfo {\n",
      ">         real matrix y,lnewst,otherlt,nnewst,lnviewt,l_ACS_HHt,id,mt,m\n",
      ">     }\n",
      "\n",
      ":     struct priceInfo priceInfoInit(y,lnewst,otherlt,nnewst,lnviewt,l_ACS_HHt,id,mt,m)\n",
      ">     {\n",
      ">         struct priceInfo scalar pInfo\n",
      ">     \n",
      ">         pInfo.y=y\n",
      ">         pInfo.lnewst=lnewst\n",
      ">         pInfo.otherlt=otherlt\n",
      ">         pInfo.nnewst=nnewst\n",
      ">         pInfo.lnviewt=lnviewt\n",
      ">         pInfo.id=id\n",
      ">         pInfo.mt=mt\n",
      ">         pInfo.m=m\n",
      ">         pInfo.l_ACS_HHt=l_ACS_HHt\n",
      ">     return(pInfo)\n",
      ">     }\n"
     ]
    }
   ],
   "source": [
    "%%stata -s nh1\n",
    "mata:\n",
    "   struct priceInfo {\n",
    "        real matrix y,lnewst,otherlt,nnewst,lnviewt,l_ACS_HHt,id,mt,m\n",
    "    }\n",
    "    struct priceInfo priceInfoInit(y,lnewst,otherlt,nnewst,lnviewt,l_ACS_HHt,id,mt,m)\n",
    "    {\n",
    "        struct priceInfo scalar pInfo\n",
    "    \n",
    "        pInfo.y=y\n",
    "        pInfo.lnewst=lnewst\n",
    "        pInfo.otherlt=otherlt\n",
    "        pInfo.nnewst=nnewst\n",
    "        pInfo.lnviewt=lnviewt\n",
    "        pInfo.id=id\n",
    "        pInfo.mt=mt\n",
    "        pInfo.m=m\n",
    "        pInfo.l_ACS_HHt=l_ACS_HHt\n",
    "    return(pInfo)\n",
    "    }\n",
    "end"
   ]
  },
  {
   "cell_type": "markdown",
   "metadata": {
    "collapsed": true
   },
   "source": [
    "Import our information on selection stuff and the game and all that:"
   ]
  },
  {
   "cell_type": "code",
   "execution_count": 12,
   "metadata": {
    "collapsed": false
   },
   "outputs": [
    {
     "name": "stdout",
     "output_type": "stream",
     "text": [
      "\n",
      ":     mata matuse gsAndus, replace\n",
      "(loading NashW[99732,20], Up[99732,20], Upb[99732,20], Upg[99732,20], Upre1[99732,20], Upre1g[99732,20], Upre2[99732,20], Upre2g[99732,20],\n",
      " Uv[99732,20], Uvg[99732,20], Uvre1[99732,20], Uvre1g[99732,20], Uvre2[99732,20], Uvre2g[99732,20], Uvsg[99732,20], Uvsi[99732,20],\n",
      " id[99732,1], market[99732,1], mt[99732,1], weights1[99732,1], weights2[99732,1])\n"
     ]
    }
   ],
   "source": [
    "%%stata -s nh1\n",
    "mata:\n",
    "    mata matuse gsAndus, replace\n",
    "end"
   ]
  },
  {
   "cell_type": "markdown",
   "metadata": {},
   "source": [
    "Just to e careful...make sure we have the indicators in the right order:"
   ]
  },
  {
   "cell_type": "code",
   "execution_count": 14,
   "metadata": {
    "collapsed": false
   },
   "outputs": [
    {
     "name": "stdout",
     "output_type": "stream",
     "text": [
      "Mata output:\n",
      "\n",
      ":     ord = order((market, id, mt), 1..3)\n",
      "\n",
      ":     \n"
     ]
    }
   ],
   "source": [
    "%%stata -s nh1 --mata\n",
    "    ord = order((market, id, mt), 1..3)\n",
    "    \n"
   ]
  },
  {
   "cell_type": "markdown",
   "metadata": {},
   "source": [
    "## Passing Along the Ackerberg/Game Information\n",
    "\n",
    "We now have to make an efficient way of passing information to the likelihood function. This will include all of our weights, along with all of our error bounds, etc. So, here is the structured object (which we probably should have broken up into smaller pieces!)\n",
    "\n",
    "** Note:** the weights 1 and weights 2 variables pertain to random effects. Otherwise, anything with a following `g` is an importance sampling weight. "
   ]
  },
  {
   "cell_type": "code",
   "execution_count": 15,
   "metadata": {
    "collapsed": false
   },
   "outputs": [
    {
     "name": "stdout",
     "output_type": "stream",
     "text": [
      "Mata output:\n",
      "\n",
      ":     struct gsAndws {\n",
      ">         real matrix NashW, Up, Upb, Upg, Uv, Uvb, Uvg,\n",
      ">             Uvsi, Uvsg,\n",
      ">             lnewsPrime, otherlPrime, nnewsPrime,\n",
      ">             lnewslnewsPrime, lnewsnnewsPrime, nnewslnewsPrime,\n",
      ">             nnewsnnewsPrime, lsiPrime, siXlnlnPrime, siXlnnnPrime,\n",
      ">             siXnnlnPrime, siXnnnnPrime, lnewstotPrime, nnewstotPrime,\n",
      ">             Uvre1, Uvre2, Upre1, Upre2, \n",
      ">             weights1, weights2, Uvre1g, Uvre2g, Upre1g, Upre2g, lnview, l_ACS_HH\n",
      ">     }\n"
     ]
    }
   ],
   "source": [
    "%%stata -s nh1 --mata\n",
    "    struct gsAndws {\n",
    "        real matrix NashW, Up, Upb, Upg, Uv, Uvb, Uvg,\n",
    "            Uvsi, Uvsg,\n",
    "            lnewsPrime, otherlPrime, nnewsPrime,\n",
    "            lnewslnewsPrime, lnewsnnewsPrime, nnewslnewsPrime,\n",
    "            nnewsnnewsPrime, lsiPrime, siXlnlnPrime, siXlnnnPrime,\n",
    "            siXnnlnPrime, siXnnnnPrime, lnewstotPrime, nnewstotPrime,\n",
    "            Uvre1, Uvre2, Upre1, Upre2, \n",
    "            weights1, weights2, Uvre1g, Uvre2g, Upre1g, Upre2g, lnview, l_ACS_HH\n",
    "    }\n"
   ]
  },
  {
   "cell_type": "markdown",
   "metadata": {},
   "source": [
    "Here we initialize this structure. Note that some amount of care must be taken so that everything matches...but dont' forget that this is really just a delivery system!"
   ]
  },
  {
   "cell_type": "code",
   "execution_count": 19,
   "metadata": {
    "collapsed": false
   },
   "outputs": [
    {
     "name": "stdout",
     "output_type": "stream",
     "text": [
      "Mata output:\n",
      "\n",
      ":     struct gsAndws gsAndwsInit(NashW, Up, Upb, Upg, Uv ,Uvb, Uvg,\n",
      ">         Uvsi,Uvsg,\n",
      ">         lnewsPrime, otherlPrime, nnewsPrime,\n",
      ">         lnewslnewsPrime, lnewsnnewsPrime, nnewslnewsPrime, \n",
      ">         nnewsnnewsPrime, lsiPrime, siXlnlnPrime,\n",
      ">         siXlnnnPrime, siXnnlnPrime, siXnnnnPrime, lnewstotPrime, nnewstotPrime,\n",
      ">         Uvre1, Uvre2, Upre1, Upre2, \n",
      ">         weights1, weights2, Uvre1g, Uvre2g, Upre1g, Upre2g, lnview, l_ACS_HH)\n",
      ">     {\n",
      ">         struct gsAndws scalar GW\n",
      "> \n",
      ">         GW.NashW=NashW\n",
      ">         GW.Up    = Up\n",
      ">         GW.Upb   = Upb\n",
      ">         GW.Upg   = Upg\n",
      ">         GW.Uv    = Uv\n",
      ">         GW.Uvb   = Uvb\n",
      ">         GW.Uvg   = Uvg\n",
      ">         GW.Uvsi  = Uvsi\n",
      ">         GW.Uvsg  = Uvsg\n",
      ">         \n",
      ">         GW.lnewsPrime      = lnewsPrime\n",
      ">         GW.otherlPrime     = otherlPrime\n",
      ">         GW.nnewsPrime      = nnewsPrime\n",
      ">         GW.lnewslnewsPrime = lnewslnewsPrime\n",
      ">         GW.lnewsnnewsPrime = lnewsnnewsPrime\n",
      ">         GW.nnewslnewsPrime = nnewslnewsPrime\n",
      ">         GW.nnewsnnewsPrime = nnewsnnewsPrime\n",
      ">         GW.lsiPrime        = lsiPrime\n",
      ">         GW.siXlnlnPrime    = siXlnlnPrime\n",
      ">         GW.siXlnnnPrime    = siXlnnnPrime\n",
      ">         GW.siXnnlnPrime    = siXnnlnPrime\n",
      ">         GW.siXnnnnPrime    = siXnnnnPrime\n",
      ">         GW.lnewstotPrime   = lnewstotPrime\n",
      ">         GW.nnewstotPrime   = nnewstotPrime\n",
      ">         GW.Uvre1    = Uvre1\n",
      ">         GW.Uvre2    = Uvre2\n",
      ">         GW.Upre1    = Upre1\n",
      ">         GW.Upre2    = Upre2\n",
      ">         GW.weights1 = weights1\n",
      ">         GW.weights2 = weights2\n",
      ">         GW.Uvre1g   = Uvre1g\n",
      ">         GW.Uvre2g   = Uvre2g\n",
      ">         GW.Upre1g   = Upre1g\n",
      ">         GW.Upre2g   = Upre2g\n",
      ">         GW.lnview   = lnview\n",
      ">         GW.l_ACS_HH = l_ACS_HH\n",
      "> \n",
      ">         return(GW)\n",
      ">     }\n"
     ]
    }
   ],
   "source": [
    "%%stata -s nh1 --mata \n",
    "    struct gsAndws gsAndwsInit(NashW, Up, Upb, Upg, Uv ,Uvb, Uvg,\n",
    "        Uvsi,Uvsg,\n",
    "        lnewsPrime, otherlPrime, nnewsPrime,\n",
    "        lnewslnewsPrime, lnewsnnewsPrime, nnewslnewsPrime, \n",
    "        nnewsnnewsPrime, lsiPrime, siXlnlnPrime,\n",
    "        siXlnnnPrime, siXnnlnPrime, siXnnnnPrime, lnewstotPrime, nnewstotPrime,\n",
    "        Uvre1, Uvre2, Upre1, Upre2, \n",
    "        weights1, weights2, Uvre1g, Uvre2g, Upre1g, Upre2g, lnview, l_ACS_HH)\n",
    "    {\n",
    "        struct gsAndws scalar GW\n",
    "\n",
    "        GW.NashW=NashW\n",
    "        GW.Up    = Up\n",
    "        GW.Upb   = Upb\n",
    "        GW.Upg   = Upg\n",
    "        GW.Uv    = Uv\n",
    "        GW.Uvb   = Uvb\n",
    "        GW.Uvg   = Uvg\n",
    "        GW.Uvsi  = Uvsi\n",
    "        GW.Uvsg  = Uvsg\n",
    "        \n",
    "        GW.lnewsPrime      = lnewsPrime\n",
    "        GW.otherlPrime     = otherlPrime\n",
    "        GW.nnewsPrime      = nnewsPrime\n",
    "        GW.lnewslnewsPrime = lnewslnewsPrime\n",
    "        GW.lnewsnnewsPrime = lnewsnnewsPrime\n",
    "        GW.nnewslnewsPrime = nnewslnewsPrime\n",
    "        GW.nnewsnnewsPrime = nnewsnnewsPrime\n",
    "        GW.lsiPrime        = lsiPrime\n",
    "        GW.siXlnlnPrime    = siXlnlnPrime\n",
    "        GW.siXlnnnPrime    = siXlnnnPrime\n",
    "        GW.siXnnlnPrime    = siXnnlnPrime\n",
    "        GW.siXnnnnPrime    = siXnnnnPrime\n",
    "        GW.lnewstotPrime   = lnewstotPrime\n",
    "        GW.nnewstotPrime   = nnewstotPrime\n",
    "        GW.Uvre1    = Uvre1\n",
    "        GW.Uvre2    = Uvre2\n",
    "        GW.Upre1    = Upre1\n",
    "        GW.Upre2    = Upre2\n",
    "        GW.weights1 = weights1\n",
    "        GW.weights2 = weights2\n",
    "        GW.Uvre1g   = Uvre1g\n",
    "        GW.Uvre2g   = Uvre2g\n",
    "        GW.Upre1g   = Upre1g\n",
    "        GW.Upre2g   = Upre2g\n",
    "        GW.lnview   = lnview\n",
    "        GW.l_ACS_HH = l_ACS_HH\n",
    "\n",
    "        return(GW)\n",
    "    }"
   ]
  },
  {
   "cell_type": "code",
   "execution_count": 18,
   "metadata": {
    "collapsed": false
   },
   "outputs": [
    {
     "name": "stdout",
     "output_type": "stream",
     "text": [
      "Mata output:\n",
      "\n",
      "\n"
     ]
    }
   ],
   "source": [
    "%%stata -s nh1 --mata\n",
    "mata drop gsAndwsInit()"
   ]
  },
  {
   "cell_type": "markdown",
   "metadata": {},
   "source": [
    "Now, we pare all these down so that we just have the stuff for those involved in the game, (I checked to make sure things ling up as well). So:"
   ]
  },
  {
   "cell_type": "code",
   "execution_count": 20,
   "metadata": {
    "collapsed": false
   },
   "outputs": [
    {
     "name": "stdout",
     "output_type": "stream",
     "text": [
      "Mata output:\n",
      "\n",
      ":     NashW = select(NashW, game)\n",
      "\n",
      ":         _editmissing(NashW,  0)\n",
      "\n",
      ":     Up     = select(Up,   game)\n",
      "\n",
      ":     Upb    = select(Upb,  game)\n",
      "\n",
      ":     Upg    = select(Upg,  game)\n",
      "\n",
      ":     Uvsi   = select(Uvsi, game)\n",
      "\n",
      ":     Uvsg   = select(Uvsg, game)\n",
      "\n",
      ":     Uv     = select(Uv,   game)\n",
      "\n",
      ":     Uvb    = select(Uvb,  game)\n",
      "                 <istmt>:  3499  Uvb not found\n",
      "-------------------------------------------------------------------------------------------------------------------------------------------------\n",
      "r(3499);\n",
      "command Uvg is unrecognized\n",
      "r(199);\n",
      ".     Uvre1  =   select(Uvre1, game)\n",
      "command Uvre1 is unrecognized\n",
      "r(199);\n",
      "command Uvre2 is unrecognized\n",
      "r(199);\n",
      "command Upre1 is unrecognized\n",
      "r(199);\n",
      "command Upre2 is unrecognized\n",
      "r(199);\n",
      "command weights1 is unrecognized\n",
      "r(199);\n",
      "command weights2 is unrecognized\n",
      "r(199);\n",
      "command Uvre1g is unrecognized\n",
      "r(199);\n",
      "command Uvre2g is unrecognized\n",
      "r(199);\n",
      "command Upre1g is unrecognized\n",
      "r(199);\n",
      "command Upre2g is unrecognized\n",
      "r(199);\n",
      ".     Mpop=select(Mpop,game)\n",
      "command Mpop is unrecognized\n",
      "r(199);\n",
      "command lnewsPrime is unrecognized\n",
      "r(199);\n",
      "command nnewsPrime is unrecognized\n",
      "r(199);\n",
      "command otherlPrime is unrecognized\n",
      "r(199);\n",
      "command lnewslnewsPrime is unrecognized\n",
      "r(199);\n",
      "command _editmissing is unrecognized\n",
      "r(199);\n",
      "command lnewsnnewsPrime is unrecognized\n",
      "r(199);\n",
      "command _editmissing is unrecognized\n",
      "r(199);\n",
      "command nnewslnewsPrime is unrecognized\n",
      "r(199);\n",
      "command _editmissing is unrecognized\n",
      "r(199);\n",
      "command nnewsnnewsPrime is unrecognized\n",
      "r(199);\n",
      "command _editmissing is unrecognized\n",
      "r(199);\n",
      "command lsiPrime is unrecognized\n",
      "r(199);\n",
      "command _editmissing is unrecognized\n",
      "r(199);\n",
      "command siXlnlnPrime is unrecognized\n",
      "r(199);\n",
      "command _editmissing is unrecognized\n",
      "r(199);\n",
      "command siXlnnnPrime is unrecognized\n",
      "r(199);\n",
      "command _editmissing is unrecognized\n",
      "r(199);\n",
      "command siXnnlnPrime is unrecognized\n",
      "r(199);\n",
      "command _editmissing is unrecognized\n",
      "r(199);\n",
      "command siXnnnnPrime is unrecognized\n",
      "r(199);\n",
      "command _editmissing is unrecognized\n",
      "r(199);\n",
      "command lnewstotPrime is unrecognized\n",
      "r(199);\n",
      "command nnewstotPrime is unrecognized\n",
      "r(199);\n",
      ".     l_ACS_HHPrime  = select(l_ACS_HH,game)\n",
      "command l_ACS_HHPrime is unrecognized\n",
      "r(199);\n",
      "command end is unrecognized\n",
      "r(199);\n"
     ]
    }
   ],
   "source": [
    "%%stata -s nh1 --mata\n",
    "    NashW = select(NashW, game)\n",
    "        _editmissing(NashW,  0)\n",
    "    Up     = select(Up,   game)\n",
    "    Upb    = select(Upb,  game)\n",
    "    Upg    = select(Upg,  game)\n",
    "    Uvsi   = select(Uvsi, game)\n",
    "    Uvsg   = select(Uvsg, game)\n",
    "    Uv     = select(Uv,   game)\n",
    "    Uvb    = select(Uvb,  game)\n",
    "    Uvg    = select(Uvg,  game)\n",
    "    \n",
    "    Uvre1  =   select(Uvre1, game)\n",
    "    Uvre2  =   select(Uvre2, game)\n",
    "    Upre1  =   select(Upre1, game)\n",
    "    Upre2  =    select(Upre2, game)\n",
    "    weights1  = select(weights1, game)\n",
    "    weights2  = select(weights2, game)\n",
    "    Uvre1g    = select(Uvre1g, game)\n",
    "    Uvre2g    = select(Uvre2g, game)\n",
    "    Upre1g    = select(Upre1g, game)\n",
    "    Upre2g    = select(Upre2g, game)\n",
    "    \n",
    "    Mpop=select(Mpop,game)\n",
    "\n",
    "    lnewsPrime  = select(lnewsPrime, game)\n",
    "    nnewsPrime  = select(nnewsPrime, game)\n",
    "    otherlPrime = select(otherlPrime,game)\n",
    "    lnewslnewsPrime  = select(lnewslnewsPrime, game)\n",
    "        _editmissing(lnewslnewsPrime, 0)\n",
    "    lnewsnnewsPrime  = select(lnewsnnewsPrime, game)\n",
    "        _editmissing(lnewsnnewsPrime, 0)\n",
    "    nnewslnewsPrime  = select(nnewslnewsPrime,game)\n",
    "        _editmissing(nnewslnewsPrime,0)\n",
    "    nnewsnnewsPrime  = select(nnewsnnewsPrime,game)\n",
    "        _editmissing(nnewsnnewsPrime,0)\n",
    "    lsiPrime      =  select(lsiPrime,game)\n",
    "        _editmissing(lsiPrime,0)\n",
    "    siXlnlnPrime  =  select(siXlnlnPrime,game)\n",
    "        _editmissing(siXlnlnPrime,0)\n",
    "    siXlnnnPrime  =  select(siXlnnnPrime,game)\n",
    "        _editmissing(siXlnnnPrime,0)\n",
    "    siXnnlnPrime  =  select(siXnnlnPrime,game)\n",
    "        _editmissing(siXnnlnPrime,0)\n",
    "    siXnnnnPrime  =  select(siXnnnnPrime,game)\n",
    "        _editmissing(siXnnnnPrime,0)\n",
    "    lnewstotPrime  = select(lnewstotPrime,game)\n",
    "    nnewstotPrime  = select(nnewstotPrime,game)\n",
    "    \n",
    "    l_ACS_HHPrime  = select(l_ACS_HH,game)"
   ]
  },
  {
   "cell_type": "markdown",
   "metadata": {},
   "source": [
    "Next we can pass all of this to the structured object - or more correctly, the function that initiates it. Here goes"
   ]
  },
  {
   "cell_type": "code",
   "execution_count": null,
   "metadata": {
    "collapsed": true
   },
   "outputs": [],
   "source": []
  }
 ],
 "metadata": {
  "kernelspec": {
   "display_name": "Python 3",
   "language": "python",
   "name": "python3"
  },
  "language_info": {
   "codemirror_mode": {
    "name": "ipython",
    "version": 3
   },
   "file_extension": ".py",
   "mimetype": "text/x-python",
   "name": "python",
   "nbconvert_exporter": "python",
   "pygments_lexer": "ipython3",
   "version": "3.5.1"
  }
 },
 "nbformat": 4,
 "nbformat_minor": 0
}

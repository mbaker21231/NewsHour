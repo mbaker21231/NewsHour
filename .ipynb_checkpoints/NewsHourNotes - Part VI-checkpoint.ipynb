{
 "cells": [
  {
   "cell_type": "markdown",
   "metadata": {},
   "source": [
    "# Estimation \n",
    "\n",
    "In this notebook, we construct a giant likelihood with price, viewership, and sampling weights and estimate everything out. "
   ]
  },
  {
   "cell_type": "code",
   "execution_count": null,
   "metadata": {
    "collapsed": false
   },
   "outputs": [],
   "source": [
    "import ipystata\n",
    "import os\n",
    "os.getcwd()"
   ]
  },
  {
   "cell_type": "code",
   "execution_count": null,
   "metadata": {
    "collapsed": false
   },
   "outputs": [],
   "source": [
    "%%stata -s nh1\n",
    "clear all\n",
    "cd C:\\Users\\mjbaker\\Documents\\Github\\NewsHour\n",
    "use AveragedDataDyno.dta\n",
    "set more off\n",
    "set seed 8675309\n",
    "sort market stationid mt timeslot"
   ]
  },
  {
   "cell_type": "markdown",
   "metadata": {},
   "source": [
    "## Step 1 - read in some data and organize it.\n",
    "\n",
    "Here, we have to organize data and get everything going. Really, this is the same stuff we did in notebook one to get dynamic data aligned with the (observed) viewership likelihood. ALong these lines, we need to reconstitute a few variables that we use and get them into mata. We will create a marker variable so that things work. \n",
    "\n",
    "While previously we developed a \"game\" variable in `mata`, this time around I'll do it in `Stata` just to see if we get the same result:"
   ]
  },
  {
   "cell_type": "code",
   "execution_count": null,
   "metadata": {
    "collapsed": false
   },
   "outputs": [],
   "source": [
    "%%stata -s nh1\n",
    "bysort stationid: egen countl = total(lnews)\n",
    "bysort stationid: gen lasts = _n == _N\n",
    "\n",
    "gen game=lnpps!=. & (lnews | otherl)\n",
    "replace game = 0 if countl ==0"
   ]
  },
  {
   "cell_type": "code",
   "execution_count": null,
   "metadata": {
    "collapsed": false
   },
   "outputs": [],
   "source": [
    "%%stata -s nh1\n",
    "gen useOrd =_n\n",
    "tsset stationid timeslot\n",
    "\n",
    "gen otherlPrime=lnews&game\n",
    "gen lnewsPrime =otherl&game\n",
    "gen nnewsPrime =nnews&game\n",
    "\n",
    "gen lnewslnewsPrime=otherl*l.lnews\n",
    "gen lnewsnnewsPrime=otherl*l.nnews\n",
    "gen nnewslnewsPrime=nnews*l.lnews\n",
    "gen nnewsnnewsPrime=nnews*l.nnews\n",
    "gen lsiPrime=l.si\n",
    "replace lsiPrime=ln(lsiPrime)\n",
    "replace lsiPrime=0 if lsiPrime==.\n",
    "\n",
    "gen siXlnlnPrime=lnewslnewsPrime*lsi\n",
    "gen siXlnnnPrime=lnewsnnewsPrime*lsi\n",
    "gen siXnnlnPrime=nnewslnewsPrime*lsi\n",
    "gen siXnnnnPrime=nnewsnnewsPrime*lsi\n",
    "gen lnewstotPrime=otherl*ln(1+totslnews)\n",
    "gen nnewstotPrime=nnews*ln(1+totsnnews)\n",
    "sort useOrd "
   ]
  },
  {
   "cell_type": "markdown",
   "metadata": {},
   "source": [
    "Pull all the variables into `mata`:"
   ]
  },
  {
   "cell_type": "code",
   "execution_count": null,
   "metadata": {
    "collapsed": false
   },
   "outputs": [],
   "source": [
    "%%stata -s nh1\n",
    "mata:\n",
    "    st_view(lnewsPrime=.,.,\"lnewsPrime\")\n",
    "    st_view(otherlPrime=.,.,\"otherlPrime\")\n",
    "    st_view(nnewsPrime=.,.,\"nnewsPrime\")\n",
    "    st_view(lnewslnewsPrime=.,.,\"lnewslnewsPrime\")\n",
    "    st_view(lnewsnnewsPrime=.,.,\"lnewsnnewsPrime\")\n",
    "    st_view(nnewslnewsPrime=.,.,\"nnewslnewsPrime\")\n",
    "    st_view(nnewsnnewsPrime=.,.,\"nnewsnnewsPrime\")\n",
    "    st_view(lsiPrime=.,.,\"lsiPrime\")\n",
    "    st_view(siXlnlnPrime=.,.,\"siXlnlnPrime\")\n",
    "    st_view(siXlnnnPrime=.,.,\"siXlnnnPrime\")\n",
    "    st_view(siXnnlnPrime=.,.,\"siXnnlnPrime\")\n",
    "    st_view(siXnnnnPrime=.,.,\"siXnnnnPrime\")\n",
    "    st_view(lnewstotPrime=.,.,\"lnewstotPrime\")\n",
    "    st_view(nnewstotPrime=.,.,\"nnewstotPrime\")\n",
    "\n",
    "    st_view(lnewslnews=.,.,\"lnewslnews\")\n",
    "    st_view(lnewsnnews=.,.,\"lnewsnnews\")\n",
    "    st_view(nnewslnews=.,.,\"nnewslnews\")\n",
    "    st_view(nnewsnnews=.,.,\"nnewsnnews\")\n",
    "    st_view(lsi=.,.,\"lsi\")\n",
    "    st_view(siXlnln=.,.,\"siXlnln\")\n",
    "    st_view(siXlnnn=.,.,\"siXlnnn\")\n",
    "    st_view(siXnnln=.,.,\"siXnnln\")\n",
    "    st_view(siXnnnn=.,.,\"siXnnnn\")\n",
    "    st_view(lnewstot=.,.,\"lnewstot\")\n",
    "    st_view(nnewstot=.,.,\"nnewstot\")\n",
    "    st_view(l_ACS_HH=.,.,\"l_ACS_HH\")\n",
    "    st_view(nnewsn=.,.,\"nnewsn\")\n",
    "    st_view(lnewsn=.,.,\"lnewsn\")\n",
    "    st_view(otherln=.,.,\"otherln\")\n",
    "    st_view(othercn=.,.,\"othercn\")\n",
    "end"
   ]
  },
  {
   "cell_type": "markdown",
   "metadata": {},
   "source": [
    "To make it easier to pass things around, let's create a structured object and use it to pass all this stuff around. We also make a simple initiation function to deal with it (this would be a bit simpler in Python!)"
   ]
  },
  {
   "cell_type": "code",
   "execution_count": null,
   "metadata": {
    "collapsed": false
   },
   "outputs": [],
   "source": [
    "%%stata -s nh1\n",
    "mata: \n",
    "    struct dynoInfo {\n",
    "        real matrix lnewslnews, lnewsnnews, nnewslnews, nnewsnnews, lsi,\n",
    "            siXlnln, siXlnnn, siXnnln, siXnnnn, lnewstot, nnewstot, l_ACS_HH,\n",
    "            lnewsn,otherln,nnewsn,othercn\n",
    "    }\n",
    "    \n",
    "    struct dynoInfo dynoInfoInit(real matrix lnewslnews, lnewsnnews, nnewslnews, nnewsnnews,\n",
    "        lsi,siXlnln, siXlnnn,siXnnln, siXnnnn, lnewstot, nnewstot,l_ACS_HH,lnewsn,otherln,nnewsn,othercn)\n",
    "    {\n",
    "        struct dynoInfo scalar Dy\n",
    "    \n",
    "        Dy.lnewslnews=lnewslnews\n",
    "        Dy.lnewsnnews=lnewsnnews\n",
    "        Dy.nnewslnews=nnewslnews\n",
    "        Dy.nnewsnnews=nnewsnnews\n",
    "        Dy.lsi=lsi\n",
    "        Dy.siXlnln=siXlnln\n",
    "        Dy.siXlnnn=siXlnnn\n",
    "        Dy.siXnnln=siXnnln\n",
    "        Dy.siXnnnn=siXnnnn\n",
    "        Dy.lnewstot=lnewstot\n",
    "        Dy.nnewstot=nnewstot\n",
    "        Dy.l_ACS_HH=l_ACS_HH\n",
    "        Dy.lnewsn=lnewsn\n",
    "        Dy.otherln=otherln\n",
    "        Dy.nnewsn=nnewsn\n",
    "        Dy.othercn=othercn\n",
    "        return(Dy)\n",
    "    }\n",
    "end"
   ]
  },
  {
   "cell_type": "markdown",
   "metadata": {},
   "source": [
    "Now, just pass all the information along for use in estimation."
   ]
  },
  {
   "cell_type": "code",
   "execution_count": null,
   "metadata": {
    "collapsed": false
   },
   "outputs": [],
   "source": [
    "%%stata -s nh1\n",
    "mata:\n",
    "    Dy=dynoInfoInit(lnewslnews, lnewsnnews, nnewslnews, nnewsnnews,\n",
    "        lsi,siXlnln, siXlnnn,siXnnln, siXnnnn, lnewstot, nnewstot,l_ACS_HH,\n",
    "        lnewsn,otherln,nnewsn,othercn)\n",
    "end"
   ]
  },
  {
   "cell_type": "markdown",
   "metadata": {},
   "source": [
    "## Price information\n",
    "\n",
    "Since the above is a pretty convenient way of dealing with a lot of variables, let's also use our previously constructed and saved data on pricing, and pack it up in a similar way:"
   ]
  },
  {
   "cell_type": "code",
   "execution_count": null,
   "metadata": {
    "collapsed": false
   },
   "outputs": [],
   "source": [
    "%%stata -s nh1\n",
    "mata:\n",
    "    mata matuse MataPriceData\n",
    "end\n",
    "    "
   ]
  },
  {
   "cell_type": "markdown",
   "metadata": {},
   "source": [
    "A structured object containing all this information, and using it to pass stuff along:"
   ]
  },
  {
   "cell_type": "code",
   "execution_count": null,
   "metadata": {
    "collapsed": false
   },
   "outputs": [],
   "source": [
    "%%stata -s nh1\n",
    "mata:\n",
    "   struct priceInfo {\n",
    "        real matrix y,lnewst,otherlt,nnewst,lnviewt,l_ACS_HHt,id,mt,m\n",
    "    }\n",
    "    struct priceInfo priceInfoInit(y,lnewst,otherlt,nnewst,lnviewt,l_ACS_HHt,id,mt,m)\n",
    "    {\n",
    "        struct priceInfo scalar pInfo\n",
    "    \n",
    "        pInfo.y=y\n",
    "        pInfo.lnewst=lnewst\n",
    "        pInfo.otherlt=otherlt\n",
    "        pInfo.nnewst=nnewst\n",
    "        pInfo.lnviewt=lnviewt\n",
    "        pInfo.id=id\n",
    "        pInfo.mt=mt\n",
    "        pInfo.m=m\n",
    "        pInfo.l_ACS_HHt=l_ACS_HHt\n",
    "    return(pInfo)\n",
    "    }\n",
    "end"
   ]
  },
  {
   "cell_type": "code",
   "execution_count": null,
   "metadata": {
    "collapsed": true
   },
   "outputs": [],
   "source": []
  }
 ],
 "metadata": {
  "kernelspec": {
   "display_name": "Python 3",
   "language": "python",
   "name": "python3"
  },
  "language_info": {
   "codemirror_mode": {
    "name": "ipython",
    "version": 3
   },
   "file_extension": ".py",
   "mimetype": "text/x-python",
   "name": "python",
   "nbconvert_exporter": "python",
   "pygments_lexer": "ipython3",
   "version": "3.5.1"
  }
 },
 "nbformat": 4,
 "nbformat_minor": 0
}

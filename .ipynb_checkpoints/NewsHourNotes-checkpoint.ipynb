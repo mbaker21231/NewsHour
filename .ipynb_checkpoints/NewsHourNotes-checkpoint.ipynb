{
 "cells": [
  {
   "cell_type": "markdown",
   "metadata": {},
   "source": [
    "# The News Hour \n",
    "## Estimating the welfare impact of television news\n",
    "\n",
    "by Matthew Baker and Lisa George\n",
    "\n",
    "In our paper, which you can find [at SSRN](http://papers.ssrn.com/sol3/papers.cfm?abstract_id=2694687), we describe what turns out to be a rather complex model of television news. This model includes several features, including:\n",
    "\n",
    "1. A viewership model with nested multinomial logit demand,\n",
    "2. A log-linear price model, \n",
    "3. Strategic interactions among stations with the aim of getting the most advertising revenues: Stations choose program menus to maximize their average nightly advertising revenues, which depend upon viewership shares and programming choices. \n",
    "\n",
    "Since there are a lot of moving parts - that we ourselves have to keep track of in details - we thought a notebook detailing various aspects of estimation would be a good idea, particularly if anyone else wanted to use some of the methods! In this first notebook, I will discuss data setup. \n",
    "\n",
    "# Data Setup\n",
    "\n",
    "The first thing to do, of course, is read in the data and render it in a manageable form. We need to revise settings and all that as well. We focus on the 2010 data, where our `sample` variable marks useable observations. We also exclude observations for which the variable `h` is not equal to twenty. This means that we are excluding observations from the twentieth hour of the day (e.g, 8 o'clock) because that is into prime time. \n"
   ]
  },
  {
   "cell_type": "code",
   "execution_count": null,
   "metadata": {
    "collapsed": true
   },
   "outputs": [],
   "source": [
    "%%stata\n",
    "\n",
    "clear all\n",
    "set matsize 1000\n",
    "use \"/Data/NielsenKantarPanel.dta\" if year == 2010 & sample == 1 & h != 20"
   ]
  },
  {
   "cell_type": "markdown",
   "metadata": {},
   "source": [
    "Now, we make a variable marking all of our timeslots. Observe that the time slots are marked by hour, and then whether or not they are the first or second half of the hour. Accordingly:"
   ]
  },
  {
   "cell_type": "code",
   "execution_count": null,
   "metadata": {
    "collapsed": true
   },
   "outputs": [],
   "source": [
    "%%stata\n",
    "\n",
    "gen     timeslot = 1 if h == 16 & half == 1\n",
    "replace timeslot = 2 if h == 16 & half == 2\n",
    "replace timeslot = 3 if h == 17 & half == 1\n",
    "replace timeslot = 4 if h == 17 & half == 2\n",
    "replace timeslot = 5 if h == 18 & half == 1\n",
    "replace timeslot = 6 if h == 18 & half == 2\n",
    "replace timeslot = 7 if h == 19 & half == 1\n",
    "replace timeslot = 8 if h == 19 & half == 2"
   ]
  }
 ],
 "metadata": {
  "kernelspec": {
   "display_name": "Python 3",
   "language": "python",
   "name": "python3"
  },
  "language_info": {
   "codemirror_mode": {
    "name": "ipython",
    "version": 3
   },
   "file_extension": ".py",
   "mimetype": "text/x-python",
   "name": "python",
   "nbconvert_exporter": "python",
   "pygments_lexer": "ipython3",
   "version": "3.5.1"
  }
 },
 "nbformat": 4,
 "nbformat_minor": 0
}

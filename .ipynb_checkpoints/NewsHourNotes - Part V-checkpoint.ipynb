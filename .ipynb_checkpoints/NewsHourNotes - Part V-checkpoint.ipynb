{
 "cells": [
  {
   "cell_type": "markdown",
   "metadata": {},
   "source": [
    "# Part V - The News Hour - Estimation Setup\n",
    "\n",
    "Now we have in previous notebooks set up the problem, drawn some preliminary values, along with their importance weights,  and so on. Now, we can finally estimate the model - after a little bit more work - which will involve writing down a big likelihood function (of which some parts we already have). \n",
    "\n",
    "Before doing this, we read in our data and get it into shape for mata: "
   ]
  },
  {
   "cell_type": "code",
   "execution_count": 1,
   "metadata": {
    "collapsed": false
   },
   "outputs": [
    {
     "name": "stdout",
     "output_type": "stream",
     "text": [
      "Terminated 1 unattached Stata session(s).\n"
     ]
    },
    {
     "data": {
      "application/javascript": [
       "IPython.CodeCell.config_defaults.highlight_modes['magic_stata'] = {'reg':[/^%%stata/]};"
      ]
     },
     "metadata": {},
     "output_type": "display_data"
    },
    {
     "data": {
      "text/plain": [
       "'C:\\\\Users\\\\mjbaker\\\\Documents\\\\GitHub\\\\NewsHour'"
      ]
     },
     "execution_count": 1,
     "metadata": {},
     "output_type": "execute_result"
    }
   ],
   "source": [
    "import ipystata\n",
    "import os\n",
    "os.getcwd()"
   ]
  },
  {
   "cell_type": "markdown",
   "metadata": {},
   "source": [
    "Let's open up a stata session, but this time be careful to name it. This will let us do other stuff in Stata while we are watching this program run..."
   ]
  },
  {
   "cell_type": "code",
   "execution_count": 2,
   "metadata": {
    "collapsed": false
   },
   "outputs": [
    {
     "name": "stdout",
     "output_type": "stream",
     "text": [
      "\n",
      "C:\\Users\\mjbaker\\Documents\\Github\\NewsHour\n"
     ]
    }
   ],
   "source": [
    "%%stata -s nh1\n",
    "cd C:\\Users\\mjbaker\\Documents\\Github\\NewsHour\n"
   ]
  },
  {
   "cell_type": "code",
   "execution_count": 3,
   "metadata": {
    "collapsed": false
   },
   "outputs": [
    {
     "name": "stdout",
     "output_type": "stream",
     "text": [
      "\n",
      ".  use \"AveragedDataDyno.dta\", clear\n"
     ]
    }
   ],
   "source": [
    "%%stata -s nh1\n",
    "use \"AveragedDataDyno.dta\", clear"
   ]
  },
  {
   "cell_type": "markdown",
   "metadata": {},
   "source": [
    "Regenerate a marker for our game variable - which we will have to modify a bit as before! Then, get all our variables into mata and develop create a panel variable for each market in `mata`. \n",
    "\n",
    "Note how, in the non-panelized data we edit out those stations that never broadcast local news from consideration in the game. "
   ]
  },
  {
   "cell_type": "code",
   "execution_count": 5,
   "metadata": {
    "collapsed": false
   },
   "outputs": [
    {
     "name": "stdout",
     "output_type": "stream",
     "text": [
      "\n",
      "variable gameCount already defined\n",
      "r(110);\n",
      "variable lnewsCount already defined\n",
      "r(110);\n",
      "(0 real changes made)\n"
     ]
    }
   ],
   "source": [
    "%%stata -s nh1\n",
    "capture gen game = (lnews | otherl) & lnpps != .\n",
    "bysort stationid: egen gameCount = total(game)\n",
    "bysort stationid: egen lnewsCount = total(lnews)\n",
    "replace game = 0 if lnewsCount == 0 "
   ]
  },
  {
   "cell_type": "code",
   "execution_count": 6,
   "metadata": {
    "collapsed": false
   },
   "outputs": [
    {
     "name": "stdout",
     "output_type": "stream",
     "text": [
      "\n",
      "(2,400 real changes made)\n",
      "\n",
      "  gameCheck |      Freq.     Percent        Cum.\n",
      "------------+-----------------------------------\n",
      "          0 |     16,222       97.59       97.59\n",
      "          1 |        400        2.41      100.00\n",
      "------------+-----------------------------------\n",
      "      Total |     16,622      100.00\n"
     ]
    }
   ],
   "source": [
    "%%stata -s nh1\n",
    "bysort stationid: egen gameCheck = total(game)\n",
    "replace gameCheck = gameCheck > 0 \n",
    "bysort stationid: gen lastObs = _n == _N\n",
    "tab gameCheck if lastObs\n",
    "drop gameCheck"
   ]
  },
  {
   "cell_type": "markdown",
   "metadata": {},
   "source": [
    "We see from the above that we have the same number of observations \"in the game\" as we should from previous efforts. Anyways, continuing on...Let's pull our data into Mata and then reshape it."
   ]
  },
  {
   "cell_type": "code",
   "execution_count": 7,
   "metadata": {
    "collapsed": false
   },
   "outputs": [
    {
     "name": "stdout",
     "output_type": "stream",
     "text": [
      "Mata output:\n",
      "\n",
      ":     st_view(lnews=.,.,\"lnews\")\n",
      "\n",
      ":     st_view(nnews=.,.,\"nnews\")\n",
      "\n",
      ":     st_view(otherl=.,.,\"otherl\")\n",
      "\n",
      ":     st_view(otherc=.,.,\"otherc\")\n",
      "\n",
      ":     st_view(si=.,.,\"si\")\n",
      "\n",
      ":     st_view(mt=.,.,\"mt\")\n",
      "\n",
      ":     st_view(id=.,.,\"stationid\")\n",
      "\n",
      ":     st_view(M=.,.,\"market\")\n",
      "\n",
      ":     st_view(time=.,.,\"timeslot\")\n",
      "\n",
      ":     st_view(game=.,.,\"game\")\n",
      "\n",
      ":     st_view(lnpps=.,.,\"lnpps\")\n",
      "\n",
      ":     st_view(pop=.,.,\"ACS_HH\") \n",
      "\n",
      ":     st_view(l_ACS_HH=.,.,\"l_ACS_HH\")\n",
      "\n",
      ":     st_view(lnewsn=.,.,\"lnewsn\")\n",
      "\n",
      ":     st_view(otherln=.,.,\"otherln\")\n",
      "\n",
      ":     st_view(nnewsn=.,.,\"nnewsn\")\n",
      "\n",
      ":     st_view(othercn=.,.,\"othercn\")\n",
      "\n",
      ":     st_view(dln=.,.,\"dln\")\n",
      "\n",
      ":     lnviewn=ln(pop:*si)\n",
      "\n",
      ":     m=panelsetup(M,1)\n"
     ]
    }
   ],
   "source": [
    "%%stata -s nh1 --mata\n",
    "    st_view(lnews=.,.,\"lnews\")\n",
    "    st_view(nnews=.,.,\"nnews\")\n",
    "    st_view(otherl=.,.,\"otherl\")\n",
    "    st_view(otherc=.,.,\"otherc\")\n",
    "    st_view(si=.,.,\"si\")\n",
    "    st_view(mt=.,.,\"mt\")\n",
    "    st_view(id=.,.,\"stationid\")\n",
    "    st_view(M=.,.,\"market\")\n",
    "    st_view(time=.,.,\"timeslot\")\n",
    "    st_view(game=.,.,\"game\")\n",
    "    st_view(lnpps=.,.,\"lnpps\")\n",
    "    st_view(pop=.,.,\"ACS_HH\") \n",
    "    st_view(l_ACS_HH=.,.,\"l_ACS_HH\")\n",
    "    st_view(lnewsn=.,.,\"lnewsn\")\n",
    "    st_view(otherln=.,.,\"otherln\")\n",
    "    st_view(nnewsn=.,.,\"nnewsn\")\n",
    "    st_view(othercn=.,.,\"othercn\")\n",
    "    st_view(dln=.,.,\"dln\")\n",
    "    lnviewn=ln(pop:*si)\n",
    "    m=panelsetup(M,1)"
   ]
  },
  {
   "cell_type": "markdown",
   "metadata": {},
   "source": [
    "Get our previous estimation results:"
   ]
  },
  {
   "cell_type": "code",
   "execution_count": 8,
   "metadata": {
    "collapsed": false
   },
   "outputs": [
    {
     "name": "stdout",
     "output_type": "stream",
     "text": [
      "Mata output:\n",
      "\n",
      ":     mata matuse DynoStarts23, replace\n",
      "(loading arate[1,27], bo[1,27], drawsbo[50,27], vals[50,1])\n",
      "\n",
      ":     bo[,1::4] = bo[,1::4]:^2\n",
      "\n",
      ":     mata matuse betaPDynoStarts, replace\n",
      "(loading bpo[1,10], drawsbpo[200,10])\n"
     ]
    }
   ],
   "source": [
    "%%stata -s nh1 --mata\n",
    "    mata matuse DynoStarts23, replace\n",
    "    bo[,1::4] = bo[,1::4]:^2\n",
    "    mata matuse betaPDynoStarts, replace"
   ]
  },
  {
   "cell_type": "markdown",
   "metadata": {},
   "source": [
    "Now, render the data in long form:"
   ]
  },
  {
   "cell_type": "code",
   "execution_count": 9,
   "metadata": {
    "collapsed": false
   },
   "outputs": [
    {
     "name": "stdout",
     "output_type": "stream",
     "text": [
      "\n",
      ".  quietly do MataFunctions\\MataReshape.do\n"
     ]
    }
   ],
   "source": [
    "%%stata -s nh1\n",
    "quietly do MataFunctions\\MataReshape.do"
   ]
  },
  {
   "cell_type": "markdown",
   "metadata": {},
   "source": [
    "Now that that has been done, we can clean up the results from our MCMC estimation of game strategies. For one, often times our search procedure resulted in the run settling on the same strategy, but logging it as a different outcome. We therefore have to go through and pare all this down. Anyways:"
   ]
  },
  {
   "cell_type": "code",
   "execution_count": 10,
   "metadata": {
    "collapsed": false
   },
   "outputs": [
    {
     "name": "stdout",
     "output_type": "stream",
     "text": [
      "\n",
      ":     mata matuse usANDgs, replace \n",
      "(loading up[16622,120], upb[16622,120], upg[16622,120], upre1[16622,120], upre1g[16622,120], upre2[16622,120], upre2g[16622,120],\n",
      " usg[16622,120], usi[16622,120], uv[16622,120], uvb[16622,120], uvg[16622,120], uvre1[16622,120], uvre1g[16622,120], uvre2[16622,120],\n",
      " uvre2g[16622,120])\n",
      "\n",
      ":     mata matuse NashStuff, replace\n",
      "(loading NashProfiles)\n"
     ]
    }
   ],
   "source": [
    "%%stata -s nh1\n",
    "mata:\n",
    "    mata matuse usANDgs, replace \n",
    "    mata matuse NashStuff, replace\n",
    "end"
   ]
  },
  {
   "cell_type": "markdown",
   "metadata": {},
   "source": [
    "This next loop combs through all the Nash equilibria and pares them down to the number of unique profiles - so we aren't double counting results. Here goes. A first step is setting up some placeholders for everything. "
   ]
  },
  {
   "cell_type": "code",
   "execution_count": 11,
   "metadata": {
    "collapsed": false
   },
   "outputs": [
    {
     "name": "stdout",
     "output_type": "stream",
     "text": [
      "\n",
      ":     markets=uniqrows(marketIdLong)\n",
      "\n",
      ":     indexes=asarray_keys(NashProfiles)\n",
      "\n",
      ":     draws=max(indexes[,2])\n"
     ]
    }
   ],
   "source": [
    "%%stata -s nh1\n",
    "mata:\n",
    "    markets=uniqrows(marketIdLong)\n",
    "    indexes=asarray_keys(NashProfiles)\n",
    "    draws=max(indexes[,2])\n",
    "\n",
    "    NashProfilesNew=asarray_create(\"real\",4)\n",
    "end"
   ]
  },
  {
   "cell_type": "markdown",
   "metadata": {},
   "source": [
    "## The Loop to Clean Equilibria up"
   ]
  },
  {
   "cell_type": "code",
   "execution_count": null,
   "metadata": {
    "collapsed": false
   },
   "outputs": [],
   "source": [
    "%%stata -s nh1\n",
    "mata:\n",
    "    for (i=1;i<=rows(markets);i++) {\n",
    "        for (d=1;d<=draws;d++) {\n",
    "            gameMarkerp=select(gameLong[,1],marketIdLong:==i)\n",
    "            if (colsum(gameMarkerp)>0) {\n",
    "                Count=rows(uniqrows(select(indexes[,4],(indexes[,1]:==i):*(indexes[,2]:==d))))\n",
    "                if (Count==1) {\n",
    "                    asarray(NashProfilesNew,(i,d,1,1),asarray(NashProfiles,(i,d,1,1)))\n",
    "                    asarray(NashProfilesNew,(i,d,2,1),asarray(NashProfiles,(i,d,2,1)))\n",
    "                    asarray(NashProfilesNew,(i,d,3,1),asarray(NashProfiles,(i,d,3,1)))\n",
    "                }\n",
    "                else {\n",
    "                    asarray(NashProfilesNew,(i,d,1,1),asarray(NashProfiles,(i,d,1,1)))\n",
    "                    asarray(NashProfilesNew,(i,d,2,1),asarray(NashProfiles,(i,d,2,1)))\n",
    "                    asarray(NashProfilesNew,(i,d,3,1),asarray(NashProfiles,(i,d,3,1)))\n",
    "                    pop=2\n",
    "                    tick=1\n",
    "                    do {\n",
    "                        noGo=0\n",
    "                        for (j=1;j<=tick;j++) {\n",
    "                            if (asarray(NashProfiles,(i,d,1,pop))==asarray(NashProfilesNew,(i,d,1,j))) noGo=1\n",
    "                        }\n",
    "                        if (noGo==0) {\n",
    "                            tick++\n",
    "                            asarray(NashProfilesNew,(i,d,1,tick),asarray(NashProfiles,(i,d,1,pop)))\n",
    "                            asarray(NashProfilesNew,(i,d,2,tick),asarray(NashProfiles,(i,d,2,pop)))\n",
    "                            asarray(NashProfilesNew,(i,d,3,tick),asarray(NashProfiles,(i,d,3,pop)))\n",
    "                        }\n",
    "                        pop++\n",
    "                    } while (pop<=Count)\n",
    "                }\n",
    "            }\n",
    "        }\n",
    "    }   \n",
    "end "
   ]
  },
  {
   "cell_type": "markdown",
   "metadata": {},
   "source": [
    "We now have everything we need in the associative arrays affixed with `New`, so we can drop the others to save space:"
   ]
  },
  {
   "cell_type": "code",
   "execution_count": 12,
   "metadata": {
    "collapsed": false
   },
   "outputs": [
    {
     "name": "stdout",
     "output_type": "stream",
     "text": [
      "Mata output:\n",
      "\n",
      ":     mata drop NashProfiles\n"
     ]
    }
   ],
   "source": [
    "%%stata -s nh1 --mata\n",
    "    mata drop NashProfiles\n"
   ]
  },
  {
   "cell_type": "markdown",
   "metadata": {},
   "source": [
    "## Reshaping and packing up all this information...\n",
    "The next thing we will do is change our revised equilibrium information into a packable and useable form, and save it all so it can be used easily in estimation. First part: reshaping our AKW error terms:"
   ]
  },
  {
   "cell_type": "code",
   "execution_count": 14,
   "metadata": {
    "collapsed": false
   },
   "outputs": [
    {
     "name": "stdout",
     "output_type": "stream",
     "text": [
      "\n",
      ":     Up=J(rows(up)*timeslots,0,.)\n",
      "\n",
      ":     Upg=J(rows(up)*timeslots,0,.)\n",
      "\n",
      ":     Upb=J(rows(up)*timeslots,0,.)\n",
      "\n",
      ":     Uv=J(rows(up)*timeslots,0,.)\n",
      "\n",
      ":     Uvg=J(rows(up)*timeslots,0,.)\n",
      "\n",
      ":     Uvb=J(rows(up)*timeslots,0,.)\n",
      "\n",
      ":     Uvsg=J(rows(up)*timeslots,0,.)\n",
      "\n",
      ":     Uvre1=J(rows(up)*timeslots,0,.)\n",
      "\n",
      ":     Uvre2=J(rows(up)*timeslots,0,.)\n",
      "\n",
      ":     Upre1=J(rows(up)*timeslots,0,.)\n",
      "\n",
      ":     Upre2=J(rows(up)*timeslots,0,.)\n",
      "\n",
      ":     Uvre1g=J(rows(up)*timeslots,0,.)\n",
      "\n",
      ":     Uvre2g=J(rows(up)*timeslots,0,.)\n",
      "\n",
      ":     Upre1g=J(rows(up)*timeslots,0,.)\n",
      "\n",
      ":     Upre2g=J(rows(up)*timeslots,0,.)\n",
      "\n",
      ":     for (d=1;d<=draws;d++) {\n",
      ">         Up=Up,colshape(up[,counter::counter+timeslots-1],1)\n",
      ">         Upg=Upg,colshape(upg[,counter::counter+timeslots-1],1)\n",
      ">         Upb=Upb,colshape(upb[,counter::counter+timeslots-1],1)\n",
      ">         Uv=Uv,colshape(uv[,counter::counter+timeslots-1],1)\n",
      ">         Uvg=Uvg,colshape(uvg[,counter::counter+timeslots-1],1)\n",
      ">         Uvb=Uvb,colshape(uvb[,counter::counter+timeslots-1],1)\n",
      ">         Uvsi=Uvsi,colshape(usi[,counter::counter+timeslots-1],1)\n",
      ">         Uvsg=Uvsg,colshape(usg[,counter::counter+timeslots-1],1)\n",
      ">         Uvre1=Uvre1,colshape(uvre1[,counter::counter+timeslots-1],1)\n",
      ">         Uvre2=Uvre2,colshape(uvre2[,counter::counter+timeslots-1],1)\n",
      ">         Upre1=Upre1,colshape(upre1[,counter::counter+timeslots-1],1)\n",
      ">         Upre2=Upre2,colshape(upre2[,counter::counter+timeslots-1],1)\n",
      ">         Uvre1g=Uvre1g,colshape(uvre1g[,counter::counter+timeslots-1],1)\n",
      ">         Uvre2g=Uvre2g,colshape(uvre2g[,counter::counter+timeslots-1],1)\n",
      ">         Upre1g=Upre1g,colshape(upre1g[,counter::counter+timeslots-1],1)\n",
      ">         Upre2g=Upre2g,colshape(upre2g[,counter::counter+timeslots-1],1)\n",
      ">         \n",
      ">         counter=counter+timeslots\n",
      ">     }\n"
     ]
    }
   ],
   "source": [
    "%%stata -s nh1\n",
    "mata:\n",
    "    Up=J(rows(up)*timeslots,0,.)\n",
    "    Upg=J(rows(up)*timeslots,0,.)\n",
    "    Upb=J(rows(up)*timeslots,0,.)\n",
    "    Uv=J(rows(up)*timeslots,0,.)\n",
    "    Uvg=J(rows(up)*timeslots,0,.)\n",
    "    Uvb=J(rows(up)*timeslots,0,.)\n",
    "\n",
    "    Uvsi=J(rows(up)*timeslots,0,.)\n",
    "    Uvsg=J(rows(up)*timeslots,0,.)\n",
    "    Uvre1=J(rows(up)*timeslots,0,.)\n",
    "    Uvre2=J(rows(up)*timeslots,0,.)\n",
    "    Upre1=J(rows(up)*timeslots,0,.)\n",
    "    Upre2=J(rows(up)*timeslots,0,.)\n",
    "    Uvre1g=J(rows(up)*timeslots,0,.)\n",
    "    Uvre2g=J(rows(up)*timeslots,0,.)\n",
    "    Upre1g=J(rows(up)*timeslots,0,.)\n",
    "    Upre2g=J(rows(up)*timeslots,0,.)\n",
    "\n",
    "    counter=1\n",
    "    for (d=1;d<=draws;d++) {\n",
    "        Up=Up,colshape(up[,counter::counter+timeslots-1],1)\n",
    "        Upg=Upg,colshape(upg[,counter::counter+timeslots-1],1)\n",
    "        Upb=Upb,colshape(upb[,counter::counter+timeslots-1],1)\n",
    "        Uv=Uv,colshape(uv[,counter::counter+timeslots-1],1)\n",
    "        Uvg=Uvg,colshape(uvg[,counter::counter+timeslots-1],1)\n",
    "        Uvb=Uvb,colshape(uvb[,counter::counter+timeslots-1],1)\n",
    "        Uvsi=Uvsi,colshape(usi[,counter::counter+timeslots-1],1)\n",
    "        Uvsg=Uvsg,colshape(usg[,counter::counter+timeslots-1],1)\n",
    "        Uvre1=Uvre1,colshape(uvre1[,counter::counter+timeslots-1],1)\n",
    "        Uvre2=Uvre2,colshape(uvre2[,counter::counter+timeslots-1],1)\n",
    "        Upre1=Upre1,colshape(upre1[,counter::counter+timeslots-1],1)\n",
    "        Upre2=Upre2,colshape(upre2[,counter::counter+timeslots-1],1)\n",
    "        Uvre1g=Uvre1g,colshape(uvre1g[,counter::counter+timeslots-1],1)\n",
    "        Uvre2g=Uvre2g,colshape(uvre2g[,counter::counter+timeslots-1],1)\n",
    "        Upre1g=Upre1g,colshape(upre1g[,counter::counter+timeslots-1],1)\n",
    "        Upre2g=Upre2g,colshape(upre2g[,counter::counter+timeslots-1],1)\n",
    "        \n",
    "        counter=counter+timeslots\n",
    "    }\n",
    "end\n"
   ]
  },
  {
   "cell_type": "markdown",
   "metadata": {},
   "source": [
    "This next piece of code combs through our Nash equilibria (revised) and renders sampling weights. Note the first step of getting the keys from the associative array so we can loop over them (which marks our games)"
   ]
  },
  {
   "cell_type": "code",
   "execution_count": 15,
   "metadata": {
    "collapsed": false
   },
   "outputs": [
    {
     "name": "stdout",
     "output_type": "stream",
     "text": [
      "\n",
      ":     Keys=asarray_keys(NashProfilesNew)\n",
      "\n",
      ":     market=marketIdLong#J(timeslots,1,1)\n",
      "\n",
      ":     gameMarkId=uniqrows(Keys[,1])\n",
      "\n",
      ":     NashW=J(rows(market),draws,.)\n",
      "\n",
      ":     \n",
      ":     for (i=1;i<=rows(gameMarkId);i++) {\n",
      ">         WtoAdd=J(1,draws,.)\n",
      ">         for (d=1;d<=draws;d++) {\n",
      ">             WtoAdd[d]=rows(select(Keys[,4],(Keys[,1]:==gameMarkId[i]):*(Keys[,2]:==d):*(Keys[,3]:==1)))\n",
      ">         }\n",
      ">         maxPos=max(mm_which(market:==gameMarkId[i]))\n",
      ">         NashW[maxPos,]=ln(1:/WtoAdd)\n",
      ">     }\n"
     ]
    }
   ],
   "source": [
    "%%stata -s nh1\n",
    "mata:\n",
    "    Keys=asarray_keys(NashProfilesNew)\n",
    "    market=marketIdLong#J(timeslots,1,1)\n",
    "    gameMarkId=uniqrows(Keys[,1])\n",
    "    NashW=J(rows(market),draws,.)\n",
    "    \n",
    "    for (i=1;i<=rows(gameMarkId);i++) {\n",
    "        WtoAdd=J(1,draws,.)\n",
    "        for (d=1;d<=draws;d++) {\n",
    "            WtoAdd[d]=rows(select(Keys[,4],(Keys[,1]:==gameMarkId[i]):*(Keys[,2]:==d):*(Keys[,3]:==1)))\n",
    "        }\n",
    "        maxPos=max(mm_which(market:==gameMarkId[i]))\n",
    "        NashW[maxPos,]=ln(1:/WtoAdd)\n",
    "    }\n",
    "end"
   ]
  },
  {
   "cell_type": "markdown",
   "metadata": {},
   "source": [
    "Make into sampling weights. We now make some sampling weights"
   ]
  },
  {
   "cell_type": "code",
   "execution_count": 16,
   "metadata": {
    "collapsed": false
   },
   "outputs": [
    {
     "name": "stdout",
     "output_type": "stream",
     "text": [
      "\n",
      ":     weights1=1:/rowsum(gameLong)#J(1,6,1)\n",
      "\n",
      ":     weights1=colshape(weights1,1)\n",
      "\n",
      ":     weights2=J(rows(statIdLong),timeslots,.)\n",
      "\n",
      ":     for (i=1;i<=rows(mLong);i++) {\n",
      ">         gP=panelsubmatrix(gameLong,i,mLong)\n",
      ">         gPtotal=colsum(gP)\n",
      ">         weightsP=(gPtotal:*gP)\n",
      ">     weights2[mLong[i,1]::mLong[i,2],.]=weightsP\n",
      ">     }\n",
      "\n",
      ":     _editvalue(weights2,0,.)\n",
      "\n",
      ":     weights2=colshape(1:/weights2,1)\n"
     ]
    }
   ],
   "source": [
    "%%stata -s nh1\n",
    "mata:\n",
    "    weights1=1:/rowsum(gameLong)#J(1,6,1)\n",
    "    weights1=colshape(weights1,1)\n",
    "\n",
    "    mLong=panelsetup(marketIdLong,1)\n",
    "    weights2=J(rows(statIdLong),timeslots,.)\n",
    "    for (i=1;i<=rows(mLong);i++) {\n",
    "        gP=panelsubmatrix(gameLong,i,mLong)\n",
    "        gPtotal=colsum(gP)\n",
    "        weightsP=(gPtotal:*gP)\n",
    "    weights2[mLong[i,1]::mLong[i,2],.]=weightsP\n",
    "    }\n",
    "    _editvalue(weights2,0,.)\n",
    "    weights2=colshape(1:/weights2,1)\n",
    "end"
   ]
  },
  {
   "cell_type": "markdown",
   "metadata": {},
   "source": [
    "Having collated everything, we now get put glob it all and save it for use in actual estimation! I really have to learn how to use macros and pass them around..."
   ]
  },
  {
   "cell_type": "code",
   "execution_count": 23,
   "metadata": {
    "collapsed": false
   },
   "outputs": [
    {
     "name": "stdout",
     "output_type": "stream",
     "text": [
      "\n",
      ":     mata matsave gsAndus NashW Up Upg Upb Uv Uvg Uvsi Uvsg Uvre1 Uvre2 Upre1 Upre2 Uvre1g Uvre2g Upre1g Upre2g \n",
      "> market id mt weights1 weights2, replace\n",
      "(saving NashW[99732,20], Up[99732,20], Upb[99732,20], Upg[99732,20], Upre1[99732,20], Upre1g[99732,20],\n",
      " Upre2[99732,20], Upre2g[99732,20], Uv[99732,20], Uvg[99732,20], Uvre1[99732,20], Uvre1g[99732,20],\n",
      " Uvre2[99732,20], Uvre2g[99732,20], Uvsg[99732,20], Uvsi[99732,20], id[99732,1], market[99732,1], mt[99732,1],\n",
      " weights1[99732,1], weights2[99732,1])\n",
      "file gsAndus.mmat saved\n"
     ]
    }
   ],
   "source": [
    "%%stata -s nh1\n",
    "mata:\n",
    "    mata matsave gsAndus NashW Up Upg Upb Uv Uvg Uvsi Uvsg Uvre1 Uvre2 Upre1 Upre2 Uvre1g Uvre2g Upre1g Upre2g market id mt weights1 weights2, replace\n",
    "end"
   ]
  },
  {
   "cell_type": "markdown",
   "metadata": {},
   "source": [
    "So, now we have all of our sampling weights and all of that saved...the next step is estimation."
   ]
  },
  {
   "cell_type": "code",
   "execution_count": null,
   "metadata": {
    "collapsed": true
   },
   "outputs": [],
   "source": []
  }
 ],
 "metadata": {
  "kernelspec": {
   "display_name": "Python 3",
   "language": "python",
   "name": "python3"
  },
  "language_info": {
   "codemirror_mode": {
    "name": "ipython",
    "version": 3
   },
   "file_extension": ".py",
   "mimetype": "text/x-python",
   "name": "python",
   "nbconvert_exporter": "python",
   "pygments_lexer": "ipython3",
   "version": "3.5.1"
  }
 },
 "nbformat": 4,
 "nbformat_minor": 0
}

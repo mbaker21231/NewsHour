{
 "cells": [
  {
   "cell_type": "markdown",
   "metadata": {},
   "source": [
    "# Creating Simulations\n",
    "\n",
    "In this workbook, we create some simulations (and resample them).\n",
    "\n",
    "Here is the usual stuff we start with:"
   ]
  },
  {
   "cell_type": "code",
   "execution_count": 1,
   "metadata": {
    "collapsed": false
   },
   "outputs": [
    {
     "data": {
      "application/javascript": [
       "IPython.CodeCell.config_defaults.highlight_modes['magic_stata'] = {'reg':[/^%%stata/]};"
      ]
     },
     "metadata": {},
     "output_type": "display_data"
    },
    {
     "data": {
      "text/plain": [
       "'C:\\\\Users\\\\mjbaker\\\\Documents\\\\GitHub\\\\NewsHour'"
      ]
     },
     "execution_count": 1,
     "metadata": {},
     "output_type": "execute_result"
    }
   ],
   "source": [
    "import ipystata\n",
    "import os\n",
    "os.getcwd()"
   ]
  },
  {
   "cell_type": "code",
   "execution_count": 22,
   "metadata": {
    "collapsed": false
   },
   "outputs": [
    {
     "name": "stdout",
     "output_type": "stream",
     "text": [
      "\n",
      "C:\\Users\\mjbaker\\Documents\\Github\\NewsHour\n"
     ]
    }
   ],
   "source": [
    "%%stata -s nh1\n",
    "clear all\n",
    "set more off\n",
    "cd C:\\Users\\mjbaker\\Documents\\GitHub\\NewsHour"
   ]
  },
  {
   "cell_type": "code",
   "execution_count": 23,
   "metadata": {
    "collapsed": false
   },
   "outputs": [
    {
     "name": "stdout",
     "output_type": "stream",
     "text": [
      "\n",
      "\n"
     ]
    }
   ],
   "source": [
    "%%stata -s nh1\n",
    "use AveragedDataDynamicREr.dta"
   ]
  },
  {
   "cell_type": "markdown",
   "metadata": {},
   "source": [
    "Usual stuff generating a game variable - in which we rule out stations that have never broadcasted local news. Perhaps we should just put this in one place in the early going! The assert command renders us certain that we haven't shuffled the data into some new, arbitrary order. "
   ]
  },
  {
   "cell_type": "code",
   "execution_count": 24,
   "metadata": {
    "collapsed": false
   },
   "outputs": [
    {
     "name": "stdout",
     "output_type": "stream",
     "text": [
      "\n",
      "(1328 real changes made)\n",
      "(1338 real changes made)\n"
     ]
    }
   ],
   "source": [
    "%%stata -s nh1\n",
    "gen ordinit = _n\n",
    "gen game = (lnews | otherl) & lnpps!=.\n",
    "bysort stationid: egen totalG=total(game)\n",
    "gen gameMarker=totalG>4\n",
    "bysort stationid: egen countl = total(lnews)\n",
    "replace game = 0 if countl == 0\n",
    "replace gameMarker = 0 if countl ==0\n",
    "\n",
    "sort market stationid timeslot\n",
    "\n",
    "assert ordinit == _n"
   ]
  },
  {
   "cell_type": "markdown",
   "metadata": {},
   "source": [
    "Let's check on the game variable, just to see how many stations we now have in the game. We really have to go back and check all of this! Note a couple of things that might help in the sequel:\n",
    "\n",
    "1. `game` marks whether or not a station has a choice in a specific period\n",
    "2. `gameMarker' marks whether or not a station is a decision maker at all!\n",
    "\n",
    "I don't think we have been making this distinction carefully enough in previous work...and after every `bysort` command, remember to check that we haven't altered the order of the data. "
   ]
  },
  {
   "cell_type": "code",
   "execution_count": 25,
   "metadata": {
    "collapsed": false
   },
   "outputs": [
    {
     "name": "stdout",
     "output_type": "stream",
     "text": [
      "\n",
      "\n"
     ]
    }
   ],
   "source": [
    "%%stata -s nh1\n",
    "bysort stationid: gen lasts=_n==_N\n",
    "sort market stationid timeslot \n",
    "assert ordinit == _n"
   ]
  },
  {
   "cell_type": "code",
   "execution_count": 29,
   "metadata": {
    "collapsed": false
   },
   "outputs": [
    {
     "name": "stdout",
     "output_type": "stream",
     "text": [
      "\n",
      " gameMarker |      Freq.     Percent        Cum.\n",
      "------------+-----------------------------------\n",
      "          0 |     16,222       97.59       97.59\n",
      "          1 |        400        2.41      100.00\n",
      "------------+-----------------------------------\n",
      "      Total |     16,622      100.00\n"
     ]
    }
   ],
   "source": [
    "%%stata -s nh1\n",
    "tab gameMarker if lasts"
   ]
  },
  {
   "cell_type": "markdown",
   "metadata": {},
   "source": [
    "## Creating some error term draws\n",
    "\n",
    "Here, we create some error term draws, and then resample them. The first thing to do is read in some variatbles. "
   ]
  }
 ],
 "metadata": {
  "kernelspec": {
   "display_name": "Python 3",
   "language": "python",
   "name": "python3"
  },
  "language_info": {
   "codemirror_mode": {
    "name": "ipython",
    "version": 3
   },
   "file_extension": ".py",
   "mimetype": "text/x-python",
   "name": "python",
   "nbconvert_exporter": "python",
   "pygments_lexer": "ipython3",
   "version": "3.5.1"
  }
 },
 "nbformat": 4,
 "nbformat_minor": 0
}

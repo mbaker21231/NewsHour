{
 "cells": [
  {
   "cell_type": "markdown",
   "metadata": {},
   "source": [
    "# Ackerberg-Keane-Wolpin importance sampling weights"
   ]
  },
  {
   "cell_type": "markdown",
   "metadata": {},
   "source": [
    "In the last workbook, we assembled some hypothetical shares, error terms (for viewership and price) and upper bounds on error terms under the assumption that observed programming sequences were Nash equilibria. Now, we have to assemble the results into importance sampling weights. \n",
    "\n",
    "The difficult part of the importance sampling scheme is that we have to check for multiplicity of equilibria - this is the cohesiveness problem that everyone talks about. \n",
    "\n",
    "\n",
    "### Refresher - the basic idea:\n",
    "\n",
    "Just so that we can be sure we have a firm idea what we are doing, let's take a little time to explain things. We require that the unobserved errors (which have idiosyncratic, market-time, and station components) must fall into some region so that they aren't large enough to conflict with the idea that observed strategies are Nash equilibria. While we had to assemble the errors sequentially, let's put that aside for the moment and just observe that there is some upper bound on the errors. Anyways:\n",
    "\n",
    "Starting with the price equation, we have the likelihood that $p' \\leq p$ (or $\\ln p \\leq \\ln p$ ) as: \n",
    "\n",
    "$$\n",
    "\\textrm{Prob}(\\ln p' < \\ln p) = \\int_{e_p,e_v \\in \\Omega} \\left( \\ln Ms'(X_v\\beta_v+e_v) + X\\beta_p + e_p \\right)f_p(e_p)f_v(e_v)de_pde_v\n",
    "$$\n",
    "\n",
    "where $\\Omega$ is some difficult region to integrate. To get an AKW sampler, we want to create simulated individuals, and reweight these in estimation. To do this, we first do a change of variables to a $u$ term, which in practice amounts to constituting linear terms. So, if $e_v$ is $N(0,\\sigma_v)$, then $u_v = X_v\\beta_v+e_v$ is $N(X_v\\beta_v,\\sigma_v)$. In terms of the above, we get something like:\n",
    "\n",
    "$$\n",
    "\\int_{u_p,u_v \\in \\Omega'} h_{p|v}(u_p;\\eta Ms(u_v)+X_p\\beta_p,\\sigma_p)h_v(s;X_v\\beta_v,\\sigma_v)du_vdu_p\n",
    "$$\n",
    "\n",
    "Now, if we have a preliminary model, and can get a sample of $u$ terms from some density $g(u)$, we have:\n",
    "\n",
    "$$\n",
    "\\int_{u_p,u_v \\in \\Omega'} h_{p|v}(u_p;\\eta Ms(u_v)+X_p\\beta_p,\\sigma_p)h_v(s;X_v\\beta_v,\\sigma_v)\\frac{g_{p|v}(u_p)g_v(u_v)}{g_{p|v}(u_p)g_v(u_v)}du_vdu_p\n",
    "$$\n",
    "\n",
    "So, we can simulate the above difficult integral with:\n",
    "\n",
    "$$\n",
    "\\approx \\frac{1}{S}\\sum\\frac{h_{p|v}(u_p;\\eta Ms(u_v)+X_p\\beta_p,\\sigma_p)h_v(s(u_v);X_v\\beta_v,\\sigma_v)}{g_{p|v}(u_p)g_v(u_v)}\n",
    "$$\n",
    "\n",
    "\n",
    "### The genius of it all...\n",
    "\n",
    "If one looks carefully at the above, we now have a sample of hypothetical utility indices, and viewership shares, etc. Conditional on having these, everything else is linear - linear viewership utility index and conditional on simulated shares, linear pricing. So, given the error terms, estimation is actually pretty straightforward. \n",
    "\n",
    "### The one remaining problem...\n",
    "\n",
    "There is one difficulty - we have a pricing equation conditional on a distribution of a hypothetical share, which depends upon a viewership index $u$, in a way that is a bit nuanced. So, let's ask: what is the sampling density of the hypothetical share? \n",
    "\n",
    "To recover this, start with the following equation:\n",
    "\n",
    "and \n",
    "\n",
    "$$ \n",
    "\\ln s' -\\ln s_0' =\\mu' \\ln s'_{ig} +X\\beta_v+u_s+u_{mt}+e_{imt} \n",
    "$$ \n",
    " \n",
    "Since simulating and dealing with the random effects is easy, let's fold these all into one thing: \n",
    "\n",
    "$$ \n",
    "\\ln s' -\\ln s_0' =\\mu' \\ln s'_{ig} +u_v \n",
    "$$ \n",
    "\n",
    "and observe that our Berry (1994) share model is\n",
    " \n",
    "\n",
    "$$\n",
    "s' = \\frac{e^{\\frac{U_i}{1-\\mu}}}{\\sum_g e^{\\frac{U_k}{1-\\mu}}}\\frac{(\\sum_g e^{\\frac{U_k}{1-\\mu}})^{1-\\mu}}{\\sum_G(\\sum e^{\\frac{U_k}{1-\\mu}})^{1-\\mu}}\n",
    "$$\n",
    "\n",
    "Since $u_v$ has a simple normal density, we ask, given this, what is the density of $\\ln s'$, the simulated share? The old trick, heuristically, is:\n",
    "\n",
    "$$\n",
    "f(\\ln s)d\\ln s=g(u)du\n",
    "$$\n",
    "\n",
    "or\n",
    "\n",
    "$$\n",
    "f(\\ln s)=g(u)|\\frac{du}{d\\ln s}|\n",
    "$$\n",
    "\n",
    "or\n",
    "\n",
    "$$\n",
    "f(\\ln s)=g(u)\\frac{1}{|\\frac{d\\ln s}{du}|}\n",
    "$$\n",
    "\n",
    "So, our question now becomes: what is the derivative of the log share with respect to $u$? \n",
    "\n",
    "So, taking logs of the right hand side of the above gives:\n",
    "\n",
    "\n",
    "$$\n",
    "\\ln s' = \\frac{U_i}{1-\\mu}-\\mu \\ln\\left(\\sum_g e^{\\frac{U_k}{1-\\mu}}\\right)-\\ln \\sum_G(\\sum e^{\\frac{U_k}{1-\\mu}})^{1-\\mu}\n",
    "$$\n",
    "\n",
    "Taking the derivative gives:\n",
    "\n",
    "$$\n",
    "\\frac{d \\ln s'}{dU_i}=\\frac{1}{1-\\mu}-\\frac{\\mu}{1-\\mu}\\frac{e^{\\frac{U_i}{1-\\mu}}}{\\sum_g e^{\\frac{U_k}{1-\\mu}}}-e^{\\frac{U_i}{1-\\mu}}\\frac{(\\sum_g e^{\\frac{U_k}{1-\\mu}})^{-\\mu}}{\\sum_G(\\sum e^{\\frac{U_k}{1-\\mu}})^{1-\\mu}}\n",
    "$$\n",
    "\n",
    "If we multiply and divide the last term by $\\sum_g e^{\\frac{U_k}{1-\\mu}} $, we get:\n",
    "\n",
    "$$\n",
    "\\frac{d \\ln s'}{dU_i}=\\frac{1}{1-\\mu}-\\frac{\\mu}{1-\\mu}\\frac{e^{\\frac{U_i}{1-\\mu}}}{\\sum_g e^{\\frac{U_k}{1-\\mu}}}-\\frac{e^{\\frac{U_i}{1-\\mu}}}{\\sum_g e^{\\frac{U_k}{1-\\mu}}}\\frac{(\\sum_g e^{\\frac{U_k}{1-\\mu}})^{1-\\mu}}{\\sum_G(\\sum e^{\\frac{U_k}{1-\\mu}})^{1-\\mu}}\n",
    "$$\n",
    "\n",
    "Now, we see that what we have is a bunch of terms that are effectively simulated shares. The second term on the right is the simulated within-group share, while the third term on the right is the simulated actual share. Hence:\n",
    "\n",
    "$$\n",
    "\\frac{d \\ln s'}{dU_i}=\\frac{1}{1-\\mu}-\\frac{\\mu}{1-\\mu}s_{i|g}'-s_{i|g}'s_g\n",
    "$$\n",
    "\n",
    "This is pretty easy to translate into the required jacobian term, so we can use it in our density. Once again, it is nice that all of the right-hand-side terms are functions of $u_v$, so the AKW sampler works!\n",
    "\n",
    "Let's get the programming rolling...As usual, we first have to import the requisite packages...\n",
    "\n",
    "\n"
   ]
  },
  {
   "cell_type": "code",
   "execution_count": 14,
   "metadata": {
    "collapsed": false
   },
   "outputs": [
    {
     "data": {
      "text/plain": [
       "'C:\\\\Users\\\\mjbaker\\\\Documents\\\\GitHub\\\\NewsHour'"
      ]
     },
     "execution_count": 14,
     "metadata": {},
     "output_type": "execute_result"
    }
   ],
   "source": [
    "import ipystata\n",
    "import os\n",
    "os.getcwd()"
   ]
  },
  {
   "cell_type": "code",
   "execution_count": 15,
   "metadata": {
    "collapsed": false
   },
   "outputs": [
    {
     "name": "stdout",
     "output_type": "stream",
     "text": [
      "\n",
      "C:\\Users\\mjbaker\\Documents\\GitHub\\NewsHour\n"
     ]
    }
   ],
   "source": [
    "%%stata -s nh1\n",
    "cd C:\\Users\\mjbaker\\Documents\\GitHub\\NewsHour\n",
    "clear all\n",
    "use AveragedDataDyno.dta\n",
    "set more off"
   ]
  },
  {
   "cell_type": "markdown",
   "metadata": {},
   "source": [
    "Now, in the last notebook, we got simulated shares, error terms, and bounds on the errors (really, the recursively bounded errors). These will all figure into computing our importance sampling density, so let's get these going to begin with:"
   ]
  },
  {
   "cell_type": "code",
   "execution_count": 16,
   "metadata": {
    "collapsed": false
   },
   "outputs": [
    {
     "name": "stdout",
     "output_type": "stream",
     "text": [
      "Mata output:\n",
      "\n",
      "(loading priceBounds, priceErrs, sharesBCS, viewBounds, viewErrs)\n"
     ]
    }
   ],
   "source": [
    "%%stata -s nh1 --mata\n",
    "mata matuse PVDraws"
   ]
  },
  {
   "cell_type": "markdown",
   "metadata": {},
   "source": [
    "While the following command is once again repetitive, I take comfort in knowing exactly how this variable is generated, and exactly how the data is sorted:"
   ]
  },
  {
   "cell_type": "code",
   "execution_count": 17,
   "metadata": {
    "collapsed": false
   },
   "outputs": [
    {
     "name": "stdout",
     "output_type": "stream",
     "text": [
      "\n",
      "\n"
     ]
    }
   ],
   "source": [
    "%%stata -s nh1\n",
    "gen game= (lnews | otherl) & lnpps!=.\n",
    "sort market stationid mt timeslot"
   ]
  },
  {
   "cell_type": "markdown",
   "metadata": {},
   "source": [
    "We also need all of our data to be read in and reshaped. I know this is getting tedious...and there is still more to be done!"
   ]
  },
  {
   "cell_type": "code",
   "execution_count": 18,
   "metadata": {
    "collapsed": false
   },
   "outputs": [
    {
     "name": "stdout",
     "output_type": "stream",
     "text": [
      "Mata output:\n",
      "\n",
      ":     st_view(lnews=.,.,\"lnews\")\n",
      "\n",
      ":     st_view(nnews=.,.,\"nnews\")\n",
      "\n",
      ":     st_view(otherl=.,.,\"otherl\")\n",
      "\n",
      ":     st_view(otherc=.,.,\"otherc\")\n",
      "\n",
      ":     st_view(si=.,.,\"si\")\n",
      "\n",
      ":     st_view(mt=.,.,\"mt\")\n",
      "\n",
      ":     st_view(id=.,.,\"stationid\")\n",
      "\n",
      ":     st_view(M=.,.,\"market\")\n",
      "\n",
      ":     st_view(time=.,.,\"timeslot\")\n",
      "\n",
      ":     st_view(game=.,.,\"game\")\n",
      "\n",
      ":     st_view(lnpps=.,.,\"lnpps\")\n",
      "\n",
      ":     st_view(pop=.,.,\"ACS_HH\") \n",
      "\n",
      ":     st_view(l_ACS_HH=.,.,\"l_ACS_HH\")\n",
      "\n",
      ":     st_view(lnewsn=.,.,\"lnewsn\")\n",
      "\n",
      ":     st_view(otherln=.,.,\"otherln\")\n",
      "\n",
      ":     st_view(nnewsn=.,.,\"nnewsn\")\n",
      "\n",
      ":     st_view(othercn=.,.,\"othercn\")\n",
      "\n",
      ":     st_view(dln=.,.,\"dln\")\n",
      "\n",
      ":     m=panelsetup(M,1)\n"
     ]
    }
   ],
   "source": [
    "%%stata -s nh1 --mata\n",
    "    st_view(lnews=.,.,\"lnews\")\n",
    "    st_view(nnews=.,.,\"nnews\")\n",
    "    st_view(otherl=.,.,\"otherl\")\n",
    "    st_view(otherc=.,.,\"otherc\")\n",
    "    st_view(si=.,.,\"si\")\n",
    "    st_view(mt=.,.,\"mt\")\n",
    "    st_view(id=.,.,\"stationid\")\n",
    "    st_view(M=.,.,\"market\")\n",
    "    st_view(time=.,.,\"timeslot\")\n",
    "    st_view(game=.,.,\"game\")\n",
    "    st_view(lnpps=.,.,\"lnpps\")\n",
    "    st_view(pop=.,.,\"ACS_HH\") \n",
    "    st_view(l_ACS_HH=.,.,\"l_ACS_HH\")\n",
    "    st_view(lnewsn=.,.,\"lnewsn\")\n",
    "    st_view(otherln=.,.,\"otherln\")\n",
    "    st_view(nnewsn=.,.,\"nnewsn\")\n",
    "    st_view(othercn=.,.,\"othercn\")\n",
    "    st_view(dln=.,.,\"dln\")\n",
    "\n",
    "    lnviewn=ln(pop:*si)\n",
    "    m=panelsetup(M,1)"
   ]
  },
  {
   "cell_type": "markdown",
   "metadata": {},
   "source": [
    "The usual mata reshaping routine:"
   ]
  },
  {
   "cell_type": "code",
   "execution_count": 19,
   "metadata": {
    "collapsed": false
   },
   "outputs": [],
   "source": [
    "%%stata -s nh1 -np\n",
    "do MataFunctions\\MataReshape.do"
   ]
  },
  {
   "cell_type": "markdown",
   "metadata": {},
   "source": [
    "The following creates placeholders for everything we need to assemble an importance sampler. Here goes:"
   ]
  },
  {
   "cell_type": "code",
   "execution_count": 20,
   "metadata": {
    "collapsed": false
   },
   "outputs": [
    {
     "name": "stdout",
     "output_type": "stream",
     "text": [
      "Mata output:\n",
      "\n",
      ":     uv      = J(rows(statIdLong),0,.)\n",
      "\n",
      ":     uvg     = J(rows(statIdLong),0,.)\n",
      "\n",
      ":     uvb     = J(rows(statIdLong),0,.)\n",
      "\n",
      ":     uvsi    = J(rows(statIdLong),0,.)\n",
      "\n",
      ":     uvso    = J(rows(statIdLong),0,.)\n",
      "\n",
      ":     uvsg    = J(rows(statIdLong),0,.)\n",
      "\n",
      ":     uvre1   = J(rows(statIdLong),0,.)\n",
      "\n",
      ":     uvre2   = J(rows(statIdLong),0,.)\n",
      "\n",
      ":     uvre1g  = J(rows(statIdLong),0,.)\n",
      "\n",
      ":     uvre2g  = J(rows(statIdLong),0,.)\n",
      "\n",
      ":     up      = J(rows(statIdLong),0,.)\n",
      "\n",
      ":     upg     = J(rows(statIdLong),0,.)\n",
      "\n",
      ":     upb     = J(rows(statIdLong),0,.)\n",
      "\n",
      ":     upre1   = J(rows(statIdLong),0,.)\n",
      "\n",
      ":     upre2   = J(rows(statIdLong),0,.)\n",
      "\n",
      ":     upre1g  = J(rows(statIdLong),0,.)\n",
      "\n",
      ":     upre2g  = J(rows(statIdLong),0,.)\n",
      "\n",
      ":     looper  = uniqrows(asarray_keys(Bcs)[,1])\n",
      "                 <istmt>:  3499  Bcs not found\n",
      "-----------------------------------------------------------------------------------------------------------------------------------------------------------------\n",
      "r(3499);\n",
      "unrecognized command:  counter\n",
      "r(199);\n",
      "unrecognized command:  end\n",
      "r(199);\n"
     ]
    }
   ],
   "source": [
    "%%stata -s nh1 --mata\n",
    "    uv      = J(rows(statIdLong),0,.)\n",
    "    uvg     = J(rows(statIdLong),0,.)\n",
    "    uvb     = J(rows(statIdLong),0,.)\n",
    "    uvsi    = J(rows(statIdLong),0,.)\n",
    "    uvsg    = J(rows(statIdLong),0,.)\n",
    "    uvre1   = J(rows(statIdLong),0,.)\n",
    "    uvre2   = J(rows(statIdLong),0,.)\n",
    "    uvre1g  = J(rows(statIdLong),0,.)\n",
    "    uvre2g  = J(rows(statIdLong),0,.)\n",
    "    up      = J(rows(statIdLong),0,.)\n",
    "    upg     = J(rows(statIdLong),0,.)\n",
    "    upb     = J(rows(statIdLong),0,.)\n",
    "    upre1   = J(rows(statIdLong),0,.)\n",
    "    upre2   = J(rows(statIdLong),0,.)\n",
    "    upre1g  = J(rows(statIdLong),0,.)\n",
    "    upre2g  = J(rows(statIdLong),0,.)\n",
    "    looper  = uniqrows(asarray_keys(Bcs)[,1])\n",
    "    counter = 1"
   ]
  },
  {
   "cell_type": "code",
   "execution_count": 22,
   "metadata": {
    "collapsed": false
   },
   "outputs": [
    {
     "name": "stdout",
     "output_type": "stream",
     "text": [
      "Please note: session nh1 was no longer active and is restarted.\n"
     ]
    },
    {
     "ename": "AttributeError",
     "evalue": "stata.StataOLEApp.UtilIsStataFree",
     "output_type": "error",
     "traceback": [
      "\u001b[1;31m---------------------------------------------------------------------------\u001b[0m",
      "\u001b[1;31mAttributeError\u001b[0m                            Traceback (most recent call last)",
      "\u001b[1;32m<ipython-input-22-03442eebb112>\u001b[0m in \u001b[0;36m<module>\u001b[1;34m()\u001b[0m\n\u001b[1;32m----> 1\u001b[1;33m \u001b[0mget_ipython\u001b[0m\u001b[1;33m(\u001b[0m\u001b[1;33m)\u001b[0m\u001b[1;33m.\u001b[0m\u001b[0mrun_cell_magic\u001b[0m\u001b[1;33m(\u001b[0m\u001b[1;34m'stata'\u001b[0m\u001b[1;33m,\u001b[0m \u001b[1;34m'-s nh1'\u001b[0m\u001b[1;33m,\u001b[0m \u001b[1;34m'exit'\u001b[0m\u001b[1;33m)\u001b[0m\u001b[1;33m\u001b[0m\u001b[0m\n\u001b[0m",
      "\u001b[1;32mC:\\Users\\mjbaker\\AppData\\Local\\Continuum\\Miniconda3\\lib\\site-packages\\IPython\\core\\interactiveshell.py\u001b[0m in \u001b[0;36mrun_cell_magic\u001b[1;34m(self, magic_name, line, cell)\u001b[0m\n\u001b[0;32m   2118\u001b[0m             \u001b[0mmagic_arg_s\u001b[0m \u001b[1;33m=\u001b[0m \u001b[0mself\u001b[0m\u001b[1;33m.\u001b[0m\u001b[0mvar_expand\u001b[0m\u001b[1;33m(\u001b[0m\u001b[0mline\u001b[0m\u001b[1;33m,\u001b[0m \u001b[0mstack_depth\u001b[0m\u001b[1;33m)\u001b[0m\u001b[1;33m\u001b[0m\u001b[0m\n\u001b[0;32m   2119\u001b[0m             \u001b[1;32mwith\u001b[0m \u001b[0mself\u001b[0m\u001b[1;33m.\u001b[0m\u001b[0mbuiltin_trap\u001b[0m\u001b[1;33m:\u001b[0m\u001b[1;33m\u001b[0m\u001b[0m\n\u001b[1;32m-> 2120\u001b[1;33m                 \u001b[0mresult\u001b[0m \u001b[1;33m=\u001b[0m \u001b[0mfn\u001b[0m\u001b[1;33m(\u001b[0m\u001b[0mmagic_arg_s\u001b[0m\u001b[1;33m,\u001b[0m \u001b[0mcell\u001b[0m\u001b[1;33m)\u001b[0m\u001b[1;33m\u001b[0m\u001b[0m\n\u001b[0m\u001b[0;32m   2121\u001b[0m             \u001b[1;32mreturn\u001b[0m \u001b[0mresult\u001b[0m\u001b[1;33m\u001b[0m\u001b[0m\n\u001b[0;32m   2122\u001b[0m \u001b[1;33m\u001b[0m\u001b[0m\n",
      "\u001b[1;32m<decorator-gen-125>\u001b[0m in \u001b[0;36mstata\u001b[1;34m(self, line, cell, local_ns)\u001b[0m\n",
      "\u001b[1;32mC:\\Users\\mjbaker\\AppData\\Local\\Continuum\\Miniconda3\\lib\\site-packages\\IPython\\core\\magic.py\u001b[0m in \u001b[0;36m<lambda>\u001b[1;34m(f, *a, **k)\u001b[0m\n\u001b[0;32m    191\u001b[0m     \u001b[1;31m# but it's overkill for just that one bit of state.\u001b[0m\u001b[1;33m\u001b[0m\u001b[1;33m\u001b[0m\u001b[0m\n\u001b[0;32m    192\u001b[0m     \u001b[1;32mdef\u001b[0m \u001b[0mmagic_deco\u001b[0m\u001b[1;33m(\u001b[0m\u001b[0marg\u001b[0m\u001b[1;33m)\u001b[0m\u001b[1;33m:\u001b[0m\u001b[1;33m\u001b[0m\u001b[0m\n\u001b[1;32m--> 193\u001b[1;33m         \u001b[0mcall\u001b[0m \u001b[1;33m=\u001b[0m \u001b[1;32mlambda\u001b[0m \u001b[0mf\u001b[0m\u001b[1;33m,\u001b[0m \u001b[1;33m*\u001b[0m\u001b[0ma\u001b[0m\u001b[1;33m,\u001b[0m \u001b[1;33m**\u001b[0m\u001b[0mk\u001b[0m\u001b[1;33m:\u001b[0m \u001b[0mf\u001b[0m\u001b[1;33m(\u001b[0m\u001b[1;33m*\u001b[0m\u001b[0ma\u001b[0m\u001b[1;33m,\u001b[0m \u001b[1;33m**\u001b[0m\u001b[0mk\u001b[0m\u001b[1;33m)\u001b[0m\u001b[1;33m\u001b[0m\u001b[0m\n\u001b[0m\u001b[0;32m    194\u001b[0m \u001b[1;33m\u001b[0m\u001b[0m\n\u001b[0;32m    195\u001b[0m         \u001b[1;32mif\u001b[0m \u001b[0mcallable\u001b[0m\u001b[1;33m(\u001b[0m\u001b[0marg\u001b[0m\u001b[1;33m)\u001b[0m\u001b[1;33m:\u001b[0m\u001b[1;33m\u001b[0m\u001b[0m\n",
      "\u001b[1;32mC:\\Users\\mjbaker\\AppData\\Local\\Continuum\\Miniconda3\\lib\\site-packages\\ipystata\\ipystata_magic.py\u001b[0m in \u001b[0;36mstata\u001b[1;34m(self, line, cell, local_ns)\u001b[0m\n\u001b[0;32m    336\u001b[0m         \u001b[0mself\u001b[0m\u001b[1;33m.\u001b[0m\u001b[0mdo_dict\u001b[0m\u001b[1;33m[\u001b[0m\u001b[0msession_id\u001b[0m\u001b[1;33m]\u001b[0m\u001b[1;33m(\u001b[0m\u001b[0mcode_txt\u001b[0m\u001b[1;33m)\u001b[0m\u001b[1;33m\u001b[0m\u001b[0m\n\u001b[0;32m    337\u001b[0m \u001b[1;33m\u001b[0m\u001b[0m\n\u001b[1;32m--> 338\u001b[1;33m         \u001b[1;32mwhile\u001b[0m \u001b[0mself\u001b[0m\u001b[1;33m.\u001b[0m\u001b[0msession_dict\u001b[0m\u001b[1;33m[\u001b[0m\u001b[0msession_id\u001b[0m\u001b[1;33m]\u001b[0m\u001b[1;33m.\u001b[0m\u001b[0mUtilIsStataFree\u001b[0m\u001b[1;33m(\u001b[0m\u001b[1;33m)\u001b[0m \u001b[1;33m==\u001b[0m \u001b[1;36m0\u001b[0m\u001b[1;33m:\u001b[0m\u001b[1;33m\u001b[0m\u001b[0m\n\u001b[0m\u001b[0;32m    339\u001b[0m             \u001b[1;32mpass\u001b[0m\u001b[1;33m\u001b[0m\u001b[0m\n\u001b[0;32m    340\u001b[0m \u001b[1;33m\u001b[0m\u001b[0m\n",
      "\u001b[1;32mC:\\Users\\mjbaker\\AppData\\Local\\Continuum\\Miniconda3\\lib\\site-packages\\win32com\\client\\dynamic.py\u001b[0m in \u001b[0;36m__getattr__\u001b[1;34m(self, attr)\u001b[0m\n\u001b[0;32m    525\u001b[0m \u001b[1;33m\u001b[0m\u001b[0m\n\u001b[0;32m    526\u001b[0m                 \u001b[1;31m# no where else to look.\u001b[0m\u001b[1;33m\u001b[0m\u001b[1;33m\u001b[0m\u001b[0m\n\u001b[1;32m--> 527\u001b[1;33m                 \u001b[1;32mraise\u001b[0m \u001b[0mAttributeError\u001b[0m\u001b[1;33m(\u001b[0m\u001b[1;34m\"%s.%s\"\u001b[0m \u001b[1;33m%\u001b[0m \u001b[1;33m(\u001b[0m\u001b[0mself\u001b[0m\u001b[1;33m.\u001b[0m\u001b[0m_username_\u001b[0m\u001b[1;33m,\u001b[0m \u001b[0mattr\u001b[0m\u001b[1;33m)\u001b[0m\u001b[1;33m)\u001b[0m\u001b[1;33m\u001b[0m\u001b[0m\n\u001b[0m\u001b[0;32m    528\u001b[0m \u001b[1;33m\u001b[0m\u001b[0m\n\u001b[0;32m    529\u001b[0m         \u001b[1;32mdef\u001b[0m \u001b[0m__setattr__\u001b[0m\u001b[1;33m(\u001b[0m\u001b[0mself\u001b[0m\u001b[1;33m,\u001b[0m \u001b[0mattr\u001b[0m\u001b[1;33m,\u001b[0m \u001b[0mvalue\u001b[0m\u001b[1;33m)\u001b[0m\u001b[1;33m:\u001b[0m\u001b[1;33m\u001b[0m\u001b[0m\n",
      "\u001b[1;31mAttributeError\u001b[0m: stata.StataOLEApp.UtilIsStataFree"
     ]
    }
   ],
   "source": [
    "%%stata -s nh1\n",
    "exit"
   ]
  },
  {
   "cell_type": "code",
   "execution_count": null,
   "metadata": {
    "collapsed": true
   },
   "outputs": [],
   "source": []
  }
 ],
 "metadata": {
  "kernelspec": {
   "display_name": "Python 3",
   "language": "python",
   "name": "python3"
  },
  "language_info": {
   "codemirror_mode": {
    "name": "ipython",
    "version": 3
   },
   "file_extension": ".py",
   "mimetype": "text/x-python",
   "name": "python",
   "nbconvert_exporter": "python",
   "pygments_lexer": "ipython3",
   "version": "3.5.1"
  }
 },
 "nbformat": 4,
 "nbformat_minor": 0
}

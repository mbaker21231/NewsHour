{
 "cells": [
  {
   "cell_type": "markdown",
   "metadata": {},
   "source": [
    "# The News Hour \n",
    "## Estimating the welfare impact of television news\n",
    "\n",
    "### by Matthew Baker and Lisa George\n",
    "\n",
    "In our paper, which you can find [at SSRN](http://papers.ssrn.com/sol3/papers.cfm?abstract_id=2694687), we describe what turns out to be a rather complex model of television news. This model includes several features, including:\n",
    "\n",
    "1. A viewership model with nested multinomial logit demand,\n",
    "2. A log-linear price model, \n",
    "3. Strategic interactions among stations with the aim of getting the most advertising revenues: Stations choose program menus to maximize their average nightly advertising revenues, which depend upon viewership shares and programming choices. \n",
    "\n",
    "Since there are a lot of moving parts - that we ourselves have to keep track of in details - we thought a notebook detailing various aspects of estimation would be a good idea, particularly if anyone else wanted to use some of the methods! In this first notebook, I will discuss data setup. \n",
    "\n",
    "# Data Setup\n",
    "\n",
    "The first thing to do, of course, is read in the data and render it in a manageable form. We need to revise settings and all that as well. We focus on the 2010 data, where our `sample` variable marks useable observations. We also exclude observations for which the variable `h` is not equal to twenty. This means that we are excluding observations from the twentieth hour of the day (e.g, 8 o'clock) because that is into prime time. \n"
   ]
  },
  {
   "cell_type": "code",
   "execution_count": 4,
   "metadata": {
    "collapsed": false
   },
   "outputs": [
    {
     "name": "stdout",
     "output_type": "stream",
     "text": [
      "C:\\Users\\Administrator\\documents\\github\\NewsHour\n"
     ]
    }
   ],
   "source": [
    "import ipystata\n",
    "import os\n",
    "\n",
    "CWD = os.getcwd()\n",
    "print(CWD)"
   ]
  },
  {
   "cell_type": "markdown",
   "metadata": {},
   "source": [
    "The capture command is necessary if I want to run this stuff on different machines. "
   ]
  },
  {
   "cell_type": "code",
   "execution_count": 5,
   "metadata": {
    "collapsed": false
   },
   "outputs": [
    {
     "name": "stdout",
     "output_type": "stream",
     "text": [
      "\n",
      "\n"
     ]
    }
   ],
   "source": [
    "%%stata\n",
    "clear all\n",
    "capture cd \"C:\\Users\\mjbaker\\Documents\\GitHub\\NewsHour\"\n",
    "capture cd \"C:\\Users\\Administrator\\Documents\\Github\\NewsHour\""
   ]
  },
  {
   "cell_type": "code",
   "execution_count": 6,
   "metadata": {
    "collapsed": false
   },
   "outputs": [
    {
     "name": "stdout",
     "output_type": "stream",
     "text": [
      "\n",
      "C:\\Users\\Administrator\\Documents\\Github\\NewsHour\n"
     ]
    }
   ],
   "source": [
    "%%stata\n",
    "disp c(pwd)"
   ]
  },
  {
   "cell_type": "markdown",
   "metadata": {},
   "source": [
    "The following command can be run on an amazon-based machine. The problem is the data set is huge, so one should first download the data, run the following, and then delete it because the amazon machines don't as a rule come with that much disk space (40gb). But the data set really compresses nicely (about 10% the original size). So I've just gone ahead and compressed it after running this.\n",
    "\n",
    "**Note: Why not just have Stata open the .zip file?**"
   ]
  },
  {
   "cell_type": "code",
   "execution_count": 7,
   "metadata": {
    "collapsed": false
   },
   "outputs": [
    {
     "name": "stdout",
     "output_type": "stream",
     "text": [
      "\n",
      "\n"
     ]
    }
   ],
   "source": [
    "%%stata\n",
    "clear all\n",
    "set matsize 790\n",
    "use \"Data\\NielsenKantarPanel.dta\" if year == 2010 & sample == 1 & h != 20"
   ]
  },
  {
   "cell_type": "markdown",
   "metadata": {},
   "source": [
    "Now, we make a variable marking all of our timeslots. Observe that the time slots are marked by hour, and then whether or not they are the first or second half of the hour. Accordingly:"
   ]
  },
  {
   "cell_type": "code",
   "execution_count": 8,
   "metadata": {
    "collapsed": false
   },
   "outputs": [
    {
     "name": "stdout",
     "output_type": "stream",
     "text": [
      "\n",
      "(2,417,240 missing values generated)\n",
      "(345,320 real changes made)\n",
      "(345,320 real changes made)\n",
      "(345,320 real changes made)\n",
      "(345,320 real changes made)\n",
      "(345,320 real changes made)\n",
      "(345,320 real changes made)\n",
      "(345,320 real changes made)\n"
     ]
    }
   ],
   "source": [
    "%%stata\n",
    "\n",
    "gen     timeslot = 1 if h == 16 & half == 1\n",
    "replace timeslot = 2 if h == 16 & half == 2\n",
    "replace timeslot = 3 if h == 17 & half == 1\n",
    "replace timeslot = 4 if h == 17 & half == 2\n",
    "replace timeslot = 5 if h == 18 & half == 1\n",
    "replace timeslot = 6 if h == 18 & half == 2\n",
    "replace timeslot = 7 if h == 19 & half == 1\n",
    "replace timeslot = 8 if h == 19 & half == 2"
   ]
  },
  {
   "cell_type": "markdown",
   "metadata": {
    "collapsed": true
   },
   "source": [
    "Clean up the population variables so that they don't vary in each region or so they aren't missing for some observations:"
   ]
  },
  {
   "cell_type": "code",
   "execution_count": 9,
   "metadata": {
    "collapsed": false
   },
   "outputs": [
    {
     "name": "stdout",
     "output_type": "stream",
     "text": [
      "\n",
      "(2,585,760 real changes made)\n"
     ]
    }
   ],
   "source": [
    "%%stata\n",
    "bysort NDMACode: egen TotalPop1 = max(TotalPop)\n",
    "replace TotalPop=TotalPop1"
   ]
  },
  {
   "cell_type": "markdown",
   "metadata": {},
   "source": [
    "Another problem we face with the data is missing values for viewership under some level - so, in these circumstances, viewership is not zero but \"small\". Accordingly, we just replace these values with one-half the minimum reported value for each viewer. "
   ]
  },
  {
   "cell_type": "code",
   "execution_count": 10,
   "metadata": {
    "collapsed": false
   },
   "outputs": [
    {
     "name": "stdout",
     "output_type": "stream",
     "text": [
      "\n",
      "(1,519,397 real changes made)\n"
     ]
    }
   ],
   "source": [
    "%%stata\n",
    "egen double minviewers=min(viewers), by(NDMAC)\n",
    "replace viewers=1/2*minviewers if viewers==. & affil==\"\" \n"
   ]
  },
  {
   "cell_type": "markdown",
   "metadata": {},
   "source": [
    "The next step is to employ an adjustment factor - which really just serves the purpose of not letting shares go above unity! A simple fix to this problem is to just suppose that each household can watch two shows per half-hour block, which effectively multiplies the population by two. **From here on out, `Mpop` will function as our effective population variable.** "
   ]
  },
  {
   "cell_type": "code",
   "execution_count": 11,
   "metadata": {
    "collapsed": false
   },
   "outputs": [
    {
     "name": "stdout",
     "output_type": "stream",
     "text": [
      "\n",
      "(2,762,560 real changes made)\n"
     ]
    }
   ],
   "source": [
    "%%stata\n",
    "scalar adjfactor=2\n",
    "egen double Mpop=mean(TotalPop), by(NDMACode)\n",
    "replace Mpop=Mpop*adjfactor\n",
    "label var Mpop \"Mean TotalPop by DMA\""
   ]
  },
  {
   "cell_type": "markdown",
   "metadata": {},
   "source": [
    "An alternative measure of viewership, which is in some sense more accurate, is the American Community Survey reported households in the DMA. We can use this = along with the adjustment factor - to compute effective ACS eyeballs. In some very small markets, we get funny shares - shares greater than one, etc. - so it is good to get rid of markets where this happens as well. \n",
    "\n",
    "Note that we will also include a market size variable because of this - there is something strange about how viewership is reported in smaller markets. \n",
    "\n",
    "Schematic:\n",
    "1. Multiply ACS by effective ACS adjustment factor\n",
    "2. Generate viewership shares\n",
    "3. Mark occurrence of excessive shares\n",
    "4. Mark markets with an occurrence of an excessive share\n",
    "5. Mark these markets for exclusion."
   ]
  },
  {
   "cell_type": "code",
   "execution_count": 12,
   "metadata": {
    "collapsed": false
   },
   "outputs": [
    {
     "name": "stdout",
     "output_type": "stream",
     "text": [
      "\n",
      "(2,762,560 real changes made)\n",
      "(27,817 missing values generated)\n",
      "(103,040 real changes made)\n"
     ]
    }
   ],
   "source": [
    "%%stata\n",
    "replace ACS_HH = ACS_HH*adjfactor\n",
    "gen double si = viewers/ACS_HH                                  \n",
    "egen double S = sum(si), by(NDMACode dow timeslot week)          \n",
    "egen double maxS = max(S), by(NDMACode)                          \n",
    "replace sample = 0 if maxS > 1                                     "
   ]
  },
  {
   "cell_type": "markdown",
   "metadata": {},
   "source": [
    "Update the working data sample:"
   ]
  },
  {
   "cell_type": "code",
   "execution_count": 13,
   "metadata": {
    "collapsed": false
   },
   "outputs": [
    {
     "name": "stdout",
     "output_type": "stream",
     "text": [
      "\n",
      "(103,040 observations deleted)\n"
     ]
    }
   ],
   "source": [
    "%%stata\n",
    "keep if sample == 1"
   ]
  },
  {
   "cell_type": "markdown",
   "metadata": {},
   "source": [
    "Categorical variables marking different types of programming, according to the classifications that Lisa did in the raw data, using Nielsen-Kantar programming types (perhaps we should have a side bar on this part of the data?). Our four categories will be:\n",
    "\n",
    "1. **Local news (`lnews`)** - requires expanding the existing definition a bit.\n",
    "2. **National news (`nnews`)**\n",
    "3. **Other local programming** - referred to as \"entertainment\" in the paper (**`otherl`**)\n",
    "4. **Other cable programming** (**`otherc`**)"
   ]
  },
  {
   "cell_type": "code",
   "execution_count": 14,
   "metadata": {
    "collapsed": false
   },
   "outputs": [
    {
     "name": "stdout",
     "output_type": "stream",
     "text": [
      "\n",
      "> ,0)\n"
     ]
    }
   ],
   "source": [
    "%%stata\n",
    "rename lnews l_all\n",
    "gen lnews    = cond(l_all==1 & bc==1,1,0)\n",
    "gen cablenews= cond(Nstat==\"CNN\" | Nstat==\"BBCA\" | Nstat==\"HLN\" | Nstat==\"WGN\" | Nstat==\"FXNC\",1,0)\n",
    "gen nnews    = cond(news==1 & l_all==0 & (bc == 1 |cablenews == 1),1,0)\n",
    "gen otherl   = cond(news==0 & bc==1,1,0)\n",
    "gen otherc   = cond(bc==0 & lnews==0 & nnews==0 & otherl==0,1,0)"
   ]
  },
  {
   "cell_type": "markdown",
   "metadata": {},
   "source": [
    "Mark price data and mark and viewership data. Price data is defined as data for which we have a price per second (`pps != 0`), while viewership data is data for which we have a viewership shape (`si != .`). We also take this opportunity to drop out the spottier data on the first two time periods in our sample. "
   ]
  },
  {
   "cell_type": "code",
   "execution_count": 15,
   "metadata": {
    "collapsed": false
   },
   "outputs": [
    {
     "name": "stdout",
     "output_type": "stream",
     "text": [
      "\n",
      "(656,167 real changes made)\n"
     ]
    }
   ],
   "source": [
    "%%stata\n",
    "gen pricedata = cond(pps != ., 1, 0)\n",
    "gen viewdata  = cond(si != ., 1, 0)\n",
    "replace viewdata = 0 if timeslot ==1 | timeslot ==2"
   ]
  },
  {
   "cell_type": "markdown",
   "metadata": {},
   "source": [
    "Now, we will start assembling station-level variables by time slot across the four weeks of daily data in our data set. This focuses attention on average viewership over the time period (which is the relevant thing to look at for programming decisions), and also reduces our data to a manageable size! Before doing this, we pare down the data to our viewership data, and then create a station-level unique identifier number."
   ]
  },
  {
   "cell_type": "code",
   "execution_count": 16,
   "metadata": {
    "collapsed": false
   },
   "outputs": [
    {
     "name": "stdout",
     "output_type": "stream",
     "text": [
      "\n",
      "(683,382 observations deleted)\n"
     ]
    }
   ],
   "source": [
    "%%stata\n",
    "keep if viewdata"
   ]
  },
  {
   "cell_type": "markdown",
   "metadata": {},
   "source": [
    "Schematic for the following variables: \n",
    "\n",
    "1. Station-level numeric Id\n",
    "2. Mean viewership share for weekdays over sweeps month.\n",
    "3. Mean price-per-second for weekdays over sweeps month.\n",
    "4. Programming type - defined as a share of days broadcasting each type of programming. "
   ]
  },
  {
   "cell_type": "code",
   "execution_count": 17,
   "metadata": {
    "collapsed": false
   },
   "outputs": [
    {
     "name": "stdout",
     "output_type": "stream",
     "text": [
      "\n",
      ". bysort stationid timeslot (1903095 missing values generated)\n"
     ]
    }
   ],
   "source": [
    "%%stata\n",
    "egen stationid = group(NDMAName Nstat)\n",
    "\n",
    "bysort stationid timeslot : egen double meansi    =mean(si)\n",
    "bysort stationid timeslot : egen double meanpps   =mean(pps)\n",
    "bysort stationid timeslot : egen double meanlnews =mean(lnews)\n",
    "bysort stationid timeslot : egen double meanotherl=mean(otherl)\n",
    "bysort stationid timeslot : egen double meannnews =mean(nnews)\n",
    "bysort stationid timeslot : egen double meanotherc=mean(otherc)\n",
    "bysort stationid timeslot :  gen keep =_n==_N\n",
    "\n",
    "keep if keep"
   ]
  },
  {
   "cell_type": "markdown",
   "metadata": {},
   "source": [
    "Pare down the data so that we keep only what we need - it still is a huge data set, after all! \n",
    "\n",
    "Two emerging questions: \n",
    "\n",
    "1. How can we break lines in an IPython notebook?\n",
    "2. How can we pass a local from Python into stata? \n"
   ]
  },
  {
   "cell_type": "code",
   "execution_count": 18,
   "metadata": {
    "collapsed": false
   },
   "outputs": [
    {
     "name": "stdout",
     "output_type": "stream",
     "text": [
      "\n",
      "> _HHHispanic ACS_MedianHHIncome ACS_HHWhite ACS_MedianAge Mpop meansi meanpps meanlnews meanother\n",
      "> l meannnews meanotherc\n"
     ]
    }
   ],
   "source": [
    "%%stata\n",
    "keep NDMAName NDMACode Nstat stationid timeslot affiliation local_station ACS_HH ACS_HHBlack ACS_HHHispanic ACS_MedianHHIncome ACS_HHWhite ACS_MedianAge Mpop meansi meanpps meanlnews meanotherl meannnews meanotherc"
   ]
  },
  {
   "cell_type": "markdown",
   "metadata": {},
   "source": [
    "Sort resulting data, fill in missings, and set panel identifiers:"
   ]
  },
  {
   "cell_type": "code",
   "execution_count": 19,
   "metadata": {
    "collapsed": false
   },
   "outputs": [
    {
     "name": "stdout",
     "output_type": "stream",
     "text": [
      "\n",
      "       panel variable:  stationid (unbalanced)\n",
      "        time variable:  timeslot, 3 to 8, but with gaps\n",
      "                delta:  1 unit\n"
     ]
    }
   ],
   "source": [
    "%%stata\n",
    "sort NDMACode stationid timeslot\n",
    "tsset stationid timeslot\n",
    "tsfill, full"
   ]
  },
  {
   "cell_type": "markdown",
   "metadata": {},
   "source": [
    "So, to reiterate, we now have a panel data set for six timeslots, which record average viewership, program type, and average advertising prices in each slot, for each station.\n",
    "\n",
    "The next bit of code back fills non-varying demographic variables for each observation. It loops over time periods and puts, for example, population data wherever it is missing at our panel-time unit."
   ]
  },
  {
   "cell_type": "code",
   "execution_count": 20,
   "metadata": {
    "collapsed": false
   },
   "outputs": [
    {
     "name": "stdout",
     "output_type": "stream",
     "text": [
      "\n",
      "> nHHIncome ACS_HHWhite ACS_MedianAge Mpop NDMACode(13 real changes made)\n",
      "(1 real change made)\n",
      "(13 real changes made)\n",
      "(1 real change made)\n",
      "(13 real changes made)\n",
      "(1 real change made)\n",
      "(0 real changes made)\n",
      "(0 real changes made)\n",
      "(0 real changes made)\n",
      "(0 real changes made)\n",
      "(13 real changes made)\n",
      "(1 real change made)\n",
      "(13 real changes made)\n",
      "(1 real change made)\n",
      "(13 real changes made)\n",
      "(1 real change made)\n",
      "(13 real changes made)\n",
      "(1 real change made)\n",
      "(13 real changes made)\n",
      "(1 real change made)\n",
      "(13 real changes made)\n",
      "(1 real change made)\n",
      "(13 real changes made)\n",
      "(1 real change made)\n",
      "(13 real changes made)\n",
      "(1 real change made)\n",
      "(13 real changes made)\n",
      "(1 real change made)\n",
      "(6 real changes made)\n",
      "(0 real changes made)\n",
      "(6 real changes made)\n",
      "(0 real changes made)\n",
      "(6 real changes made)\n",
      "(0 real changes made)\n",
      "(0 real changes made)\n",
      "(0 real changes made)\n",
      "(0 real changes made)\n",
      "(0 real changes made)\n",
      "(6 real changes made)\n",
      "(0 real changes made)\n",
      "(6 real changes made)\n",
      "(0 real changes made)\n",
      "(6 real changes made)\n",
      "(0 real changes made)\n",
      "(6 real changes made)\n",
      "(0 real changes made)\n",
      "(6 real changes made)\n",
      "(0 real changes made)\n",
      "(6 real changes made)\n",
      "(0 real changes made)\n",
      "(6 real changes made)\n",
      "(0 real changes made)\n",
      "(6 real changes made)\n",
      "(0 real changes made)\n",
      "(6 real changes made)\n",
      "(0 real changes made)\n",
      "(1 real change made)\n",
      "(0 real changes made)\n",
      "(1 real change made)\n",
      "(0 real changes made)\n",
      "(1 real change made)\n",
      "(0 real changes made)\n",
      "(0 real changes made)\n",
      "(0 real changes made)\n",
      "(0 real changes made)\n",
      "(0 real changes made)\n",
      "(1 real change made)\n",
      "(0 real changes made)\n",
      "(1 real change made)\n",
      "(0 real changes made)\n",
      "(1 real change made)\n",
      "(0 real changes made)\n",
      "(1 real change made)\n",
      "(0 real changes made)\n",
      "(1 real change made)\n",
      "(0 real changes made)\n",
      "(1 real change made)\n",
      "(0 real changes made)\n",
      "(1 real change made)\n",
      "(0 real changes made)\n",
      "(1 real change made)\n",
      "(0 real changes made)\n",
      "(1 real change made)\n",
      "(0 real changes made)\n",
      "(0 real changes made)\n",
      "(0 real changes made)\n",
      "(0 real changes made)\n",
      "(0 real changes made)\n",
      "(0 real changes made)\n",
      "(0 real changes made)\n",
      "(0 real changes made)\n",
      "(0 real changes made)\n",
      "(0 real changes made)\n",
      "(0 real changes made)\n",
      "(0 real changes made)\n",
      "(0 real changes made)\n",
      "(0 real changes made)\n",
      "(0 real changes made)\n",
      "(0 real changes made)\n",
      "(0 real changes made)\n",
      "(0 real changes made)\n",
      "(0 real changes made)\n",
      "(0 real changes made)\n",
      "(0 real changes made)\n",
      "(0 real changes made)\n",
      "(0 real changes made)\n",
      "(0 real changes made)\n",
      "(0 real changes made)\n",
      "(0 real changes made)\n",
      "(0 real changes made)\n",
      "(0 real changes made)\n",
      "(0 real changes made)\n",
      "(0 real changes made)\n",
      "(0 real changes made)\n",
      "(0 real changes made)\n",
      "(0 real changes made)\n",
      "(0 real changes made)\n",
      "(0 real changes made)\n",
      "(0 real changes made)\n",
      "(0 real changes made)\n",
      "(0 real changes made)\n",
      "(0 real changes made)\n",
      "(0 real changes made)\n",
      "(0 real changes made)\n",
      "(0 real changes made)\n",
      "(0 real changes made)\n",
      "(0 real changes made)\n",
      "(0 real changes made)\n",
      "(0 real changes made)\n",
      "(0 real changes made)\n",
      "(0 real changes made)\n",
      "(0 real changes made)\n",
      "(0 real changes made)\n",
      "(0 real changes made)\n",
      "(0 real changes made)\n",
      "(0 real changes made)\n",
      "(0 real changes made)\n",
      "(0 real changes made)\n",
      "(0 real changes made)\n",
      "(0 real changes made)\n",
      "(0 real changes made)\n",
      "(0 real changes made)\n",
      "(0 real changes made)\n",
      "(0 real changes made)\n",
      "(0 real changes made)\n",
      "(0 real changes made)\n",
      "(0 real changes made)\n",
      "(0 real changes made)\n",
      "(0 real changes made)\n",
      "(0 real changes made)\n",
      "(0 real changes made)\n",
      "(0 real changes made)\n",
      "(0 real changes made)\n",
      "(0 real changes made)\n",
      "(0 real changes made)\n",
      "(0 real changes made)\n",
      "(0 real changes made)\n",
      "(0 real changes made)\n",
      "(0 real changes made)\n",
      "(0 real changes made)\n",
      "(0 real changes made)\n",
      "(0 real changes made)\n",
      "(0 real changes made)\n",
      "(0 real changes made)\n",
      "(0 real changes made)\n",
      "(0 real changes made)\n",
      "(0 real changes made)\n",
      "(0 real changes made)\n"
     ]
    }
   ],
   "source": [
    "%%stata\n",
    "local stringReplace NDMAName Nstat affiliation\n",
    "local numberReplace stationid timeslot local_station ACS_HH ACS_HHBlack ACS_HHHispanic ACS_MedianHHIncome ACS_HHWhite ACS_MedianAge Mpop NDMACode\n",
    "\n",
    "forvalues i=3/8 {\n",
    "    foreach word of local stringReplace {\n",
    "        bysort stationid: replace `word'=`word'[_n+1] if `word'==\"\"\n",
    "        bysort stationid: replace `word'=`word'[_n-1] if `word'==\"\"\n",
    "    }\n",
    "    foreach word of local numberReplace {\n",
    "        bysort stationid: replace `word'=`word'[_n+1] if `word'==.\n",
    "        bysort stationid: replace `word'=`word'[_n-1] if `word'==.\n",
    "    }\n",
    "}"
   ]
  },
  {
   "cell_type": "markdown",
   "metadata": {},
   "source": [
    "We have some missing shares here and there, so we can fill these in without too much trouble. The best thing to do is interpolate over logs, as in this way we ensure that results are always positive - we can't have negative shares when we go to the modeling of shares!"
   ]
  },
  {
   "cell_type": "code",
   "execution_count": 21,
   "metadata": {
    "collapsed": false
   },
   "outputs": [
    {
     "name": "stdout",
     "output_type": "stream",
     "text": [
      "\n",
      "(21 missing values generated)\n",
      "(21 real changes made)\n",
      "(21 real changes made)\n"
     ]
    }
   ],
   "source": [
    "%%stata\n",
    "\n",
    "gen double lnsi = ln(meansi)\n",
    "bysort stationid: ipolate lnsi timeslot, gen(lnsid) epolate\n",
    "replace lnsi = lnsid if lnsi==.\n",
    "replace meansi = exp(lnsi) if meansi==.\n",
    "drop lnsid"
   ]
  },
  {
   "cell_type": "markdown",
   "metadata": {},
   "source": [
    "The next block of code interpolates missing programming types where they are missing - there aren't a lot of places where this is the case, so there is virtually zero harm done. \n",
    "\n",
    "We then replace the most common programming type with a dummy for the analysis. Once again, stations almost never change viewership patterns during the week, but there are a handful of stations that do. This amounts to saying that stations that broadcast local news 90% of the time are broadcasting local news in a given timeslot. But again, most of the time, there is only one type of broadcast observed in any given timeslot."
   ]
  },
  {
   "cell_type": "code",
   "execution_count": 22,
   "metadata": {
    "collapsed": false
   },
   "outputs": [
    {
     "name": "stdout",
     "output_type": "stream",
     "text": [
      "\n",
      "(21 real changes made)\n",
      "(21 real changes made)\n",
      "(21 real changes made)\n",
      "(21 real changes made)\n",
      "(95994 missing values generated)\n",
      "(0 real changes made)\n"
     ]
    }
   ],
   "source": [
    "%%stata\n",
    "local AverageReplace meanlnews meanotherl meannnews meanotherc meanpps\n",
    "\n",
    "foreach word of local AverageReplace {\n",
    "    bysort stationid: ipolate `word' timeslot, gen(holder) epolate\n",
    "    replace `word'=holder if `word'==.\n",
    "    drop holder\n",
    "    }\n",
    "\n",
    "gen lnews  = meanlnews > .5\n",
    "gen nnews  = meannnews > .5\n",
    "gen otherl = lnews == 0 & nnews == 0 & local_station\n",
    "gen otherc = (lnews == 0 & nnews == 0 & otherl == 0)\n",
    "\n",
    "drop meanlnews meanotherl meannnews meanotherc\n",
    "\n",
    "rename meansi si\n",
    "rename meanpps pps"
   ]
  },
  {
   "cell_type": "markdown",
   "metadata": {},
   "source": [
    "Now that we have average shares and programming types per station per time period, we can start forming aggregates, which will figure into estimation when we start using the nested multinomial logit. Here, we compute shares by time period and programming type for each market, and also generate total viewership shares (and not viewing shares). We also make a variable called `owngroupshare` which returns each stations share within group of whatever type of broadcast they happen to be showing. "
   ]
  },
  {
   "cell_type": "code",
   "execution_count": 23,
   "metadata": {
    "collapsed": false
   },
   "outputs": [
    {
     "name": "stdout",
     "output_type": "stream",
     "text": [
      "\n",
      "\n"
     ]
    }
   ],
   "source": [
    "%%stata\n",
    "bysort NDMAC timeslot: egen double slnews=total(si*lnews)\n",
    "bysort NDMAC timeslot: egen double snnews=total(si*nnews)\n",
    "bysort NDMAC timeslot: egen double sotherl=total(si*otherl)\n",
    "bysort NDMAC timeslot: egen double sotherc=total(si*otherc)\n",
    "\n",
    "bysort NDMAC timeslot: egen double stotal=total(si)\n",
    "gen double so=1-stotal\n",
    "\n",
    "gen double owngroupshare=lnews*slnews+nnews*snnews+otherl*sotherl+otherc*sotherc"
   ]
  },
  {
   "cell_type": "markdown",
   "metadata": {},
   "source": [
    "Logs and interaction terms, which also figure into estimation. Coincidentally, we generate these as doubles because they are often somewhat small, and we like to keep significant digits in making small predictions. "
   ]
  },
  {
   "cell_type": "code",
   "execution_count": 24,
   "metadata": {
    "collapsed": false
   },
   "outputs": [
    {
     "name": "stdout",
     "output_type": "stream",
     "text": [
      "\n",
      "\n"
     ]
    }
   ],
   "source": [
    "%%stata\n",
    "gen double ln_swg = ln(si/owngroupshare) \n",
    "\n",
    "gen double ln_swgXslnews=ln_swg*lnews   \n",
    "gen double ln_swgXsnnews=ln_swg*nnews    \n",
    "gen double ln_swgXsotherl=ln_swg*otherl"
   ]
  },
  {
   "cell_type": "markdown",
   "metadata": {},
   "source": [
    "Station-affiliation dummies:"
   ]
  },
  {
   "cell_type": "code",
   "execution_count": 25,
   "metadata": {
    "collapsed": false
   },
   "outputs": [
    {
     "name": "stdout",
     "output_type": "stream",
     "text": [
      "\n",
      "\n"
     ]
    }
   ],
   "source": [
    "%%stata\n",
    "gen NBC=(aff==\"NBC\")\n",
    "gen CBS=(aff==\"CBS\")\n",
    "gen ABC=(aff==\"ABC\")\n",
    "gen FOX=(aff==\"FOX\")\n",
    "gen CW= (aff==\"CW\")\n",
    "gen TEL=(aff==\"TEL\")\n",
    "gen UNI=(aff==\"UNI\")\n",
    "gen AZA=(aff==\"AZA\")\n",
    "gen MNT=(aff==\"MNT\")\n",
    "gen PBS=(aff==\"PBS\")\n",
    "gen TLF=(aff==\"TLF\")"
   ]
  },
  {
   "cell_type": "markdown",
   "metadata": {},
   "source": [
    "Some additional variables of interest, including a market-time identifier, and a market identifier (both are needed for our random effects scheme). Also, a time id, and a dependent variable. We then save it all as our working data set."
   ]
  },
  {
   "cell_type": "code",
   "execution_count": 26,
   "metadata": {
    "collapsed": false
   },
   "outputs": [
    {
     "name": "stdout",
     "output_type": "stream",
     "text": [
      "\n",
      "   timeslot |      Freq.     Percent        Cum.\n",
      "------------+-----------------------------------\n",
      "          3 |     16,622       16.67       16.67\n",
      "          4 |     16,622       16.67       33.33\n",
      "          5 |     16,622       16.67       50.00\n",
      "          6 |     16,622       16.67       66.67\n",
      "          7 |     16,622       16.67       83.33\n",
      "          8 |     16,622       16.67      100.00\n",
      "------------+-----------------------------------\n",
      "      Total |     99,732      100.00\n",
      "\n",
      "   NDMACode |      Freq.     Percent        Cum.\n",
      "------------+-----------------------------------\n",
      "        500 |        402        0.40        0.40\n",
      "        501 |        744        0.75        1.15\n",
      "        502 |        456        0.46        1.61\n",
      "        503 |        474        0.48        2.08\n",
      "        504 |        750        0.75        2.83\n",
      "        505 |        612        0.61        3.45\n",
      "        506 |        654        0.66        4.10\n",
      "        507 |        438        0.44        4.54\n",
      "        508 |        642        0.64        5.19\n",
      "        509 |        426        0.43        5.61\n",
      "        510 |        630        0.63        6.24\n",
      "        511 |        732        0.73        6.98\n",
      "        512 |        726        0.73        7.71\n",
      "        513 |        474        0.48        8.18\n",
      "        514 |        624        0.63        8.81\n",
      "        515 |        636        0.64        9.45\n",
      "        516 |        414        0.42        9.86\n",
      "        517 |        642        0.64       10.50\n",
      "        518 |        648        0.65       11.15\n",
      "        519 |        438        0.44       11.59\n",
      "        520 |        462        0.46       12.06\n",
      "        521 |        696        0.70       12.75\n",
      "        522 |        480        0.48       13.24\n",
      "        523 |        396        0.40       13.63\n",
      "        524 |        654        0.66       14.29\n",
      "        525 |        432        0.43       14.72\n",
      "        526 |        492        0.49       15.21\n",
      "        527 |        624        0.63       15.84\n",
      "        528 |        672        0.67       16.51\n",
      "        529 |        594        0.60       17.11\n",
      "        530 |        438        0.44       17.55\n",
      "        531 |        462        0.46       18.01\n",
      "        532 |        384        0.39       18.40\n",
      "        533 |        696        0.70       19.10\n",
      "        534 |        660        0.66       19.76\n",
      "        535 |        606        0.61       20.36\n",
      "        536 |        438        0.44       20.80\n",
      "        537 |        390        0.39       21.19\n",
      "        538 |        378        0.38       21.57\n",
      "        539 |        684        0.69       22.26\n",
      "        540 |        438        0.44       22.70\n",
      "        541 |        438        0.44       23.14\n",
      "        542 |        654        0.66       23.79\n",
      "        543 |        438        0.44       24.23\n",
      "        544 |        684        0.69       24.92\n",
      "        545 |        420        0.42       25.34\n",
      "        546 |        438        0.44       25.78\n",
      "        547 |        468        0.47       26.25\n",
      "        548 |        666        0.67       26.92\n",
      "        549 |        498        0.50       27.42\n",
      "        550 |        438        0.44       27.85\n",
      "        551 |        480        0.48       28.34\n",
      "        553 |        444        0.45       28.78\n",
      "        554 |        516        0.52       29.30\n",
      "        555 |        468        0.47       29.77\n",
      "        556 |        690        0.69       30.46\n",
      "        557 |        648        0.65       31.11\n",
      "        558 |        456        0.46       31.57\n",
      "        559 |        558        0.56       32.13\n",
      "        560 |        654        0.66       32.78\n",
      "        561 |        678        0.68       33.46\n",
      "        563 |        420        0.42       33.88\n",
      "        564 |        486        0.49       34.37\n",
      "        565 |        504        0.51       34.88\n",
      "        566 |        468        0.47       35.34\n",
      "        567 |        690        0.69       36.04\n",
      "        569 |        468        0.47       36.51\n",
      "        570 |        456        0.46       36.96\n",
      "        571 |        624        0.63       37.59\n",
      "        573 |        456        0.46       38.05\n",
      "        574 |        426        0.43       38.47\n",
      "        575 |        444        0.45       38.92\n",
      "        576 |        504        0.51       39.42\n",
      "        577 |        474        0.48       39.90\n",
      "        581 |        468        0.47       40.37\n",
      "        582 |        366        0.37       40.74\n",
      "        584 |        354        0.35       41.09\n",
      "        588 |        390        0.39       41.48\n",
      "        592 |        378        0.38       41.86\n",
      "        597 |        528        0.53       42.39\n",
      "        598 |        522        0.52       42.91\n",
      "        600 |        432        0.43       43.35\n",
      "        602 |        678        0.68       44.03\n",
      "        603 |        414        0.42       44.44\n",
      "        604 |        390        0.39       44.83\n",
      "        605 |        402        0.40       45.24\n",
      "        606 |        438        0.44       45.67\n",
      "        609 |        582        0.58       46.26\n",
      "        610 |        396        0.40       46.66\n",
      "        611 |        372        0.37       47.03\n",
      "        612 |        456        0.46       47.49\n",
      "        613 |        558        0.56       48.04\n",
      "        616 |        630        0.63       48.68\n",
      "        617 |        630        0.63       49.31\n",
      "        618 |        648        0.65       49.96\n",
      "        619 |        378        0.38       50.34\n",
      "        622 |        678        0.68       51.02\n",
      "        623 |        678        0.68       51.70\n",
      "        624 |        426        0.43       52.12\n",
      "        625 |        444        0.45       52.57\n",
      "        627 |        480        0.48       53.05\n",
      "        628 |        462        0.46       53.51\n",
      "        630 |        672        0.67       54.19\n",
      "        631 |        516        0.52       54.70\n",
      "        632 |        474        0.48       55.18\n",
      "        633 |        426        0.43       55.61\n",
      "        634 |        438        0.44       56.05\n",
      "        635 |        648        0.65       56.70\n",
      "        636 |        432        0.43       57.13\n",
      "        637 |        390        0.39       57.52\n",
      "        638 |        450        0.45       57.97\n",
      "        639 |        528        0.53       58.50\n",
      "        640 |        708        0.71       59.21\n",
      "        641 |        636        0.64       59.85\n",
      "        642 |        444        0.45       60.29\n",
      "        643 |        480        0.48       60.77\n",
      "        644 |        468        0.47       61.24\n",
      "        647 |        504        0.51       61.75\n",
      "        648 |        390        0.39       62.14\n",
      "        649 |        384        0.39       62.53\n",
      "        650 |        618        0.62       63.15\n",
      "        651 |        396        0.40       63.54\n",
      "        652 |        396        0.40       63.94\n",
      "        656 |        420        0.42       64.36\n",
      "        657 |        486        0.49       64.85\n",
      "        658 |        408        0.41       65.26\n",
      "        659 |        654        0.66       65.91\n",
      "        661 |        450        0.45       66.36\n",
      "        662 |        438        0.44       66.80\n",
      "        669 |        354        0.35       67.16\n",
      "        670 |        426        0.43       67.59\n",
      "        671 |        624        0.63       68.21\n",
      "        673 |        492        0.49       68.70\n",
      "        675 |        378        0.38       69.08\n",
      "        676 |        414        0.42       69.50\n",
      "        678 |        366        0.37       69.87\n",
      "        679 |        354        0.35       70.22\n",
      "        682 |        402        0.40       70.62\n",
      "        686 |        414        0.42       71.04\n",
      "        687 |        372        0.37       71.41\n",
      "        691 |        438        0.44       71.85\n",
      "        692 |        414        0.42       72.27\n",
      "        693 |        426        0.43       72.69\n",
      "        698 |        438        0.44       73.13\n",
      "        702 |        420        0.42       73.55\n",
      "        705 |        390        0.39       73.94\n",
      "        709 |        468        0.47       74.41\n",
      "        710 |        528        0.53       74.94\n",
      "        711 |        480        0.48       75.42\n",
      "        716 |        444        0.45       75.87\n",
      "        717 |        438        0.44       76.31\n",
      "        718 |        462        0.46       76.77\n",
      "        722 |        408        0.41       77.18\n",
      "        724 |        366        0.37       77.55\n",
      "        725 |        384        0.39       77.93\n",
      "        734 |        504        0.51       78.44\n",
      "        736 |        492        0.49       78.93\n",
      "        737 |        378        0.38       79.31\n",
      "        743 |        378        0.38       79.69\n",
      "        744 |        378        0.38       80.07\n",
      "        746 |        426        0.43       80.50\n",
      "        749 |        444        0.45       80.94\n",
      "        751 |        606        0.61       81.55\n",
      "        752 |        420        0.42       81.97\n",
      "        753 |        618        0.62       82.59\n",
      "        754 |        366        0.37       82.96\n",
      "        755 |        438        0.44       83.40\n",
      "        756 |        408        0.41       83.80\n",
      "        757 |        354        0.35       84.16\n",
      "        758 |        348        0.35       84.51\n",
      "        759 |        474        0.48       84.98\n",
      "        760 |        426        0.43       85.41\n",
      "        762 |        420        0.42       85.83\n",
      "        764 |        456        0.46       86.29\n",
      "        765 |        450        0.45       86.74\n",
      "        767 |        474        0.48       87.22\n",
      "        770 |        600        0.60       87.82\n",
      "        771 |        558        0.56       88.38\n",
      "        773 |        390        0.39       88.77\n",
      "        789 |        408        0.41       89.18\n",
      "        790 |        660        0.66       89.84\n",
      "        800 |        480        0.48       90.32\n",
      "        801 |        420        0.42       90.74\n",
      "        802 |        420        0.42       91.16\n",
      "        803 |        732        0.73       91.90\n",
      "        804 |        432        0.43       92.33\n",
      "        807 |        654        0.66       92.99\n",
      "        810 |        486        0.49       93.47\n",
      "        811 |        408        0.41       93.88\n",
      "        813 |        438        0.44       94.32\n",
      "        819 |        552        0.55       94.87\n",
      "        820 |        612        0.61       95.49\n",
      "        821 |        360        0.36       95.85\n",
      "        825 |        678        0.68       96.53\n",
      "        828 |        426        0.43       96.96\n",
      "        839 |        642        0.64       97.60\n",
      "        855 |        420        0.42       98.02\n",
      "        862 |        738        0.74       98.76\n",
      "        866 |        444        0.45       99.21\n",
      "        868 |        408        0.41       99.61\n",
      "        881 |        384        0.39      100.00\n",
      "------------+-----------------------------------\n",
      "      Total |     99,732      100.00\n",
      "(95,994 missing values generated)\n",
      "(note: file Data\\AveragedData.dta not found)\n",
      "file Data\\AveragedData.dta saved\n"
     ]
    }
   ],
   "source": [
    "%%stata\n",
    "egen market=group(NDMACode)\n",
    "\n",
    "egen mt=group(NDMACode timeslot)\t\n",
    "\n",
    "sort market mt stationid\n",
    "\n",
    "tab timeslot, gen(timed)\n",
    "tab NDMACode, gen(markket)\n",
    "\n",
    "gen double dln=ln(si)-ln(so)\n",
    "gen double lnpps=ln(pps)\n",
    "\n",
    "gen double lnsiXnnews=lnsi*nnews\n",
    "gen double lnsiXotherl=lnsi*otherl\n",
    "\n",
    "sort market stationid mt\n",
    "\n",
    "save \"Data\\AveragedData.dta\", replace"
   ]
  },
  {
   "cell_type": "markdown",
   "metadata": {},
   "source": [
    "We see that what we have is a nice balanced panel of shares, prices, market-level and station-level variables. "
   ]
  },
  {
   "cell_type": "code",
   "execution_count": 27,
   "metadata": {
    "collapsed": false
   },
   "outputs": [
    {
     "name": "stdout",
     "output_type": "stream",
     "text": [
      "\n",
      "Contains data from Data\\AveragedData.dta\n",
      "  obs:        99,732                          \n",
      " vars:           256                          22 Jul 2016 15:12\n",
      " size:    53,755,548                          (_dta has notes)\n",
      "--------------------------------------------------------------------------------------------------\n",
      "              storage   display    value\n",
      "variable name   type    format     label      variable label\n",
      "--------------------------------------------------------------------------------------------------\n",
      "NDMAName        str45   %45s                * \n",
      "NDMACode        int     %10.0g              * \n",
      "Nstat           str4    %9s                   Nielsen Call Sign\n",
      "affiliation     str5    %9s                   Affiliation\n",
      "local_station   float   %9.0g                 1=Broadcast Station AND Local\n",
      "ACS_HH          double  %12.0g              * Market HH\n",
      "ACS_HHBlack     double  %8.0g               * Market Black HH\n",
      "ACS_HHHispanic  double  %8.0g               * Market Hispanic HH\n",
      "ACS_MedianHHI~e double  %12.0g              * Market Median Income\n",
      "ACS_HHWhite     long    %12.0g              * Market White HH\n",
      "ACS_MedianAge   double  %10.0g              * Market Median Age\n",
      "timeslot        float   %9.0g                 \n",
      "Mpop            double  %10.0g                Mean TotalPop by DMA\n",
      "stationid       float   %9.0g                 group(NDMAName Nstat)\n",
      "si              double  %10.0g                \n",
      "pps             double  %10.0g                \n",
      "lnsi            double  %10.0g                \n",
      "lnews           float   %9.0g                 \n",
      "nnews           float   %9.0g                 \n",
      "otherl          float   %9.0g                 \n",
      "otherc          float   %9.0g                 \n",
      "slnews          double  %10.0g                \n",
      "snnews          double  %10.0g                \n",
      "sotherl         double  %10.0g                \n",
      "sotherc         double  %10.0g                \n",
      "stotal          double  %10.0g                \n",
      "so              double  %10.0g                \n",
      "owngroupshare   double  %10.0g                \n",
      "ln_swg          double  %10.0g                \n",
      "ln_swgXslnews   double  %10.0g                \n",
      "ln_swgXsnnews   double  %10.0g                \n",
      "ln_swgXsotherl  double  %10.0g                \n",
      "NBC             float   %9.0g                 \n",
      "CBS             float   %9.0g                 \n",
      "ABC             float   %9.0g                 \n",
      "FOX             float   %9.0g                 \n",
      "CW              float   %9.0g                 \n",
      "TEL             float   %9.0g                 \n",
      "UNI             float   %9.0g                 \n",
      "AZA             float   %9.0g                 \n",
      "MNT             float   %9.0g                 \n",
      "PBS             float   %9.0g                 \n",
      "TLF             float   %9.0g                 \n",
      "market          float   %9.0g                 group(NDMACode)\n",
      "mt              float   %9.0g                 group(NDMACode timeslot)\n",
      "timed1          byte    %8.0g                 timeslot== 3.0000\n",
      "timed2          byte    %8.0g                 timeslot== 4.0000\n",
      "timed3          byte    %8.0g                 timeslot== 5.0000\n",
      "timed4          byte    %8.0g                 timeslot== 6.0000\n",
      "timed5          byte    %8.0g                 timeslot== 7.0000\n",
      "timed6          byte    %8.0g                 timeslot== 8.0000\n",
      "markket1        byte    %8.0g                 NDMACode== 500.0000\n",
      "markket2        byte    %8.0g                 NDMACode== 501.0000\n",
      "markket3        byte    %8.0g                 NDMACode== 502.0000\n",
      "markket4        byte    %8.0g                 NDMACode== 503.0000\n",
      "markket5        byte    %8.0g                 NDMACode== 504.0000\n",
      "markket6        byte    %8.0g                 NDMACode== 505.0000\n",
      "markket7        byte    %8.0g                 NDMACode== 506.0000\n",
      "markket8        byte    %8.0g                 NDMACode== 507.0000\n",
      "markket9        byte    %8.0g                 NDMACode== 508.0000\n",
      "markket10       byte    %8.0g                 NDMACode== 509.0000\n",
      "markket11       byte    %8.0g                 NDMACode== 510.0000\n",
      "markket12       byte    %8.0g                 NDMACode== 511.0000\n",
      "markket13       byte    %8.0g                 NDMACode== 512.0000\n",
      "markket14       byte    %8.0g                 NDMACode== 513.0000\n",
      "markket15       byte    %8.0g                 NDMACode== 514.0000\n",
      "markket16       byte    %8.0g                 NDMACode== 515.0000\n",
      "markket17       byte    %8.0g                 NDMACode== 516.0000\n",
      "markket18       byte    %8.0g                 NDMACode== 517.0000\n",
      "markket19       byte    %8.0g                 NDMACode== 518.0000\n",
      "markket20       byte    %8.0g                 NDMACode== 519.0000\n",
      "markket21       byte    %8.0g                 NDMACode== 520.0000\n",
      "markket22       byte    %8.0g                 NDMACode== 521.0000\n",
      "markket23       byte    %8.0g                 NDMACode== 522.0000\n",
      "markket24       byte    %8.0g                 NDMACode== 523.0000\n",
      "markket25       byte    %8.0g                 NDMACode== 524.0000\n",
      "markket26       byte    %8.0g                 NDMACode== 525.0000\n",
      "markket27       byte    %8.0g                 NDMACode== 526.0000\n",
      "markket28       byte    %8.0g                 NDMACode== 527.0000\n",
      "markket29       byte    %8.0g                 NDMACode== 528.0000\n",
      "markket30       byte    %8.0g                 NDMACode== 529.0000\n",
      "markket31       byte    %8.0g                 NDMACode== 530.0000\n",
      "markket32       byte    %8.0g                 NDMACode== 531.0000\n",
      "markket33       byte    %8.0g                 NDMACode== 532.0000\n",
      "markket34       byte    %8.0g                 NDMACode== 533.0000\n",
      "markket35       byte    %8.0g                 NDMACode== 534.0000\n",
      "markket36       byte    %8.0g                 NDMACode== 535.0000\n",
      "markket37       byte    %8.0g                 NDMACode== 536.0000\n",
      "markket38       byte    %8.0g                 NDMACode== 537.0000\n",
      "markket39       byte    %8.0g                 NDMACode== 538.0000\n",
      "markket40       byte    %8.0g                 NDMACode== 539.0000\n",
      "markket41       byte    %8.0g                 NDMACode== 540.0000\n",
      "markket42       byte    %8.0g                 NDMACode== 541.0000\n",
      "markket43       byte    %8.0g                 NDMACode== 542.0000\n",
      "markket44       byte    %8.0g                 NDMACode== 543.0000\n",
      "markket45       byte    %8.0g                 NDMACode== 544.0000\n",
      "markket46       byte    %8.0g                 NDMACode== 545.0000\n",
      "markket47       byte    %8.0g                 NDMACode== 546.0000\n",
      "markket48       byte    %8.0g                 NDMACode== 547.0000\n",
      "markket49       byte    %8.0g                 NDMACode== 548.0000\n",
      "markket50       byte    %8.0g                 NDMACode== 549.0000\n",
      "markket51       byte    %8.0g                 NDMACode== 550.0000\n",
      "markket52       byte    %8.0g                 NDMACode== 551.0000\n",
      "markket53       byte    %8.0g                 NDMACode== 553.0000\n",
      "markket54       byte    %8.0g                 NDMACode== 554.0000\n",
      "markket55       byte    %8.0g                 NDMACode== 555.0000\n",
      "markket56       byte    %8.0g                 NDMACode== 556.0000\n",
      "markket57       byte    %8.0g                 NDMACode== 557.0000\n",
      "markket58       byte    %8.0g                 NDMACode== 558.0000\n",
      "markket59       byte    %8.0g                 NDMACode== 559.0000\n",
      "markket60       byte    %8.0g                 NDMACode== 560.0000\n",
      "markket61       byte    %8.0g                 NDMACode== 561.0000\n",
      "markket62       byte    %8.0g                 NDMACode== 563.0000\n",
      "markket63       byte    %8.0g                 NDMACode== 564.0000\n",
      "markket64       byte    %8.0g                 NDMACode== 565.0000\n",
      "markket65       byte    %8.0g                 NDMACode== 566.0000\n",
      "markket66       byte    %8.0g                 NDMACode== 567.0000\n",
      "markket67       byte    %8.0g                 NDMACode== 569.0000\n",
      "markket68       byte    %8.0g                 NDMACode== 570.0000\n",
      "markket69       byte    %8.0g                 NDMACode== 571.0000\n",
      "markket70       byte    %8.0g                 NDMACode== 573.0000\n",
      "markket71       byte    %8.0g                 NDMACode== 574.0000\n",
      "markket72       byte    %8.0g                 NDMACode== 575.0000\n",
      "markket73       byte    %8.0g                 NDMACode== 576.0000\n",
      "markket74       byte    %8.0g                 NDMACode== 577.0000\n",
      "markket75       byte    %8.0g                 NDMACode== 581.0000\n",
      "markket76       byte    %8.0g                 NDMACode== 582.0000\n",
      "markket77       byte    %8.0g                 NDMACode== 584.0000\n",
      "markket78       byte    %8.0g                 NDMACode== 588.0000\n",
      "markket79       byte    %8.0g                 NDMACode== 592.0000\n",
      "markket80       byte    %8.0g                 NDMACode== 597.0000\n",
      "markket81       byte    %8.0g                 NDMACode== 598.0000\n",
      "markket82       byte    %8.0g                 NDMACode== 600.0000\n",
      "markket83       byte    %8.0g                 NDMACode== 602.0000\n",
      "markket84       byte    %8.0g                 NDMACode== 603.0000\n",
      "markket85       byte    %8.0g                 NDMACode== 604.0000\n",
      "markket86       byte    %8.0g                 NDMACode== 605.0000\n",
      "markket87       byte    %8.0g                 NDMACode== 606.0000\n",
      "markket88       byte    %8.0g                 NDMACode== 609.0000\n",
      "markket89       byte    %8.0g                 NDMACode== 610.0000\n",
      "markket90       byte    %8.0g                 NDMACode== 611.0000\n",
      "markket91       byte    %8.0g                 NDMACode== 612.0000\n",
      "markket92       byte    %8.0g                 NDMACode== 613.0000\n",
      "markket93       byte    %8.0g                 NDMACode== 616.0000\n",
      "markket94       byte    %8.0g                 NDMACode== 617.0000\n",
      "markket95       byte    %8.0g                 NDMACode== 618.0000\n",
      "markket96       byte    %8.0g                 NDMACode== 619.0000\n",
      "markket97       byte    %8.0g                 NDMACode== 622.0000\n",
      "markket98       byte    %8.0g                 NDMACode== 623.0000\n",
      "markket99       byte    %8.0g                 NDMACode== 624.0000\n",
      "markket100      byte    %8.0g                 NDMACode== 625.0000\n",
      "markket101      byte    %8.0g                 NDMACode== 627.0000\n",
      "markket102      byte    %8.0g                 NDMACode== 628.0000\n",
      "markket103      byte    %8.0g                 NDMACode== 630.0000\n",
      "markket104      byte    %8.0g                 NDMACode== 631.0000\n",
      "markket105      byte    %8.0g                 NDMACode== 632.0000\n",
      "markket106      byte    %8.0g                 NDMACode== 633.0000\n",
      "markket107      byte    %8.0g                 NDMACode== 634.0000\n",
      "markket108      byte    %8.0g                 NDMACode== 635.0000\n",
      "markket109      byte    %8.0g                 NDMACode== 636.0000\n",
      "markket110      byte    %8.0g                 NDMACode== 637.0000\n",
      "markket111      byte    %8.0g                 NDMACode== 638.0000\n",
      "markket112      byte    %8.0g                 NDMACode== 639.0000\n",
      "markket113      byte    %8.0g                 NDMACode== 640.0000\n",
      "markket114      byte    %8.0g                 NDMACode== 641.0000\n",
      "markket115      byte    %8.0g                 NDMACode== 642.0000\n",
      "markket116      byte    %8.0g                 NDMACode== 643.0000\n",
      "markket117      byte    %8.0g                 NDMACode== 644.0000\n",
      "markket118      byte    %8.0g                 NDMACode== 647.0000\n",
      "markket119      byte    %8.0g                 NDMACode== 648.0000\n",
      "markket120      byte    %8.0g                 NDMACode== 649.0000\n",
      "markket121      byte    %8.0g                 NDMACode== 650.0000\n",
      "markket122      byte    %8.0g                 NDMACode== 651.0000\n",
      "markket123      byte    %8.0g                 NDMACode== 652.0000\n",
      "markket124      byte    %8.0g                 NDMACode== 656.0000\n",
      "markket125      byte    %8.0g                 NDMACode== 657.0000\n",
      "markket126      byte    %8.0g                 NDMACode== 658.0000\n",
      "markket127      byte    %8.0g                 NDMACode== 659.0000\n",
      "markket128      byte    %8.0g                 NDMACode== 661.0000\n",
      "markket129      byte    %8.0g                 NDMACode== 662.0000\n",
      "markket130      byte    %8.0g                 NDMACode== 669.0000\n",
      "markket131      byte    %8.0g                 NDMACode== 670.0000\n",
      "markket132      byte    %8.0g                 NDMACode== 671.0000\n",
      "markket133      byte    %8.0g                 NDMACode== 673.0000\n",
      "markket134      byte    %8.0g                 NDMACode== 675.0000\n",
      "markket135      byte    %8.0g                 NDMACode== 676.0000\n",
      "markket136      byte    %8.0g                 NDMACode== 678.0000\n",
      "markket137      byte    %8.0g                 NDMACode== 679.0000\n",
      "markket138      byte    %8.0g                 NDMACode== 682.0000\n",
      "markket139      byte    %8.0g                 NDMACode== 686.0000\n",
      "markket140      byte    %8.0g                 NDMACode== 687.0000\n",
      "markket141      byte    %8.0g                 NDMACode== 691.0000\n",
      "markket142      byte    %8.0g                 NDMACode== 692.0000\n",
      "markket143      byte    %8.0g                 NDMACode== 693.0000\n",
      "markket144      byte    %8.0g                 NDMACode== 698.0000\n",
      "markket145      byte    %8.0g                 NDMACode== 702.0000\n",
      "markket146      byte    %8.0g                 NDMACode== 705.0000\n",
      "markket147      byte    %8.0g                 NDMACode== 709.0000\n",
      "markket148      byte    %8.0g                 NDMACode== 710.0000\n",
      "markket149      byte    %8.0g                 NDMACode== 711.0000\n",
      "markket150      byte    %8.0g                 NDMACode== 716.0000\n",
      "markket151      byte    %8.0g                 NDMACode== 717.0000\n",
      "markket152      byte    %8.0g                 NDMACode== 718.0000\n",
      "markket153      byte    %8.0g                 NDMACode== 722.0000\n",
      "markket154      byte    %8.0g                 NDMACode== 724.0000\n",
      "markket155      byte    %8.0g                 NDMACode== 725.0000\n",
      "markket156      byte    %8.0g                 NDMACode== 734.0000\n",
      "markket157      byte    %8.0g                 NDMACode== 736.0000\n",
      "markket158      byte    %8.0g                 NDMACode== 737.0000\n",
      "markket159      byte    %8.0g                 NDMACode== 743.0000\n",
      "markket160      byte    %8.0g                 NDMACode== 744.0000\n",
      "markket161      byte    %8.0g                 NDMACode== 746.0000\n",
      "markket162      byte    %8.0g                 NDMACode== 749.0000\n",
      "markket163      byte    %8.0g                 NDMACode== 751.0000\n",
      "markket164      byte    %8.0g                 NDMACode== 752.0000\n",
      "markket165      byte    %8.0g                 NDMACode== 753.0000\n",
      "markket166      byte    %8.0g                 NDMACode== 754.0000\n",
      "markket167      byte    %8.0g                 NDMACode== 755.0000\n",
      "markket168      byte    %8.0g                 NDMACode== 756.0000\n",
      "markket169      byte    %8.0g                 NDMACode== 757.0000\n",
      "markket170      byte    %8.0g                 NDMACode== 758.0000\n",
      "markket171      byte    %8.0g                 NDMACode== 759.0000\n",
      "markket172      byte    %8.0g                 NDMACode== 760.0000\n",
      "markket173      byte    %8.0g                 NDMACode== 762.0000\n",
      "markket174      byte    %8.0g                 NDMACode== 764.0000\n",
      "markket175      byte    %8.0g                 NDMACode== 765.0000\n",
      "markket176      byte    %8.0g                 NDMACode== 767.0000\n",
      "markket177      byte    %8.0g                 NDMACode== 770.0000\n",
      "markket178      byte    %8.0g                 NDMACode== 771.0000\n",
      "markket179      byte    %8.0g                 NDMACode== 773.0000\n",
      "markket180      byte    %8.0g                 NDMACode== 789.0000\n",
      "markket181      byte    %8.0g                 NDMACode== 790.0000\n",
      "markket182      byte    %8.0g                 NDMACode== 800.0000\n",
      "markket183      byte    %8.0g                 NDMACode== 801.0000\n",
      "markket184      byte    %8.0g                 NDMACode== 802.0000\n",
      "markket185      byte    %8.0g                 NDMACode== 803.0000\n",
      "markket186      byte    %8.0g                 NDMACode== 804.0000\n",
      "markket187      byte    %8.0g                 NDMACode== 807.0000\n",
      "markket188      byte    %8.0g                 NDMACode== 810.0000\n",
      "markket189      byte    %8.0g                 NDMACode== 811.0000\n",
      "markket190      byte    %8.0g                 NDMACode== 813.0000\n",
      "markket191      byte    %8.0g                 NDMACode== 819.0000\n",
      "markket192      byte    %8.0g                 NDMACode== 820.0000\n",
      "markket193      byte    %8.0g                 NDMACode== 821.0000\n",
      "markket194      byte    %8.0g                 NDMACode== 825.0000\n",
      "markket195      byte    %8.0g                 NDMACode== 828.0000\n",
      "markket196      byte    %8.0g                 NDMACode== 839.0000\n",
      "markket197      byte    %8.0g                 NDMACode== 855.0000\n",
      "markket198      byte    %8.0g                 NDMACode== 862.0000\n",
      "markket199      byte    %8.0g                 NDMACode== 866.0000\n",
      "markket200      byte    %8.0g                 NDMACode== 868.0000\n",
      "markket201      byte    %8.0g                 NDMACode== 881.0000\n",
      "dln             double  %10.0g                \n",
      "lnpps           double  %10.0g                \n",
      "lnsiXnnews      double  %10.0g                \n",
      "lnsiXotherl     double  %10.0g                \n",
      "                                            * indicated variables have notes\n",
      "--------------------------------------------------------------------------------------------------\n",
      "Sorted by: market  stationid  mt\n"
     ]
    }
   ],
   "source": [
    "%%stata\n",
    "describe"
   ]
  }
 ],
 "metadata": {
  "anaconda-cloud": {},
  "kernelspec": {
   "display_name": "Python [Root]",
   "language": "python",
   "name": "Python [Root]"
  },
  "language_info": {
   "codemirror_mode": {
    "name": "ipython",
    "version": 3
   },
   "file_extension": ".py",
   "mimetype": "text/x-python",
   "name": "python",
   "nbconvert_exporter": "python",
   "pygments_lexer": "ipython3",
   "version": "3.5.2"
  }
 },
 "nbformat": 4,
 "nbformat_minor": 0
}

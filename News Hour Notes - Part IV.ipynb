{
 "cells": [
  {
   "cell_type": "markdown",
   "metadata": {},
   "source": [
    "# Ackerberg sampling and onwards\n",
    "\n",
    "In this notebook, we simulate out the games, create importance weights, and do a lot of other juicy stuff to get ready for estimation. There is a lot of looping and programming here, so this could get long, but let's try to keep things as transparent as possible. \n",
    "\n",
    "We should describe the essence of Ackerberg sampling here as well. \n",
    "\n",
    "The first steps are basically the same as usual:"
   ]
  },
  {
   "cell_type": "code",
   "execution_count": 1,
   "metadata": {
    "collapsed": false
   },
   "outputs": [
    {
     "data": {
      "application/javascript": [
       "IPython.CodeCell.config_defaults.highlight_modes['magic_stata'] = {'reg':[/^%%stata/]};"
      ]
     },
     "metadata": {},
     "output_type": "display_data"
    },
    {
     "data": {
      "text/plain": [
       "'C:\\\\Users\\\\Administrator\\\\Documents\\\\github\\\\newshour'"
      ]
     },
     "execution_count": 1,
     "metadata": {},
     "output_type": "execute_result"
    }
   ],
   "source": [
    "import ipystata\n",
    "import os\n",
    "os.getcwd()"
   ]
  },
  {
   "cell_type": "code",
   "execution_count": 2,
   "metadata": {
    "collapsed": false
   },
   "outputs": [
    {
     "name": "stdout",
     "output_type": "stream",
     "text": [
      "\n",
      "C:\\Users\\Administrator\\Documents\\GitHub\\NewsHour\n"
     ]
    }
   ],
   "source": [
    "%%stata\n",
    "cd C:\\Users\\Administrator\\Documents\\GitHub\\NewsHour\n",
    "clear all\n",
    "use AveragedDataDyno.dta\n",
    "set more off"
   ]
  },
  {
   "cell_type": "markdown",
   "metadata": {},
   "source": [
    "The first thing we will do is generate (if it is not already there) a marker for who is in the game and who is not - **note**: this is perhaps where branchings of our work will begin in the future. So:"
   ]
  },
  {
   "cell_type": "code",
   "execution_count": 3,
   "metadata": {
    "collapsed": false
   },
   "outputs": [
    {
     "name": "stdout",
     "output_type": "stream",
     "text": [
      "\n",
      "\n"
     ]
    }
   ],
   "source": [
    "%%stata\n",
    "capture gen game= (lnews | otherl) & lnpps!=.\n",
    "sort market stationid mt timeslot"
   ]
  },
  {
   "cell_type": "markdown",
   "metadata": {},
   "source": [
    "Note that the above code reflects the idea that only those stations broadcasting local news or other local programming (entertainment programming) in the actual paper are \"making decisions\" at any given time. Also, we need to have a price variable for them as well. \n",
    "\n",
    "The usual next step is to pull everything we need into `Mata`, while also generating any additional variables that we might need. "
   ]
  },
  {
   "cell_type": "code",
   "execution_count": 4,
   "metadata": {
    "collapsed": false
   },
   "outputs": [
    {
     "name": "stdout",
     "output_type": "stream",
     "text": [
      "\n",
      "------------------------------------------------- mata (type end to exit) ----------------------------------------------------------------\n",
      ":     st_view(lnews=.,.,\"lnews\")\n",
      "\n",
      ":     st_view(nnews=.,.,\"nnews\")\n",
      "\n",
      ":     st_view(otherl=.,.,\"otherl\")\n",
      "\n",
      ":     st_view(otherc=.,.,\"otherc\")\n",
      "\n",
      ":     st_view(si=.,.,\"si\")\n",
      "\n",
      ":     st_view(mt=.,.,\"mt\")\n",
      "\n",
      ":     st_view(id=.,.,\"stationid\")\n",
      "\n",
      ":     st_view(M=.,.,\"market\")\n",
      "\n",
      ":     st_view(time=.,.,\"timeslot\")\n",
      "\n",
      ":     st_view(game=.,.,\"game\")\n",
      "\n",
      ":     st_view(lnpps=.,.,\"lnpps\")\n",
      "\n",
      ":     st_view(pop=.,.,\"ACS_HH\") \n",
      "\n",
      ":     st_view(l_ACS_HH=.,.,\"l_ACS_HH\")\n",
      "\n",
      ":     st_view(lnewsn=.,.,\"lnewsn\")\n",
      "\n",
      ":     st_view(otherln=.,.,\"otherln\")\n",
      "\n",
      ":     st_view(nnewsn=.,.,\"nnewsn\")\n",
      "\n",
      ":     st_view(othercn=.,.,\"othercn\")\n",
      "\n",
      ":     st_view(dln=.,.,\"dln\")\n",
      "\n",
      ":     m=panelsetup(M,1)\n",
      "\n",
      ": end\n"
     ]
    }
   ],
   "source": [
    "%%stata\n",
    "mata:\n",
    "    st_view(lnews=.,.,\"lnews\")\n",
    "    st_view(nnews=.,.,\"nnews\")\n",
    "    st_view(otherl=.,.,\"otherl\")\n",
    "    st_view(otherc=.,.,\"otherc\")\n",
    "    st_view(si=.,.,\"si\")\n",
    "    st_view(mt=.,.,\"mt\")\n",
    "    st_view(id=.,.,\"stationid\")\n",
    "    st_view(M=.,.,\"market\")\n",
    "    st_view(time=.,.,\"timeslot\")\n",
    "    st_view(game=.,.,\"game\")\n",
    "    st_view(lnpps=.,.,\"lnpps\")\n",
    "    st_view(pop=.,.,\"ACS_HH\") \n",
    "    st_view(l_ACS_HH=.,.,\"l_ACS_HH\")\n",
    "    st_view(lnewsn=.,.,\"lnewsn\")\n",
    "    st_view(otherln=.,.,\"otherln\")\n",
    "    st_view(nnewsn=.,.,\"nnewsn\")\n",
    "    st_view(othercn=.,.,\"othercn\")\n",
    "    st_view(dln=.,.,\"dln\")\n",
    "\n",
    "    lnviewn=ln(pop:*si)\n",
    "    m=panelsetup(M,1)\n",
    "end"
   ]
  },
  {
   "cell_type": "markdown",
   "metadata": {},
   "source": [
    "Pull in the starting values and get them all set up. Note this requires a little bit of rearranging and some transformation to suit the way we entered things into the likelihood. We also set the number of draws at 20 - while this might seem low, it is hard to do more because the problem is so giant!"
   ]
  },
  {
   "cell_type": "code",
   "execution_count": 5,
   "metadata": {
    "collapsed": false
   },
   "outputs": [
    {
     "name": "stdout",
     "output_type": "stream",
     "text": [
      "\n",
      "------------------------------------------------- mata (type end to exit) ----------------------------------------------------------------\n",
      ":     mata matuse DynoStarts23\n",
      "(loading arate[1,27], bo[1,27], drawsbo[100,27], vals[100,1])\n",
      "\n",
      ":     bo=bo[rows(bo),]\n",
      "\n",
      ":     betaDynoStart=bo[(5..23,27)]\n",
      "\n",
      ":     sdmarv=exp(bo[25])\n",
      "\n",
      ":     sdmodv=exp(bo[26])\n",
      "\n",
      ":     \n",
      ":     draws=20\n",
      "\n",
      ": end:\n"
     ]
    }
   ],
   "source": [
    "%%stata\n",
    "mata:\n",
    "    mata matuse DynoStarts23\n",
    "\n",
    "    bo[,1::4]=bo[,1::4]:^2\n",
    "    bo=bo[rows(bo),]\n",
    "\n",
    "\n",
    "    betaDynoStart=bo[(5..23,27)]\n",
    "\n",
    "    sdstav=exp(bo[24])\n",
    "    sdmarv=exp(bo[25])\n",
    "    sdmodv=exp(bo[26])\n",
    "    \n",
    "    draws=20\n",
    "end:"
   ]
  },
  {
   "cell_type": "markdown",
   "metadata": {},
   "source": [
    "In a previous workbook, we did a big reshape and some associated calculations to get the data in mata form, and in reshaped form. That is, so we have stations as observations, with each row representing a share, price, decision, etc. of dimension 6 - the number of time periods. \n",
    "\n",
    "This is commonly referred to as wide format in Stata, which, for some reason, I decided to mark by suffixing things with the `Long`. To keep things short, I gathered all this code (it is redundant) into a script called `MataReshape.do`. The resulting variables are defined exactly as they were in a previous workbook. "
   ]
  },
  {
   "cell_type": "code",
   "execution_count": 6,
   "metadata": {
    "collapsed": false
   },
   "outputs": [
    {
     "name": "stdout",
     "output_type": "stream",
     "text": [
      "\n",
      "------------------------------------------------- mata (type end to exit) ----------------------------------------------------------------\n",
      ":         \n",
      ":         timeslots=6\n",
      "\n",
      ":         lnewsLong=J(rows(uniqrows(id)),timeslots,.)\n",
      "\n",
      ":         nnewsLong=J(rows(uniqrows(id)),timeslots,.)\n",
      "\n",
      ":         otherlLong=J(rows(uniqrows(id)),timeslots,.)\n",
      "\n",
      ":         othercLong=J(rows(uniqrows(id)),timeslots,.)\n",
      "\n",
      ":         slnewsLong=J(rows(uniqrows(id)),timeslots,.)\n",
      "\n",
      ":         snnewsLong=J(rows(uniqrows(id)),timeslots,.)\n",
      "\n",
      ":         sotherlLong=J(rows(uniqrows(id)),timeslots,.)\n",
      "\n",
      ":         sothercLong=J(rows(uniqrows(id)),timeslots,.)\n",
      "\n",
      ":         gameLong=J(rows(uniqrows(id)),timeslots,.)\n",
      "\n",
      ":         popLong=J(rows(uniqrows(id)),timeslots,.)  /* Not necessary but for convenience and completeness */\n",
      "\n",
      ":         l_ACS_HHLong=J(rows(uniqrows(id)),timeslots,.)\n",
      "\n",
      ":         \n",
      ":         siLong=J(rows(uniqrows(id)),timeslots,.)\n",
      "\n",
      ":         lnewsLongLag=J(rows(uniqrows(id)),timeslots,.)\n",
      "\n",
      ":         nnewsLongLag=J(rows(uniqrows(id)),timeslots,.)\n",
      "\n",
      ":         otherlLongLag=J(rows(uniqrows(id)),timeslots,.)\n",
      "\n",
      ":         otherCLongLag=J(rows(uniqrows(id)),timeslots,.)\n",
      "\n",
      ":         siLongLag=J(rows(uniqrows(id)),timeslots,.)\n",
      "\n",
      ":         idAct=id\n",
      "\n",
      ":         idToUse=colshape(idAct,timeslots)[,1]\n",
      "\n",
      ":         totlnews=J(rows(uniqrows(id)),timeslots,.)\n",
      "\n",
      ":         totnnews=J(rows(uniqrows(id)),timeslots,.)\n",
      "\n",
      ":         \n",
      ":         /* Placeholder for market! */\n",
      ":         \n",
      ":         marketIdLong=J(rows(uniqrows(id)),1,.)\n",
      "\n",
      ":         statIdLong  =J(rows(uniqrows(id)),1,.)\n",
      "\n",
      ":         \n",
      ":         lnppsLong=J(rows(uniqrows(id)),timeslots,.)\n",
      "\n",
      ":         lnviewnLong=J(rows(uniqrows(id)),timeslots,.)\n",
      "\n",
      ":         \n",
      ":         lnewsnLong=J(rows(uniqrows(id)),timeslots,.)\n",
      "\n",
      ":         otherlnLong=J(rows(uniqrows(id)),timeslots,.)\n",
      "\n",
      ":         nnewsnLong=J(rows(uniqrows(id)),timeslots,.)\n",
      "\n",
      ":         othercnLong=J(rows(uniqrows(id)),timeslots,.)\n",
      "\n",
      ":         \n",
      ":         dlnLong=J(rows(uniqrows(id)),timeslots,.)\n",
      ": \n",
      ":         counter=1\n",
      "\n",
      ":         for (i=1;i<=rows(m);i++) {\n",
      ">                 lnewsmp  =panelsubmatrix(lnews,i,m)\n",
      ">                 nnewsmp  =panelsubmatrix(nnews,i,m)\n",
      ">                 otherlmp =panelsubmatrix(otherl,i,m)\n",
      ">                 othercmp =panelsubmatrix(otherc,i,m)\n",
      ">                 idmp=panelsubmatrix(id,i,m)\n",
      ">                 mtmp=panelsubmatrix(mt,i,m)\n",
      ">                 simp=panelsubmatrix(si,i,m)\n",
      ">                 timemp=panelsubmatrix(time,i,m)\n",
      ">                 Mp    =panelsubmatrix(M,i,m)\n",
      ">                 gamep=panelsubmatrix(game,i,m)\n",
      ">                 lnppsp=panelsubmatrix(lnpps,i,m)\n",
      ">                 lnviewnp=panelsubmatrix(lnviewn,i,m)\n",
      ">                 popp=panelsubmatrix(pop,i,m)\n",
      ">                 l_ACS_HHp=panelsubmatrix(l_ACS_HH,i,m)\n",
      ">                 lnewsnp=panelsubmatrix(lnewsn,i,m)\n",
      ">                 otherlnp=panelsubmatrix(otherln,i,m)\n",
      ">                 nnewsnp=panelsubmatrix(nnewsn,i,m)\n",
      ">                 othercnp=panelsubmatrix(othercn,i,m)\n",
      ">                 dlnp=panelsubmatrix(dln,i,m)\n",
      ">                 positioner=colshape(idmp,timeslots)\n",
      "> \n",
      "> /* Make the above into histories - manufacture the data so we don't have */\n",
      "> /* to keep sending around all these interactions */\n",
      "> \n",
      ">                 obs    =uniqrows(idmp)\n",
      ">                 lnewsm1=J(rows(obs),1,0)\n",
      ">                 nnewsm1=J(rows(obs),1,0)\n",
      ">                 otherlm1=J(rows(obs),1,0)\n",
      ">                 othercm1=J(rows(obs),1,0)\n",
      ">                 sim1   =J(rows(obs),1,0)\n",
      ">                 for (k=4;k<=8;k++) {\n",
      ">                         lnewsm1=lnewsm1,select(lnewsmp,timemp:==k-1)\n",
      ">                         nnewsm1=nnewsm1,select(nnewsmp,timemp:==k-1)\n",
      ">                         otherlm1=otherlm1,select(otherlmp,timemp:==k-1)\n",
      ">                         othercm1=othercm1,select(othercmp,timemp:==k-1)\n",
      ">                         sim1   =sim1,select(simp,timemp:==k-1)\n",
      ">                 }\n",
      ">                 lnewsc=J(rows(obs),0,0)\n",
      ">                 nnewsc=J(rows(obs),0,0)\n",
      ">                 sic   =J(rows(obs),0,0) \n",
      ">                 otherlc=J(rows(obs),0,0)\n",
      ">                 othercc=J(rows(obs),0,0)\n",
      ">                 gamec=J(rows(obs),0,0)\n",
      ">                 lnppsc=J(rows(obs),0,0)\n",
      ">                 lnviewnc=J(rows(obs),0,0)\n",
      ">                 popc=J(rows(obs),0,0)\n",
      ">                 l_ACS_HHc=J(rows(obs),0,0)\n",
      ">                 lnewsnc=J(rows(obs),0,0)\n",
      ">                 otherlnc=J(rows(obs),0,0)\n",
      ">                 nnewsnc=J(rows(obs),0,0)\n",
      ">                 othercnc=J(rows(obs),0,0)\n",
      ">                 dlnc=J(rows(obs),0,0)\n",
      ">                 \n",
      ">                 for (k=3;k<=8;k++) {\n",
      ">                         lnewsc=lnewsc,select(lnewsmp,timemp:==k)\n",
      ">                         nnewsc=nnewsc,select(nnewsmp,timemp:==k)\n",
      ">                         otherlc=otherlc,select(otherlmp,timemp:==k)\n",
      ">                         othercc=othercc,select(othercmp,timemp:==k)\n",
      ">                         sic  =sic,select(simp,timemp:==k)\n",
      ">                         gamec=gamec,select(gamep,timemp:==k)\n",
      ">                         lnppsc=lnppsc,select(lnppsp,timemp:==k)\n",
      ">                         lnviewnc=lnviewnc,select(lnviewnp,timemp:==k)\n",
      ">                         popc=popc,select(popp,timemp:==k)\n",
      ">                         l_ACS_HHc=l_ACS_HHc,select(l_ACS_HHp,timemp:==k)\n",
      ">                         lnewsnc=lnewsnc,select(lnewsnp,timemp:==k)\n",
      ">                         otherlnc=otherlnc,select(otherlnp,timemp:==k)\n",
      ">                         nnewsnc=nnewsnc,select(nnewsnp,timemp:==k)\n",
      ">                         othercnc=othercnc,select(othercnp,timemp:==k)\n",
      ">                         dlnc=dlnc,select(dlnp,timemp:==k)\n",
      ">                 }\n",
      "> \n",
      ">         lnewsLong[counter::counter+rows(positioner)-1,.]=lnewsc\n",
      ">         nnewsLong[counter::counter+rows(positioner)-1,.]=nnewsc\n",
      ">         otherlLong[counter::counter+rows(positioner)-1,.]=otherlc\n",
      ">         othercLong[counter::counter+rows(positioner)-1,.]=othercc\n",
      ">         siLong[counter::counter+rows(positioner)-1,.]=sic\n",
      ">         lnewsLongLag[counter::counter+rows(positioner)-1,.]=lnewsm1\n",
      ">         nnewsLongLag[counter::counter+rows(positioner)-1,.]=nnewsm1\n",
      ">         otherlLongLag[counter::counter+rows(positioner)-1,.]=otherlm1\n",
      ">         otherCLongLag[counter::counter+rows(positioner)-1,.]=othercm1\n",
      ">         siLongLag[counter::counter+rows(positioner)-1,.]=sim1\n",
      ">         gameLong[counter::counter+rows(positioner)-1,.]=gamec\n",
      ">         statIdLong[counter::counter+rows(positioner)-1,.]=positioner[,1]\n",
      "> \n",
      ">         lnppsLong[counter::counter+rows(positioner)-1,.]=lnppsc\n",
      ">         lnviewnLong[counter::counter+rows(positioner)-1,.]=lnviewnc\n",
      "> \n",
      ">         popLong[counter::counter+rows(positioner)-1,.]=popc\n",
      ">         l_ACS_HHLong[counter::counter+rows(positioner)-1,.]=l_ACS_HHc\n",
      ">         \n",
      ">         lnewsnLong[counter::counter+rows(positioner)-1,.]=lnewsnc\n",
      ">         otherlnLong[counter::counter+rows(positioner)-1,.]=otherlnc\n",
      ">         nnewsnLong[counter::counter+rows(positioner)-1,.]=nnewsnc       \n",
      ">         othercnLong[counter::counter+rows(positioner)-1,.]=othercnc     \n",
      "> \n",
      ">         /* Group shares */\n",
      ">         \n",
      ">         dlnLong[counter::counter+rows(positioner)-1,.]=dlnc\n",
      "> \n",
      ">         sl=colsum(lnewsc:*sic)  \n",
      ">         so=colsum(otherlc:*sic)\n",
      ">         sn=colsum(nnewsc:*sic)\n",
      ">         sc=colsum(othercc:*sic)\n",
      ">         slnewsLong[counter::counter+rows(positioner)-1,.]=J(rows(positioner),1,sl)\n",
      ">         snnewsLong[counter::counter+rows(positioner)-1,.]=J(rows(positioner),1,sn)\n",
      ">         sotherlLong[counter::counter+rows(positioner)-1,.]=J(rows(positioner),1,so)\n",
      ">         sothercLong[counter::counter+rows(positioner)-1,.]=J(rows(positioner),1,sc)\n",
      ">         \n",
      "> \n",
      ">         /* Compute running totals */\n",
      ">         \n",
      ">         ctln=J(1,6,0)\n",
      ">         ctnn=J(1,6,0)\n",
      ">         totl=0\n",
      ">         totn=0\n",
      ">                 for (k=1;k<=6;k++) {\n",
      ">                         ctln[k]=colsum(lnewsm1[,k]:*sim1[,k])+totl\n",
      ">                         ctnn[k]=colsum(nnewsm1[,k]:*sim1[,k])+totn\n",
      ">                 }\n",
      "> \n",
      ">         totlnews[counter::counter+rows(positioner)-1,.]=J(rows(positioner),1,runningsum(ctln))\n",
      ">         totnnews[counter::counter+rows(positioner)-1,.]=J(rows(positioner),1,runningsum(ctnn))\n",
      ">         \n",
      ">         marketIdLong[counter::counter+rows(positioner)-1,.]=colshape(Mp,6)[,1]\n",
      ">         \n",
      ">         counter=counter+rows(positioner)\n",
      ">         \n",
      ">         }\n",
      "\n",
      ":         \n",
      ":                 // code tidbit rowshape(totln',1)'\n",
      ":                 \n",
      ":                 \n",
      ":         /* Now that we have rendered the data in wide format, we can start to think about */\n",
      ":         /* lags, interactions, etc. */\n",
      ":         \n",
      ":         lnewslnews=lnewsLong:*lnewsLongLag\n",
      "\n",
      ":         lnewsnnews=lnewsLong:*nnewsLongLag\n",
      "\n",
      ":         nnewslnews=nnewsLong:*lnewsLongLag\n",
      "\n",
      ":         nnewsnnews=nnewsLong:*nnewsLongLag\n",
      ": \n",
      ":         siLongLag=ln(siLongLag)\n",
      "\n",
      ":         _editmissing(siLongLag,0)\n",
      "\n",
      ":         \n",
      ":         siXlnln=siLongLag:*lnewslnews\n",
      "\n",
      ":         siXlnnn=siLongLag:*lnewsnnews\n",
      "\n",
      ":         siXnnln=siLongLag:*nnewslnews\n",
      "\n",
      ":         siXnnnn=siLongLag:*nnewsnnews\n",
      "\n",
      ":         \n",
      ":         lnewsRT=lnewsLong:*ln(1:+totlnews)\n",
      "\n",
      ":         nnewsRT=nnewsLong:*ln(1:+totnnews)      /* this is how the variables enter in the regression */\n",
      "------------------------------------------------------------------------------------------------------------------------------------------\n",
      "\n",
      "end of do-file\n"
     ]
    }
   ],
   "source": [
    "%%stata\n",
    "do MataReshape.do"
   ]
  },
  {
   "cell_type": "markdown",
   "metadata": {},
   "source": [
    "That having been done, we now have to recover actual viewership errors, given our model parameters. More correctly, what we really need is the utility index for viewership. This is pretty easy to calculate given our model estimates. If we have (ignoring subscripts, etc. just to give the basic idea):\n",
    "\n",
    "$$\n",
    "\\ln(s_i)-\\ln(s_0) = \\mu \\ln(s_{ig})+U_i\n",
    "$$\n",
    "\n",
    "where $s_{ig}$ is the share of $i$ in $i$'s programming group. \n",
    "\n",
    "We can get $U_i=X\\beta_v+\\epsilon$ by doing:\n",
    "\n",
    "$$\n",
    "U_i = \\ln(s_i)-\\ln(s_0)-\\mu \\ln (s_{ig})\n",
    "$$\n",
    "\n",
    "In St(M)ata, we calculate the within group share (even though we have it - all these redundancies are good for checking things are working), and then calculate this linear viewership term:"
   ]
  },
  {
   "cell_type": "code",
   "execution_count": 7,
   "metadata": {
    "collapsed": false
   },
   "outputs": [
    {
     "name": "stdout",
     "output_type": "stream",
     "text": [
      "\n",
      "------------------------------------------------- mata (type end to exit) ----------------------------------------------------------------\n",
      ":     swgLong=siLong:/(slnewsLong:*lnewsLong:+\n",
      ">         snnewsLong:*nnewsLong:+\n",
      ">         sotherlLong:*otherlLong:+\n",
      ">         sothercLong:*othercLong)\n",
      "\n",
      ":     \n",
      ":     lnswgLong=ln(swgLong)   \n",
      "\n",
      ":     \n",
      ":     XBVngLong=dln-bo[1]*lnswgLong:*lnewsLong-bo[2]*lnswgLong:*otherlLong-\n",
      ">         bo[3]*lnswgLong:*nnewsLong-bo[4]*lnswgLong:*othercLong\n",
      "\n",
      ": end\n"
     ]
    }
   ],
   "source": [
    "%%stata\n",
    "mata:\n",
    "    swgLong=siLong:/(slnewsLong:*lnewsLong:+\n",
    "        snnewsLong:*nnewsLong:+\n",
    "        sotherlLong:*otherlLong:+\n",
    "        sothercLong:*othercLong)\n",
    "    \n",
    "    lnswgLong=ln(swgLong)   \n",
    "\n",
    "    dln=ln(siLong):-ln(1:-(slnewsLong:+snnewsLong:+sotherlLong:+sothercLong))    \n",
    "    \n",
    "    XBVngLong=dln-bo[1]*lnswgLong:*lnewsLong-bo[2]*lnswgLong:*otherlLong-\n",
    "        bo[3]*lnswgLong:*nnewsLong-bo[4]*lnswgLong:*othercLong\n",
    "end"
   ]
  },
  {
   "cell_type": "code",
   "execution_count": 8,
   "metadata": {
    "collapsed": false
   },
   "outputs": [
    {
     "name": "stdout",
     "output_type": "stream",
     "text": [
      "\n",
      "                   1              2              3              4              5              6\n",
      "     +-------------------------------------------------------------------------------------------+\n",
      "   1 |  -8.985634105   -8.392608246   -8.731478588   -8.433964942   -6.958238826   -6.845453225  |\n",
      "   2 |  -8.151051388   -8.357332086   -8.688881175   -8.615198359   -7.966533755   -7.965828642  |\n",
      "   3 |  -8.235545882   -8.282268759   -8.344499022    -8.46101344   -8.280310383   -8.178011364  |\n",
      "   4 |  -9.450145217   -9.174906813   -9.430928685   -8.853047388   -9.087496771   -9.138757042  |\n",
      "   5 |  -9.178007157   -9.091459258    -8.41704476   -8.299877452   -8.366149049   -8.268955677  |\n",
      "   6 |  -8.636742049   -8.510143242   -9.197289446   -8.994011156   -7.608889701     -7.5129947  |\n",
      "   7 |  -8.742925026   -8.627547681   -8.729837754   -8.358080888   -8.013807285   -7.947865051  |\n",
      "   8 |  -8.185559242   -7.863383017   -7.539083529   -7.445749092   -7.030719852   -6.766605178  |\n",
      "   9 |  -7.794947834   -7.901118942   -7.860260255    -7.97544176   -8.404284508   -8.351176799  |\n",
      "  10 |  -9.450145217   -9.445154733   -9.233253162   -9.430614286   -8.598808566   -8.395483129  |\n",
      "     +-------------------------------------------------------------------------------------------+\n",
      "  0\n"
     ]
    }
   ],
   "source": [
    "%%stata\n",
    "mata: XBVngLong[1::10,]\n",
    "mata: hasmissing(XBVngLong)"
   ]
  },
  {
   "cell_type": "markdown",
   "metadata": {},
   "source": [
    "These seem about right. so, now what we can do is start drawing random effects and all that. To do this, we can write a little function called `paneldraw()` which draws common values across a user-specified panel identifier. I've written this function so that it works with the id only, and doesn't require the data to be sorted. "
   ]
  },
  {
   "cell_type": "code",
   "execution_count": 9,
   "metadata": {
    "collapsed": false
   },
   "outputs": [
    {
     "name": "stdout",
     "output_type": "stream",
     "text": [
      "\n",
      "------------------------------------------------- mata (type end to exit) ----------------------------------------------------------------\n",
      ":     real matrix paneldraw(real matrix id, real scalar draws)\n",
      ">     {\n",
      ">         rowsToDraw=uniqrows(id)\n",
      "> \n",
      ">         U=J(rows(id),draws,.)\n",
      ">         for (i=1;i<=rows(rowsToDraw);i++) {\n",
      ">             obs=mm_which(rowsToDraw[i]:==id)\n",
      ">             D=runiform(1,draws)\n",
      ">             U[obs,]=J(rows(obs),1,D)\n",
      ">         }\n",
      ">         return(U)\n",
      ">     }\n",
      "\n",
      ": end\n"
     ]
    }
   ],
   "source": [
    "%%stata\n",
    "mata: \n",
    "    real matrix paneldraw(real matrix id, real scalar draws)\n",
    "    {\n",
    "        rowsToDraw=uniqrows(id)\n",
    "\n",
    "        U=J(rows(id),draws,.)\n",
    "        for (i=1;i<=rows(rowsToDraw);i++) {\n",
    "            obs=mm_which(rowsToDraw[i]:==id)\n",
    "            D=runiform(1,draws)\n",
    "            U[obs,]=J(rows(obs),1,D)\n",
    "        }\n",
    "        return(U)\n",
    "    }\n",
    "end"
   ]
  },
  {
   "cell_type": "markdown",
   "metadata": {},
   "source": [
    "Note that this just provides uniform random variates with common values across panel variables. We just use our estimated parameters and the usual inverse-normal transformation to get the actual values. We then reshape these into a useable form and call the results `UvsLong` and `UvmtLong` - the former being the station random effect, the latter being the market random effect. \n",
    "\n",
    "As the last part of the code block, we draw a purely idiosynchratic error term. \n",
    "\n",
    "Note that the stata package `moremata` is required for this step."
   ]
  },
  {
   "cell_type": "code",
   "execution_count": 10,
   "metadata": {
    "collapsed": false
   },
   "outputs": [
    {
     "name": "stdout",
     "output_type": "stream",
     "text": [
      "\n",
      "------------------------------------------------- mata (type end to exit) ----------------------------------------------------------------\n",
      ":     iev1=paneldraw(id,draws)\n",
      "\n",
      ":     iev2=paneldraw(mt,draws)\n",
      "\n",
      ":     iev1=sdstav*invnormal(iev1)\n",
      "\n",
      ":     iev2=sdmarv*invnormal(iev2)\n",
      "\n",
      ":     UvmtLong=J(rows(lnewsLong),0,0)\n",
      "\n",
      ":     \n",
      ":     for (i=1;i<=draws;i++) {\n",
      ">         UvsLong=UvsLong,colshape(iev1[,i],timeslots)\n",
      ">         UvmtLong=UvmtLong,colshape(iev2[,i],timeslots)\n",
      ">     }\n",
      "\n",
      ": end\n"
     ]
    }
   ],
   "source": [
    "%%stata\n",
    "mata:\n",
    "    iev1=paneldraw(id,draws)\n",
    "    iev2=paneldraw(mt,draws)\n",
    "    iev1=sdstav*invnormal(iev1)\n",
    "    iev2=sdmarv*invnormal(iev2)\n",
    "\n",
    "    UvsLong=J(rows(lnewsLong),0,0)\n",
    "    UvmtLong=J(rows(lnewsLong),0,0)\n",
    "    \n",
    "    for (i=1;i<=draws;i++) {\n",
    "        UvsLong=UvsLong,colshape(iev1[,i],timeslots)\n",
    "        UvmtLong=UvmtLong,colshape(iev2[,i],timeslots)\n",
    "    }\n",
    "\n",
    "    UvmodLong=invnormal(runiform(rows(lnewsLong),timeslots*draws))*sdmodv\n",
    "end\n"
   ]
  },
  {
   "cell_type": "code",
   "execution_count": null,
   "metadata": {
    "collapsed": true
   },
   "outputs": [],
   "source": []
  }
 ],
 "metadata": {
  "kernelspec": {
   "display_name": "Python 3",
   "language": "python",
   "name": "python3"
  },
  "language_info": {
   "codemirror_mode": {
    "name": "ipython",
    "version": 3
   },
   "file_extension": ".py",
   "mimetype": "text/x-python",
   "name": "python",
   "nbconvert_exporter": "python",
   "pygments_lexer": "ipython3",
   "version": "3.5.1"
  }
 },
 "nbformat": 4,
 "nbformat_minor": 0
}

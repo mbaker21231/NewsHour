{
 "cells": [
  {
   "cell_type": "markdown",
   "metadata": {},
   "source": [
    "# Part V - The News Hour - Estimation Setup\n",
    "\n",
    "Now we have in previous notebooks set up the problem, drawn some preliminary values, set up some selection terms, and so on. Now, we can finally estimate the model - after a little bit more work - which will involve writing down a big likelihood function (of which some parts we already have). Before doing this, let's read in our data and get it into mata. "
   ]
  },
  {
   "cell_type": "code",
   "execution_count": 2,
   "metadata": {
    "collapsed": false
   },
   "outputs": [
    {
     "data": {
      "text/plain": [
       "'C:\\\\Users\\\\mjbaker\\\\Documents\\\\GitHub\\\\NewsHour'"
      ]
     },
     "execution_count": 2,
     "metadata": {},
     "output_type": "execute_result"
    }
   ],
   "source": [
    "import ipystata\n",
    "import os\n",
    "os.getcwd()"
   ]
  },
  {
   "cell_type": "markdown",
   "metadata": {},
   "source": [
    "Let's open up a stata session, but this time be careful to name it. This will let us do other stuff in Stata while we are watching this program run..."
   ]
  },
  {
   "cell_type": "code",
   "execution_count": 14,
   "metadata": {
    "collapsed": false
   },
   "outputs": [
    {
     "name": "stdout",
     "output_type": "stream",
     "text": [
      "\n",
      "C:\\Users\\mjbaker\\Documents\\Github\\NewsHour\n"
     ]
    }
   ],
   "source": [
    "%%stata -s nh1\n",
    "cd C:\\Users\\mjbaker\\Documents\\Github\\NewsHour\n"
   ]
  },
  {
   "cell_type": "code",
   "execution_count": 20,
   "metadata": {
    "collapsed": false
   },
   "outputs": [
    {
     "name": "stdout",
     "output_type": "stream",
     "text": [
      "\n",
      "\n"
     ]
    }
   ],
   "source": [
    "%%stata -s nh1\n",
    "use \"AveragedDataDyno.dta\", clear"
   ]
  },
  {
   "cell_type": "markdown",
   "metadata": {},
   "source": [
    "Regenerate a marker for our game variable - which we will have to modify a bit as before! Then, get all our variables into mata and develop create a panel variable for each market in `mata`. "
   ]
  },
  {
   "cell_type": "code",
   "execution_count": 27,
   "metadata": {
    "collapsed": false
   },
   "outputs": [
    {
     "name": "stdout",
     "output_type": "stream",
     "text": [
      "\n",
      "\n"
     ]
    }
   ],
   "source": [
    "%%stata -s nh1\n",
    "capture gen game=(lnews | otherl) & lnpps!=."
   ]
  },
  {
   "cell_type": "code",
   "execution_count": 31,
   "metadata": {
    "collapsed": false
   },
   "outputs": [
    {
     "name": "stdout",
     "output_type": "stream",
     "text": [
      "\n",
      "------------------------------------------------- mata (type end to exit) -------------------------------------------------------------------------------------------\n",
      ":     st_view(lnews=.,.,\"lnews\")\n",
      "\n",
      ":     st_view(nnews=.,.,\"nnews\")\n",
      "\n",
      ":     st_view(otherl=.,.,\"otherl\")\n",
      "\n",
      ":     st_view(otherc=.,.,\"otherc\")\n",
      "\n",
      ":     st_view(si=.,.,\"si\")\n",
      "\n",
      ":     st_view(mt=.,.,\"mt\")\n",
      "\n",
      ":     st_view(id=.,.,\"stationid\")\n",
      "\n",
      ":     st_view(M=.,.,\"market\")\n",
      "\n",
      ":     st_view(time=.,.,\"timeslot\")\n",
      "\n",
      ":     st_view(game=.,.,\"game\")\n",
      "\n",
      ":     st_view(lnpps=.,.,\"lnpps\")\n",
      "\n",
      ":     st_view(pop=.,.,\"ACS_HH\") \n",
      "\n",
      ":     st_view(l_ACS_HH=.,.,\"l_ACS_HH\")\n",
      "\n",
      ":     st_view(lnewsn=.,.,\"lnewsn\")\n",
      "\n",
      ":     st_view(otherln=.,.,\"otherln\")\n",
      "\n",
      ":     st_view(nnewsn=.,.,\"nnewsn\")\n",
      "\n",
      ":     st_view(othercn=.,.,\"othercn\")\n",
      "\n",
      ":     st_view(dln=.,.,\"dln\")\n",
      "\n",
      ":     lnviewn=ln(pop:*si)\n",
      "\n",
      ":     m=panelsetup(M,1)\n",
      "\n",
      ": end\n"
     ]
    }
   ],
   "source": [
    "%%stata -s nh1\n",
    "mata:\n",
    "    st_view(lnews=.,.,\"lnews\")\n",
    "    st_view(nnews=.,.,\"nnews\")\n",
    "    st_view(otherl=.,.,\"otherl\")\n",
    "    st_view(otherc=.,.,\"otherc\")\n",
    "    st_view(si=.,.,\"si\")\n",
    "    st_view(mt=.,.,\"mt\")\n",
    "    st_view(id=.,.,\"stationid\")\n",
    "    st_view(M=.,.,\"market\")\n",
    "    st_view(time=.,.,\"timeslot\")\n",
    "    st_view(game=.,.,\"game\")\n",
    "    st_view(lnpps=.,.,\"lnpps\")\n",
    "    st_view(pop=.,.,\"ACS_HH\") \n",
    "    st_view(l_ACS_HH=.,.,\"l_ACS_HH\")\n",
    "    st_view(lnewsn=.,.,\"lnewsn\")\n",
    "    st_view(otherln=.,.,\"otherln\")\n",
    "    st_view(nnewsn=.,.,\"nnewsn\")\n",
    "    st_view(othercn=.,.,\"othercn\")\n",
    "    st_view(dln=.,.,\"dln\")\n",
    "    lnviewn=ln(pop:*si)\n",
    "    m=panelsetup(M,1)\n",
    "end"
   ]
  },
  {
   "cell_type": "markdown",
   "metadata": {},
   "source": [
    "Get our previous estimation results:"
   ]
  },
  {
   "cell_type": "code",
   "execution_count": 45,
   "metadata": {
    "collapsed": false
   },
   "outputs": [
    {
     "name": "stdout",
     "output_type": "stream",
     "text": [
      "\n",
      "------------------------------------------------- mata (type end to exit) -------------------------------------------------------------------------------------------\n",
      ":     mata matuse DynoStarts23, replace\n",
      "(loading arate[1,27], bo[1,27], drawsbo[100,27], vals[100,1])\n",
      "\n",
      ":     bo[,1::4] = bo[,1::4]:^2\n",
      "\n",
      ":     mata matuse betaPDynoStarts, replace\n",
      "(loading bpo[1,10], drawsbpo[200,10])\n",
      "\n",
      ": end\n"
     ]
    }
   ],
   "source": [
    "%%stata -s nh1\n",
    "mata:\n",
    "    mata matuse DynoStarts23, replace\n",
    "    bo[,1::4] = bo[,1::4]:^2\n",
    "    mata matuse betaPDynoStarts, replace\n",
    "end"
   ]
  },
  {
   "cell_type": "markdown",
   "metadata": {},
   "source": [
    "Now, render the data in long form:"
   ]
  },
  {
   "cell_type": "code",
   "execution_count": 32,
   "metadata": {
    "collapsed": false
   },
   "outputs": [
    {
     "name": "stdout",
     "output_type": "stream",
     "text": [
      "\n",
      "------------------------------------------------- mata (type end to exit) -------------------------------------------------------------------------------------------\n",
      ":         \n",
      ":         timeslots=6\n",
      "\n",
      ":         lnewsLong=J(rows(uniqrows(id)),timeslots,.)\n",
      "\n",
      ":         nnewsLong=J(rows(uniqrows(id)),timeslots,.)\n",
      "\n",
      ":         otherlLong=J(rows(uniqrows(id)),timeslots,.)\n",
      "\n",
      ":         othercLong=J(rows(uniqrows(id)),timeslots,.)\n",
      "\n",
      ":         slnewsLong=J(rows(uniqrows(id)),timeslots,.)\n",
      "\n",
      ":         snnewsLong=J(rows(uniqrows(id)),timeslots,.)\n",
      "\n",
      ":         sotherlLong=J(rows(uniqrows(id)),timeslots,.)\n",
      "\n",
      ":         sothercLong=J(rows(uniqrows(id)),timeslots,.)\n",
      "\n",
      ":         gameLong=J(rows(uniqrows(id)),timeslots,.)\n",
      "\n",
      ":         popLong=J(rows(uniqrows(id)),timeslots,.)  /* Not necessary but for convenience and completeness */\n",
      "\n",
      ":         l_ACS_HHLong=J(rows(uniqrows(id)),timeslots,.)\n",
      "\n",
      ":         \n",
      ":         siLong=J(rows(uniqrows(id)),timeslots,.)\n",
      "\n",
      ":         lnewsLongLag=J(rows(uniqrows(id)),timeslots,.)\n",
      "\n",
      ":         nnewsLongLag=J(rows(uniqrows(id)),timeslots,.)\n",
      "\n",
      ":         otherlLongLag=J(rows(uniqrows(id)),timeslots,.)\n",
      "\n",
      ":         otherCLongLag=J(rows(uniqrows(id)),timeslots,.)\n",
      "\n",
      ":         siLongLag=J(rows(uniqrows(id)),timeslots,.)\n",
      "\n",
      ":         idAct=id\n",
      "\n",
      ":         idToUse=colshape(idAct,timeslots)[,1]\n",
      "\n",
      ":         totlnews=J(rows(uniqrows(id)),timeslots,.)\n",
      "\n",
      ":         totnnews=J(rows(uniqrows(id)),timeslots,.)\n",
      "\n",
      ":         \n",
      ":         /* Placeholder for market! */\n",
      ":         \n",
      ":         marketIdLong=J(rows(uniqrows(id)),1,.)\n",
      "\n",
      ":         statIdLong  =J(rows(uniqrows(id)),1,.)\n",
      "\n",
      ":         \n",
      ":         lnppsLong=J(rows(uniqrows(id)),timeslots,.)\n",
      "\n",
      ":         lnviewnLong=J(rows(uniqrows(id)),timeslots,.)\n",
      "\n",
      ":         \n",
      ":         lnewsnLong=J(rows(uniqrows(id)),timeslots,.)\n",
      "\n",
      ":         otherlnLong=J(rows(uniqrows(id)),timeslots,.)\n",
      "\n",
      ":         nnewsnLong=J(rows(uniqrows(id)),timeslots,.)\n",
      "\n",
      ":         othercnLong=J(rows(uniqrows(id)),timeslots,.)\n",
      "\n",
      ":         \n",
      ":         dlnLong=J(rows(uniqrows(id)),timeslots,.)\n",
      ": \n",
      ":         counter=1\n",
      "\n",
      ":         for (i=1;i<=rows(m);i++) {\n",
      ">                 lnewsmp  =panelsubmatrix(lnews,i,m)\n",
      ">                 nnewsmp  =panelsubmatrix(nnews,i,m)\n",
      ">                 otherlmp =panelsubmatrix(otherl,i,m)\n",
      ">                 othercmp =panelsubmatrix(otherc,i,m)\n",
      ">                 idmp=panelsubmatrix(id,i,m)\n",
      ">                 mtmp=panelsubmatrix(mt,i,m)\n",
      ">                 simp=panelsubmatrix(si,i,m)\n",
      ">                 timemp=panelsubmatrix(time,i,m)\n",
      ">                 Mp    =panelsubmatrix(M,i,m)\n",
      ">                 gamep=panelsubmatrix(game,i,m)\n",
      ">                 lnppsp=panelsubmatrix(lnpps,i,m)\n",
      ">                 lnviewnp=panelsubmatrix(lnviewn,i,m)\n",
      ">                 popp=panelsubmatrix(pop,i,m)\n",
      ">                 l_ACS_HHp=panelsubmatrix(l_ACS_HH,i,m)\n",
      ">                 lnewsnp=panelsubmatrix(lnewsn,i,m)\n",
      ">                 otherlnp=panelsubmatrix(otherln,i,m)\n",
      ">                 nnewsnp=panelsubmatrix(nnewsn,i,m)\n",
      ">                 othercnp=panelsubmatrix(othercn,i,m)\n",
      ">                 dlnp=panelsubmatrix(dln,i,m)\n",
      ">                 positioner=colshape(idmp,timeslots)\n",
      "> \n",
      "> /* Make the above into histories - manufacture the data so we don't have */\n",
      "> /* to keep sending around all these interactions */\n",
      "> \n",
      ">                 obs    =uniqrows(idmp)\n",
      ">                 lnewsm1=J(rows(obs),1,0)\n",
      ">                 nnewsm1=J(rows(obs),1,0)\n",
      ">                 otherlm1=J(rows(obs),1,0)\n",
      ">                 othercm1=J(rows(obs),1,0)\n",
      ">                 sim1   =J(rows(obs),1,0)\n",
      ">                 for (k=4;k<=8;k++) {\n",
      ">                         lnewsm1=lnewsm1,select(lnewsmp,timemp:==k-1)\n",
      ">                         nnewsm1=nnewsm1,select(nnewsmp,timemp:==k-1)\n",
      ">                         otherlm1=otherlm1,select(otherlmp,timemp:==k-1)\n",
      ">                         othercm1=othercm1,select(othercmp,timemp:==k-1)\n",
      ">                         sim1   =sim1,select(simp,timemp:==k-1)\n",
      ">                 }\n",
      ">                 lnewsc=J(rows(obs),0,0)\n",
      ">                 nnewsc=J(rows(obs),0,0)\n",
      ">                 sic   =J(rows(obs),0,0) \n",
      ">                 otherlc=J(rows(obs),0,0)\n",
      ">                 othercc=J(rows(obs),0,0)\n",
      ">                 gamec=J(rows(obs),0,0)\n",
      ">                 lnppsc=J(rows(obs),0,0)\n",
      ">                 lnviewnc=J(rows(obs),0,0)\n",
      ">                 popc=J(rows(obs),0,0)\n",
      ">                 l_ACS_HHc=J(rows(obs),0,0)\n",
      ">                 lnewsnc=J(rows(obs),0,0)\n",
      ">                 otherlnc=J(rows(obs),0,0)\n",
      ">                 nnewsnc=J(rows(obs),0,0)\n",
      ">                 othercnc=J(rows(obs),0,0)\n",
      ">                 dlnc=J(rows(obs),0,0)\n",
      ">                 \n",
      ">                 for (k=3;k<=8;k++) {\n",
      ">                         lnewsc=lnewsc,select(lnewsmp,timemp:==k)\n",
      ">                         nnewsc=nnewsc,select(nnewsmp,timemp:==k)\n",
      ">                         otherlc=otherlc,select(otherlmp,timemp:==k)\n",
      ">                         othercc=othercc,select(othercmp,timemp:==k)\n",
      ">                         sic  =sic,select(simp,timemp:==k)\n",
      ">                         gamec=gamec,select(gamep,timemp:==k)\n",
      ">                         lnppsc=lnppsc,select(lnppsp,timemp:==k)\n",
      ">                         lnviewnc=lnviewnc,select(lnviewnp,timemp:==k)\n",
      ">                         popc=popc,select(popp,timemp:==k)\n",
      ">                         l_ACS_HHc=l_ACS_HHc,select(l_ACS_HHp,timemp:==k)\n",
      ">                         lnewsnc=lnewsnc,select(lnewsnp,timemp:==k)\n",
      ">                         otherlnc=otherlnc,select(otherlnp,timemp:==k)\n",
      ">                         nnewsnc=nnewsnc,select(nnewsnp,timemp:==k)\n",
      ">                         othercnc=othercnc,select(othercnp,timemp:==k)\n",
      ">                         dlnc=dlnc,select(dlnp,timemp:==k)\n",
      ">                 }\n",
      "> \n",
      ">         lnewsLong[counter::counter+rows(positioner)-1,.]=lnewsc\n",
      ">         nnewsLong[counter::counter+rows(positioner)-1,.]=nnewsc\n",
      ">         otherlLong[counter::counter+rows(positioner)-1,.]=otherlc\n",
      ">         othercLong[counter::counter+rows(positioner)-1,.]=othercc\n",
      ">         siLong[counter::counter+rows(positioner)-1,.]=sic\n",
      ">         lnewsLongLag[counter::counter+rows(positioner)-1,.]=lnewsm1\n",
      ">         nnewsLongLag[counter::counter+rows(positioner)-1,.]=nnewsm1\n",
      ">         otherlLongLag[counter::counter+rows(positioner)-1,.]=otherlm1\n",
      ">         otherCLongLag[counter::counter+rows(positioner)-1,.]=othercm1\n",
      ">         siLongLag[counter::counter+rows(positioner)-1,.]=sim1\n",
      ">         gameLong[counter::counter+rows(positioner)-1,.]=gamec\n",
      ">         statIdLong[counter::counter+rows(positioner)-1,.]=positioner[,1]\n",
      "> \n",
      ">         lnppsLong[counter::counter+rows(positioner)-1,.]=lnppsc\n",
      ">         lnviewnLong[counter::counter+rows(positioner)-1,.]=lnviewnc\n",
      "> \n",
      ">         popLong[counter::counter+rows(positioner)-1,.]=popc\n",
      ">         l_ACS_HHLong[counter::counter+rows(positioner)-1,.]=l_ACS_HHc\n",
      ">         \n",
      ">         lnewsnLong[counter::counter+rows(positioner)-1,.]=lnewsnc\n",
      ">         otherlnLong[counter::counter+rows(positioner)-1,.]=otherlnc\n",
      ">         nnewsnLong[counter::counter+rows(positioner)-1,.]=nnewsnc       \n",
      ">         othercnLong[counter::counter+rows(positioner)-1,.]=othercnc     \n",
      "> \n",
      ">         /* Group shares */\n",
      ">         \n",
      ">         dlnLong[counter::counter+rows(positioner)-1,.]=dlnc\n",
      "> \n",
      ">         sl=colsum(lnewsc:*sic)  \n",
      ">         so=colsum(otherlc:*sic)\n",
      ">         sn=colsum(nnewsc:*sic)\n",
      ">         sc=colsum(othercc:*sic)\n",
      ">         slnewsLong[counter::counter+rows(positioner)-1,.]=J(rows(positioner),1,sl)\n",
      ">         snnewsLong[counter::counter+rows(positioner)-1,.]=J(rows(positioner),1,sn)\n",
      ">         sotherlLong[counter::counter+rows(positioner)-1,.]=J(rows(positioner),1,so)\n",
      ">         sothercLong[counter::counter+rows(positioner)-1,.]=J(rows(positioner),1,sc)\n",
      ">         \n",
      "> \n",
      ">         /* Compute running totals */\n",
      ">         \n",
      ">         ctln=J(1,6,0)\n",
      ">         ctnn=J(1,6,0)\n",
      ">         totl=0\n",
      ">         totn=0\n",
      ">                 for (k=1;k<=6;k++) {\n",
      ">                         ctln[k]=colsum(lnewsm1[,k]:*sim1[,k])+totl\n",
      ">                         ctnn[k]=colsum(nnewsm1[,k]:*sim1[,k])+totn\n",
      ">                 }\n",
      "> \n",
      ">         totlnews[counter::counter+rows(positioner)-1,.]=J(rows(positioner),1,runningsum(ctln))\n",
      ">         totnnews[counter::counter+rows(positioner)-1,.]=J(rows(positioner),1,runningsum(ctnn))\n",
      ">         \n",
      ">         marketIdLong[counter::counter+rows(positioner)-1,.]=colshape(Mp,6)[,1]\n",
      ">         \n",
      ">         counter=counter+rows(positioner)\n",
      ">         \n",
      ">         }\n",
      "\n",
      ":         \n",
      ":                 // code tidbit rowshape(totln',1)'\n",
      ":                 \n",
      ":                 \n",
      ":         /* Now that we have rendered the data in wide format, we can start to think about */\n",
      ":         /* lags, interactions, etc. */\n",
      ":         \n",
      ":         lnewslnews=lnewsLong:*lnewsLongLag\n",
      "\n",
      ":         lnewsnnews=lnewsLong:*nnewsLongLag\n",
      "\n",
      ":         nnewslnews=nnewsLong:*lnewsLongLag\n",
      "\n",
      ":         nnewsnnews=nnewsLong:*nnewsLongLag\n",
      ": \n",
      ":         siLongLag=ln(siLongLag)\n",
      "\n",
      ":         _editmissing(siLongLag,0)\n",
      "\n",
      ":         \n",
      ":         siXlnln=siLongLag:*lnewslnews\n",
      "\n",
      ":         siXlnnn=siLongLag:*lnewsnnews\n",
      "\n",
      ":         siXnnln=siLongLag:*nnewslnews\n",
      "\n",
      ":         siXnnnn=siLongLag:*nnewsnnews\n",
      "\n",
      ":         \n",
      ":         lnewsRT=lnewsLong:*ln(1:+totlnews)\n",
      "\n",
      ":         nnewsRT=nnewsLong:*ln(1:+totnnews)      /* this is how the variables enter in the regression */\n",
      "---------------------------------------------------------------------------------------------------------------------------------------------------------------------\n",
      "\n",
      "end of do-file\n"
     ]
    }
   ],
   "source": [
    "%%stata -s nh1\n",
    "do MataFunctions\\MataReshape.do"
   ]
  },
  {
   "cell_type": "markdown",
   "metadata": {},
   "source": [
    "Now that that has been done, we can clean up the results from our MCMC estimation of game strategies. For one, often times our search procedure resulted in the run settling on the same strategy, but logging it as a different outcome. We therefore have to go through and pare all this down. Anyways:"
   ]
  },
  {
   "cell_type": "code",
   "execution_count": 34,
   "metadata": {
    "collapsed": false
   },
   "outputs": [
    {
     "name": "stdout",
     "output_type": "stream",
     "text": [
      "\n",
      "------------------------------------------------- mata (type end to exit) -------------------------------------------------------------------------------------------\n",
      ":     mata matuse AckerbergInfo, replace \n",
      "(loading Troublers[3469,6], up[16622,120], upb[16622,120], upg[16622,120], upre1[16622,120], upre1g[16622,120], upre2[16622,120], upre2g[16622,120], uv[16622,120],\n",
      " uvg[16622,120], uvre1[16622,120], uvre1g[16622,120], uvre2[16622,120], uvre2Weights[16622,6], uvre2g[16622,120], uvsg[16622,120], uvsi[16622,120],\n",
      " uvso[16622,120], vup[16622,120])\n",
      "\n",
      ":     mata matuse AckerbergObjs, replace\n",
      "(loading NashProfiles, NashProfits, NashShares, priceBounds, priceErrs, sharesBcs, simPrices)\n",
      "\n",
      ": end\n"
     ]
    }
   ],
   "source": [
    "%%stata -s nh1\n",
    "mata:\n",
    "    mata matuse AckerbergInfo, replace \n",
    "    mata matuse AckerbergObjs, replace\n",
    "end"
   ]
  },
  {
   "cell_type": "markdown",
   "metadata": {},
   "source": [
    "This next loop combs through all the Nash equilibria and pares them down to the number of unique profiles - so we aren't double counting results. Here goes. A first step is setting up some placeholders for everything. "
   ]
  },
  {
   "cell_type": "code",
   "execution_count": 35,
   "metadata": {
    "collapsed": false
   },
   "outputs": [
    {
     "name": "stdout",
     "output_type": "stream",
     "text": [
      "\n",
      "------------------------------------------------- mata (type end to exit) -------------------------------------------------------------------------------------------\n",
      ":     markets=uniqrows(marketIdLong)\n",
      "\n",
      ":     indexes=asarray_keys(NashProfiles)\n",
      "\n",
      ":     draws=max(indexes[,2])\n",
      "\n",
      ":     NashProfitsNew=asarray_create(\"real\",3)\n",
      "\n",
      ":     NashSharesNew=asarray_create(\"real\",3)\n",
      "\n",
      ": end\n"
     ]
    }
   ],
   "source": [
    "%%stata -s nh1\n",
    "mata:\n",
    "    markets=uniqrows(marketIdLong)\n",
    "    indexes=asarray_keys(NashProfiles)\n",
    "    draws=max(indexes[,2])\n",
    "\n",
    "    NashProfilesNew=asarray_create(\"real\",4)\n",
    "    NashProfitsNew=asarray_create(\"real\",3)\n",
    "    NashSharesNew=asarray_create(\"real\",3)\n",
    "end"
   ]
  },
  {
   "cell_type": "markdown",
   "metadata": {},
   "source": [
    "## The Loop to Clean Equilibria up"
   ]
  },
  {
   "cell_type": "code",
   "execution_count": 36,
   "metadata": {
    "collapsed": false
   },
   "outputs": [
    {
     "name": "stdout",
     "output_type": "stream",
     "text": [
      "\n",
      "------------------------------------------------- mata (type end to exit) -------------------------------------------------------------------------------------------\n",
      ":     for (i=1;i<=rows(markets);i++) {\n",
      ">         for (d=1;d<=draws;d++) {\n",
      ">             gameMarkerp=select(gameLong[,1],marketIdLong:==i)\n",
      ">             if (colsum(gameMarkerp)>0) {\n",
      ">                 Count=rows(uniqrows(select(indexes[,4],(indexes[,1]:==i):*(indexes[,2]:==d))))\n",
      ">                 if (Count==1) {\n",
      ">                     asarray(NashProfilesNew,(i,d,1,1),asarray(NashProfiles,(i,d,1,1)))\n",
      ">                     asarray(NashProfilesNew,(i,d,2,1),asarray(NashProfiles,(i,d,2,1)))\n",
      ">                     asarray(NashProfilesNew,(i,d,3,1),asarray(NashProfiles,(i,d,3,1)))\n",
      ">                     asarray(NashProfitsNew,(i,d,1),asarray(NashProfits,(i,d,1)))\n",
      ">                     asarray(NashSharesNew,(i,d,1),asarray(NashShares,(i,d,1)))\n",
      ">                 }\n",
      ">                 else {\n",
      ">                     asarray(NashProfilesNew,(i,d,1,1),asarray(NashProfiles,(i,d,1,1)))\n",
      ">                     asarray(NashProfilesNew,(i,d,2,1),asarray(NashProfiles,(i,d,2,1)))\n",
      ">                     asarray(NashProfilesNew,(i,d,3,1),asarray(NashProfiles,(i,d,3,1)))\n",
      ">                     asarray(NashProfitsNew,(i,d,1),asarray(NashProfits,(i,d,1)))\n",
      ">                     asarray(NashSharesNew,(i,d,1),asarray(NashShares,(i,d,1)))\n",
      ">                     pop=2\n",
      ">                     tick=1\n",
      ">                     do {\n",
      ">                         noGo=0\n",
      ">                         for (j=1;j<=tick;j++) {\n",
      ">                             if (asarray(NashProfiles,(i,d,1,pop))==asarray(NashProfilesNew,(i,d,1,j))) noGo=1\n",
      ">                         }\n",
      ">                         if (noGo==0) {\n",
      ">                             tick++\n",
      ">                             asarray(NashProfilesNew,(i,d,1,tick),asarray(NashProfiles,(i,d,1,pop)))\n",
      ">                             asarray(NashProfilesNew,(i,d,2,tick),asarray(NashProfiles,(i,d,2,pop)))\n",
      ">                             asarray(NashProfilesNew,(i,d,3,tick),asarray(NashProfiles,(i,d,3,pop)))\n",
      ">                             asarray(NashProfitsNew,(i,d,tick),asarray(NashProfits,(i,d,pop)))\n",
      ">                             asarray(NashSharesNew,(i,d,tick),asarray(NashShares,(i,d,pop)))\n",
      ">                         }\n",
      ">                         pop++\n",
      ">                     } while (pop<=Count)\n",
      ">                 }\n",
      ">             }\n",
      ">         }\n",
      ">     }   \n",
      "\n",
      ": end\n"
     ]
    }
   ],
   "source": [
    "%%stata -s nh1\n",
    "mata:\n",
    "    for (i=1;i<=rows(markets);i++) {\n",
    "        for (d=1;d<=draws;d++) {\n",
    "            gameMarkerp=select(gameLong[,1],marketIdLong:==i)\n",
    "            if (colsum(gameMarkerp)>0) {\n",
    "                Count=rows(uniqrows(select(indexes[,4],(indexes[,1]:==i):*(indexes[,2]:==d))))\n",
    "                if (Count==1) {\n",
    "                    asarray(NashProfilesNew,(i,d,1,1),asarray(NashProfiles,(i,d,1,1)))\n",
    "                    asarray(NashProfilesNew,(i,d,2,1),asarray(NashProfiles,(i,d,2,1)))\n",
    "                    asarray(NashProfilesNew,(i,d,3,1),asarray(NashProfiles,(i,d,3,1)))\n",
    "                    asarray(NashProfitsNew,(i,d,1),asarray(NashProfits,(i,d,1)))\n",
    "                    asarray(NashSharesNew,(i,d,1),asarray(NashShares,(i,d,1)))\n",
    "                }\n",
    "                else {\n",
    "                    asarray(NashProfilesNew,(i,d,1,1),asarray(NashProfiles,(i,d,1,1)))\n",
    "                    asarray(NashProfilesNew,(i,d,2,1),asarray(NashProfiles,(i,d,2,1)))\n",
    "                    asarray(NashProfilesNew,(i,d,3,1),asarray(NashProfiles,(i,d,3,1)))\n",
    "                    asarray(NashProfitsNew,(i,d,1),asarray(NashProfits,(i,d,1)))\n",
    "                    asarray(NashSharesNew,(i,d,1),asarray(NashShares,(i,d,1)))\n",
    "                    pop=2\n",
    "                    tick=1\n",
    "                    do {\n",
    "                        noGo=0\n",
    "                        for (j=1;j<=tick;j++) {\n",
    "                            if (asarray(NashProfiles,(i,d,1,pop))==asarray(NashProfilesNew,(i,d,1,j))) noGo=1\n",
    "                        }\n",
    "                        if (noGo==0) {\n",
    "                            tick++\n",
    "                            asarray(NashProfilesNew,(i,d,1,tick),asarray(NashProfiles,(i,d,1,pop)))\n",
    "                            asarray(NashProfilesNew,(i,d,2,tick),asarray(NashProfiles,(i,d,2,pop)))\n",
    "                            asarray(NashProfilesNew,(i,d,3,tick),asarray(NashProfiles,(i,d,3,pop)))\n",
    "                            asarray(NashProfitsNew,(i,d,tick),asarray(NashProfits,(i,d,pop)))\n",
    "                            asarray(NashSharesNew,(i,d,tick),asarray(NashShares,(i,d,pop)))\n",
    "                        }\n",
    "                        pop++\n",
    "                    } while (pop<=Count)\n",
    "                }\n",
    "            }\n",
    "        }\n",
    "    }   \n",
    "end    \n",
    "    \n",
    "    \n",
    "    "
   ]
  },
  {
   "cell_type": "markdown",
   "metadata": {},
   "source": [
    "We now have everything we need in the associative arrays affixed with `New`, so we can drop the others to save space:"
   ]
  },
  {
   "cell_type": "code",
   "execution_count": 37,
   "metadata": {
    "collapsed": false
   },
   "outputs": [
    {
     "name": "stdout",
     "output_type": "stream",
     "text": [
      "\n",
      "------------------------------------------------- mata (type end to exit) -------------------------------------------------------------------------------------------\n",
      ":     mata drop NashProfiles\n",
      "\n",
      ":     mata drop NashProfits\n",
      "\n",
      ":     mata drop NashShares\n",
      "\n",
      ": end\n"
     ]
    }
   ],
   "source": [
    "%%stata -s nh1\n",
    "mata:\n",
    "    mata drop NashProfiles\n",
    "    mata drop NashProfits\n",
    "    mata drop NashShares\n",
    "end"
   ]
  },
  {
   "cell_type": "markdown",
   "metadata": {},
   "source": [
    "## Reshaping and packing up all this information...\n",
    "The next thing we will do is change our revised equilibrium information into a packable and useable form, and save it all so it can be used easily in estimation. First part: reshaping our AKW error terms:"
   ]
  },
  {
   "cell_type": "code",
   "execution_count": 38,
   "metadata": {
    "collapsed": false
   },
   "outputs": [
    {
     "name": "stdout",
     "output_type": "stream",
     "text": [
      "\n",
      "------------------------------------------------- mata (type end to exit) -------------------------------------------------------------------------------------------\n",
      ":     Up=J(rows(up)*timeslots,0,.)\n",
      "\n",
      ":     Upg=J(rows(up)*timeslots,0,.)\n",
      "\n",
      ":     Upb=J(rows(up)*timeslots,0,.)\n",
      "\n",
      ":     Uv=J(rows(up)*timeslots,0,.)\n",
      "\n",
      ":     Uvg=J(rows(up)*timeslots,0,.)\n",
      "\n",
      ":     Vup=J(rows(up)*timeslots,0,.)\n",
      "\n",
      ":     Uvsi=J(rows(up)*timeslots,0,.)\n",
      "\n",
      ":     Uvsg=J(rows(up)*timeslots,0,.)\n",
      "\n",
      ":     Uvso=J(rows(up)*timeslots,0,.)\n",
      "\n",
      ":     Uvre1=J(rows(up)*timeslots,0,.)\n",
      "\n",
      ":     Uvre2=J(rows(up)*timeslots,0,.)\n",
      "\n",
      ":     Upre1=J(rows(up)*timeslots,0,.)\n",
      "\n",
      ":     Upre2=J(rows(up)*timeslots,0,.)\n",
      "\n",
      ":     Uvre1g=J(rows(up)*timeslots,0,.)\n",
      "\n",
      ":     Uvre2g=J(rows(up)*timeslots,0,.)\n",
      "\n",
      ":     Upre1g=J(rows(up)*timeslots,0,.)\n",
      "\n",
      ":     Upre2g=J(rows(up)*timeslots,0,.)\n",
      "\n",
      ":     for (d=1;d<=draws;d++) {\n",
      ">         Up=Up,colshape(up[,counter::counter+timeslots-1],1)\n",
      ">         Upg=Upg,colshape(upg[,counter::counter+timeslots-1],1)\n",
      ">         Upb=Upb,colshape(upb[,counter::counter+timeslots-1],1)\n",
      ">         Uv=Uv,colshape(uv[,counter::counter+timeslots-1],1)\n",
      ">         Uvg=Uvg,colshape(uvg[,counter::counter+timeslots-1],1)\n",
      ">         Vup=Vup,colshape(vup[,counter::counter+timeslots-1],1)\n",
      ">         Uvsi=Uvsi,colshape(uvsi[,counter::counter+timeslots-1],1)\n",
      ">         Uvsg=Uvsg,colshape(uvsg[,counter::counter+timeslots-1],1)\n",
      ">         Uvso=Uvso,colshape(uvso[,counter::counter+timeslots-1],1)\n",
      ">         Uvre1=Uvre1,colshape(uvre1[,counter::counter+timeslots-1],1)\n",
      ">         Uvre2=Uvre2,colshape(uvre2[,counter::counter+timeslots-1],1)\n",
      ">         Upre1=Upre1,colshape(upre1[,counter::counter+timeslots-1],1)\n",
      ">         Upre2=Upre2,colshape(upre2[,counter::counter+timeslots-1],1)\n",
      ">         Uvre1g=Uvre1g,colshape(uvre1g[,counter::counter+timeslots-1],1)\n",
      ">         Uvre2g=Uvre2g,colshape(uvre2g[,counter::counter+timeslots-1],1)\n",
      ">         Upre1g=Upre1g,colshape(upre1g[,counter::counter+timeslots-1],1)\n",
      ">         Upre2g=Upre2g,colshape(upre2g[,counter::counter+timeslots-1],1)\n",
      ">         \n",
      ">         counter=counter+timeslots\n",
      ">     }\n",
      "\n",
      ": end\n"
     ]
    }
   ],
   "source": [
    "%%stata -s nh1\n",
    "mata:\n",
    "    Up=J(rows(up)*timeslots,0,.)\n",
    "    Upg=J(rows(up)*timeslots,0,.)\n",
    "    Upb=J(rows(up)*timeslots,0,.)\n",
    "    Uv=J(rows(up)*timeslots,0,.)\n",
    "    Uvg=J(rows(up)*timeslots,0,.)\n",
    "    Vup=J(rows(up)*timeslots,0,.)\n",
    "    Uvsi=J(rows(up)*timeslots,0,.)\n",
    "    Uvsg=J(rows(up)*timeslots,0,.)\n",
    "    Uvso=J(rows(up)*timeslots,0,.)\n",
    "    Uvre1=J(rows(up)*timeslots,0,.)\n",
    "    Uvre2=J(rows(up)*timeslots,0,.)\n",
    "    Upre1=J(rows(up)*timeslots,0,.)\n",
    "    Upre2=J(rows(up)*timeslots,0,.)\n",
    "    Uvre1g=J(rows(up)*timeslots,0,.)\n",
    "    Uvre2g=J(rows(up)*timeslots,0,.)\n",
    "    Upre1g=J(rows(up)*timeslots,0,.)\n",
    "    Upre2g=J(rows(up)*timeslots,0,.)\n",
    "\n",
    "    counter=1\n",
    "    for (d=1;d<=draws;d++) {\n",
    "        Up=Up,colshape(up[,counter::counter+timeslots-1],1)\n",
    "        Upg=Upg,colshape(upg[,counter::counter+timeslots-1],1)\n",
    "        Upb=Upb,colshape(upb[,counter::counter+timeslots-1],1)\n",
    "        Uv=Uv,colshape(uv[,counter::counter+timeslots-1],1)\n",
    "        Uvg=Uvg,colshape(uvg[,counter::counter+timeslots-1],1)\n",
    "        Vup=Vup,colshape(vup[,counter::counter+timeslots-1],1)\n",
    "        Uvsi=Uvsi,colshape(uvsi[,counter::counter+timeslots-1],1)\n",
    "        Uvsg=Uvsg,colshape(uvsg[,counter::counter+timeslots-1],1)\n",
    "        Uvso=Uvso,colshape(uvso[,counter::counter+timeslots-1],1)\n",
    "        Uvre1=Uvre1,colshape(uvre1[,counter::counter+timeslots-1],1)\n",
    "        Uvre2=Uvre2,colshape(uvre2[,counter::counter+timeslots-1],1)\n",
    "        Upre1=Upre1,colshape(upre1[,counter::counter+timeslots-1],1)\n",
    "        Upre2=Upre2,colshape(upre2[,counter::counter+timeslots-1],1)\n",
    "        Uvre1g=Uvre1g,colshape(uvre1g[,counter::counter+timeslots-1],1)\n",
    "        Uvre2g=Uvre2g,colshape(uvre2g[,counter::counter+timeslots-1],1)\n",
    "        Upre1g=Upre1g,colshape(upre1g[,counter::counter+timeslots-1],1)\n",
    "        Upre2g=Upre2g,colshape(upre2g[,counter::counter+timeslots-1],1)\n",
    "        \n",
    "        counter=counter+timeslots\n",
    "    }\n",
    "end\n"
   ]
  },
  {
   "cell_type": "markdown",
   "metadata": {},
   "source": [
    "Here we will pull out all of the upper bounds on error terms, so we can turn them into sampling weights based on truncated normal variables, in a way that conforms with everything else. Anyways"
   ]
  },
  {
   "cell_type": "code",
   "execution_count": 46,
   "metadata": {
    "collapsed": false
   },
   "outputs": [
    {
     "name": "stdout",
     "output_type": "stream",
     "text": [
      "\n",
      "------------------------------------------------- mata (type end to exit) -------------------------------------------------------------------------------------------\n",
      ":     Keys=uniqrows(asarray_keys(priceErrs)[,1])\n",
      "\n",
      ":     stationid=statIdLong#J(6,1,1)\n",
      "\n",
      ":     sdmodp=exp(bpo[9])\n",
      "\n",
      ":     \n",
      ":     ErrsToInt=J(rows(stationid),draws,.)\n",
      "\n",
      ":     ErrBounds=J(rows(stationid),draws,.)\n",
      "\n",
      ":     for (i=1;i<=rows(Keys);i++) {\n",
      ">         for (d=1;d<=draws;d++) {\n",
      ">             errToPut=asarray(priceErrs,(Keys[i],d))[1,]\n",
      ">             bouToPut=asarray(priceBounds,(Keys[i],d))[1,]\n",
      ">             minPos=min(mm_which(bouToPut:!=.))\n",
      ">             errToPut=errToPut[minPos]\n",
      ">             bouToPut=bouToPut[minPos]\n",
      ">             place=max(mm_which(stationid:==Keys[i]))\n",
      ">             ErrsToInt[place,d]=errToPut\n",
      ">             ErrBounds[place,d]=bouToPut\n",
      ">         }\n",
      ">     }    \n",
      "\n",
      ": end\n"
     ]
    }
   ],
   "source": [
    "%%stata -s nh1\n",
    "mata:\n",
    "    Keys=uniqrows(asarray_keys(priceErrs)[,1])\n",
    "    stationid=statIdLong#J(6,1,1)\n",
    "    sdmodp=exp(bpo[9])\n",
    "    \n",
    "    ErrsToInt=J(rows(stationid),draws,.)\n",
    "    ErrBounds=J(rows(stationid),draws,.)\n",
    "    for (i=1;i<=rows(Keys);i++) {\n",
    "        for (d=1;d<=draws;d++) {\n",
    "            errToPut=asarray(priceErrs,(Keys[i],d))[1,]\n",
    "            bouToPut=asarray(priceBounds,(Keys[i],d))[1,]\n",
    "            minPos=min(mm_which(bouToPut:!=.))\n",
    "            errToPut=errToPut[minPos]\n",
    "            bouToPut=bouToPut[minPos]\n",
    "            place=max(mm_which(stationid:==Keys[i]))\n",
    "            ErrsToInt[place,d]=errToPut\n",
    "            ErrBounds[place,d]=bouToPut\n",
    "        }\n",
    "    }    \n",
    "end"
   ]
  },
  {
   "cell_type": "markdown",
   "metadata": {},
   "source": [
    "This next piece of code combs through our Nash equilibria (revised) and renders sampling weights. Note the first step of getting the keys from the associative array so we can loop over them (which marks our games)"
   ]
  },
  {
   "cell_type": "code",
   "execution_count": 47,
   "metadata": {
    "collapsed": false
   },
   "outputs": [
    {
     "name": "stdout",
     "output_type": "stream",
     "text": [
      "\n",
      "------------------------------------------------- mata (type end to exit) -------------------------------------------------------------------------------------------\n",
      ":     lnE=ln(normal(ErrBounds/sdmodp))\n",
      "\n",
      ":     Keys=asarray_keys(NashProfilesNew)\n",
      "\n",
      ":     market=marketIdLong#J(timeslots,1,1)\n",
      "\n",
      ":     gameMarkId=uniqrows(Keys[,1])\n",
      "\n",
      ":     NashW=J(rows(market),draws,.)\n",
      "\n",
      ":     \n",
      ":     for (i=1;i<=rows(gameMarkId);i++) {\n",
      ">         WtoAdd=J(1,draws,.)\n",
      ">         for (d=1;d<=draws;d++) {\n",
      ">             WtoAdd[d]=rows(select(Keys[,4],(Keys[,1]:==gameMarkId[i]):*(Keys[,2]:==d):*(Keys[,3]:==1)))\n",
      ">         }\n",
      ">         maxPos=max(mm_which(market:==gameMarkId[i]))\n",
      ">         NashW[maxPos,]=ln(1:/WtoAdd)\n",
      ">     }\n",
      "\n",
      ": end\n"
     ]
    }
   ],
   "source": [
    "%%stata -s nh1\n",
    "mata:\n",
    "    lnE=ln(normal(ErrBounds/sdmodp))\n",
    "    Keys=asarray_keys(NashProfilesNew)\n",
    "    market=marketIdLong#J(timeslots,1,1)\n",
    "    gameMarkId=uniqrows(Keys[,1])\n",
    "    NashW=J(rows(market),draws,.)\n",
    "    \n",
    "    for (i=1;i<=rows(gameMarkId);i++) {\n",
    "        WtoAdd=J(1,draws,.)\n",
    "        for (d=1;d<=draws;d++) {\n",
    "            WtoAdd[d]=rows(select(Keys[,4],(Keys[,1]:==gameMarkId[i]):*(Keys[,2]:==d):*(Keys[,3]:==1)))\n",
    "        }\n",
    "        maxPos=max(mm_which(market:==gameMarkId[i]))\n",
    "        NashW[maxPos,]=ln(1:/WtoAdd)\n",
    "    }\n",
    "end"
   ]
  },
  {
   "cell_type": "markdown",
   "metadata": {},
   "source": [
    "Make into sampling weights. We now make some sampling weights"
   ]
  },
  {
   "cell_type": "code",
   "execution_count": 49,
   "metadata": {
    "collapsed": false
   },
   "outputs": [
    {
     "name": "stdout",
     "output_type": "stream",
     "text": [
      "\n",
      "------------------------------------------------- mata (type end to exit) -------------------------------------------------------------------------------------------\n",
      ":     weights1=1:/rowsum(gameLong)#J(1,6,1)\n",
      "\n",
      ":     weights1=colshape(weights1,1)\n",
      "\n",
      ":     weights2=J(rows(statIdLong),timeslots,.)\n",
      "\n",
      ":     for (i=1;i<=rows(mLong);i++) {\n",
      ">         gP=panelsubmatrix(gameLong,i,mLong)\n",
      ">         gPtotal=colsum(gP)\n",
      ">         weightsP=(gPtotal:*gP)\n",
      ">     weights2[mLong[i,1]::mLong[i,2],.]=weightsP\n",
      ">     }\n",
      "\n",
      ":     _editvalue(weights2,0,.)\n",
      "\n",
      ":     weights2=colshape(1:/weights2,1)\n",
      "\n",
      ": end\n"
     ]
    }
   ],
   "source": [
    "%%stata -s nh1\n",
    "mata:\n",
    "    weights1=1:/rowsum(gameLong)#J(1,6,1)\n",
    "    weights1=colshape(weights1,1)\n",
    "\n",
    "    mLong=panelsetup(marketIdLong,1)\n",
    "    weights2=J(rows(statIdLong),timeslots,.)\n",
    "    for (i=1;i<=rows(mLong);i++) {\n",
    "        gP=panelsubmatrix(gameLong,i,mLong)\n",
    "        gPtotal=colsum(gP)\n",
    "        weightsP=(gPtotal:*gP)\n",
    "    weights2[mLong[i,1]::mLong[i,2],.]=weightsP\n",
    "    }\n",
    "    _editvalue(weights2,0,.)\n",
    "    weights2=colshape(1:/weights2,1)\n",
    "end"
   ]
  },
  {
   "cell_type": "markdown",
   "metadata": {},
   "source": [
    "Having collated everything, we now get put glob it all and save it for use in actual estimation! I really have to learn how to use macros and pass them around..."
   ]
  },
  {
   "cell_type": "code",
   "execution_count": 50,
   "metadata": {
    "collapsed": false
   },
   "outputs": [
    {
     "name": "stdout",
     "output_type": "stream",
     "text": [
      "\n",
      "------------------------------------------------- mata (type end to exit) -------------------------------------------------------------------------------------------\n",
      ":     mata matsave gsAndus NashW Up Upg Upb Uv Uvg Uvsi Uvsg Uvso Uvre1 Uvre2 Upre1 Upre2 Uvre1g Uvre2g Upre1g Upre2g Vup market id mt weights1 weights2, replace\n",
      "(saving NashW[99732,20], Up[99732,20], Upb[99732,20], Upg[99732,20], Upre1[99732,20], Upre1g[99732,20], Upre2[99732,20], Upre2g[99732,20], Uv[99732,20],\n",
      " Uvg[99732,20], Uvre1[99732,20], Uvre1g[99732,20], Uvre2[99732,20], Uvre2g[99732,20], Uvsg[99732,20], Uvsi[99732,20], Uvso[99732,20], Vup[99732,20], id[99732,1],\n",
      " market[99732,1], mt[99732,1], weights1[99732,1], weights2[99732,1])\n",
      "file gsAndus.mmat saved\n",
      "\n",
      ": end\n"
     ]
    }
   ],
   "source": [
    "%%stata -s nh1\n",
    "mata:\n",
    "    mata matsave gsAndus NashW Up Upg Upb Uv Uvg Uvsi Uvsg Uvso Uvre1 Uvre2 Upre1 Upre2 Uvre1g Uvre2g Upre1g Upre2g Vup market id mt weights1 weights2, replace\n",
    "end"
   ]
  },
  {
   "cell_type": "markdown",
   "metadata": {},
   "source": [
    "Close down the session"
   ]
  },
  {
   "cell_type": "code",
   "execution_count": 51,
   "metadata": {
    "collapsed": false
   },
   "outputs": [
    {
     "name": "stdout",
     "output_type": "stream",
     "text": [
      "Terminated 2 running Stata processes\n"
     ]
    }
   ],
   "source": [
    "%%stata\n",
    "close all"
   ]
  }
 ],
 "metadata": {
  "kernelspec": {
   "display_name": "Python 3",
   "language": "python",
   "name": "python3"
  },
  "language_info": {
   "codemirror_mode": {
    "name": "ipython",
    "version": 3
   },
   "file_extension": ".py",
   "mimetype": "text/x-python",
   "name": "python",
   "nbconvert_exporter": "python",
   "pygments_lexer": "ipython3",
   "version": "3.5.1"
  }
 },
 "nbformat": 4,
 "nbformat_minor": 0
}

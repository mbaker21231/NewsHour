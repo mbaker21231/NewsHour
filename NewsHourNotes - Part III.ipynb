{
 "cells": [
  {
   "cell_type": "markdown",
   "metadata": {},
   "source": [
    "# News Hour - Part III\n",
    "\n",
    "In this notebook, we will begin to set up some very basic mata functionality and begin the estimation process. Essentially, what we do is:\n",
    "1. Set up the log-likelihood for our pricing model, and\n",
    "2. Estimate the price model, seperately, to get starting values. \n",
    "Both are time-consuming, and to save time and trouble, we use the method described in [this paper](http://papers.ssrn.com/sol3/papers.cfm?abstract_id=420371), which is also described in [this paper](http://www.stata-journal.com/article.html?article=st0354). \n",
    "\n",
    "To estimate things using this method, you can read the latter paper above, and should download and install the `AMCMC` `Stata` module from `SSC`. It can be found [here](https://ideas.repec.org/c/boc/bocode/s457613.html).  \n",
    "\n",
    "Since the price model is a little simpler and faster, we start by estimating it. The first thing we need to do is import some modules, find the current working directory, and then move over there within stata: "
   ]
  },
  {
   "cell_type": "code",
   "execution_count": 3,
   "metadata": {
    "collapsed": false
   },
   "outputs": [
    {
     "name": "stdout",
     "output_type": "stream",
     "text": [
      "C:\\Users\\mjbaker\\Documents\\GitHub\\NewsHour\n"
     ]
    }
   ],
   "source": [
    "import ipystata\n",
    "import os\n",
    "\n",
    "CWD = os.getcwd()\n",
    "print(CWD)"
   ]
  },
  {
   "cell_type": "code",
   "execution_count": 4,
   "metadata": {
    "collapsed": false
   },
   "outputs": [
    {
     "name": "stdout",
     "output_type": "stream",
     "text": [
      "\n",
      "C:\\Users\\mjbaker\\Documents\\GitHub\\NewsHour\n"
     ]
    }
   ],
   "source": [
    "%%stata\n",
    "clear all\n",
    "cd C:\\Users\\mjbaker\\Documents\\GitHub\\NewsHour"
   ]
  },
  {
   "cell_type": "markdown",
   "metadata": {},
   "source": [
    "Get our data (which we assembled in Part I) - it is an averaged data set that should be ready to use:"
   ]
  },
  {
   "cell_type": "code",
   "execution_count": 6,
   "metadata": {
    "collapsed": false
   },
   "outputs": [
    {
     "name": "stdout",
     "output_type": "stream",
     "text": [
      "\n",
      "file \\Data\\AveragedDataDyno.dta not found\n",
      "r(601);\n"
     ]
    }
   ],
   "source": [
    "%%stata\n",
    "use \"\\Data\\AveragedDataDyno.dta\", clear"
   ]
  },
  {
   "cell_type": "markdown",
   "metadata": {},
   "source": [
    "Oops first have to make the dynamic data set!"
   ]
  },
  {
   "cell_type": "code",
   "execution_count": null,
   "metadata": {
    "collapsed": true
   },
   "outputs": [],
   "source": []
  }
 ],
 "metadata": {
  "kernelspec": {
   "display_name": "Python 3",
   "language": "python",
   "name": "python3"
  },
  "language_info": {
   "codemirror_mode": {
    "name": "ipython",
    "version": 3
   },
   "file_extension": ".py",
   "mimetype": "text/x-python",
   "name": "python",
   "nbconvert_exporter": "python",
   "pygments_lexer": "ipython3",
   "version": "3.5.1"
  }
 },
 "nbformat": 4,
 "nbformat_minor": 0
}

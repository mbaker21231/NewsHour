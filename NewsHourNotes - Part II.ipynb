{
 "cells": [
  {
   "cell_type": "markdown",
   "metadata": {},
   "source": [
    "# News Hour - Part II\n",
    "\n",
    "In this notebook, we handle what is essentially the second half of the setup process. This involves rendering all of our data into a shape suitable for a more explicitly dynamic panel analysis. Basically, it amounts to doing some shifting operations in mata so that our data is set up a bit better than it was before. \n",
    "\n",
    "We also go ahead and estimate a dynamic version of the viewership model based on this. Estimation of this model is time-consuming, and to save time and trouble, we use the method described in [this paper](http://papers.ssrn.com/sol3/papers.cfm?abstract_id=420371), which is also described in [this paper](http://www.stata-journal.com/article.html?article=st0354). \n",
    "\n",
    "To estimate things using this method, you can read the latter paper above, and should download and install the `AMCMC` `Stata` module from `SSC`. It can be found [here](https://ideas.repec.org/c/boc/bocode/s457613.html).  "
   ]
  },
  {
   "cell_type": "code",
   "execution_count": 1,
   "metadata": {
    "collapsed": false
   },
   "outputs": [
    {
     "name": "stdout",
     "output_type": "stream",
     "text": [
      "Terminated 1 unattached Stata session(s).\n"
     ]
    },
    {
     "data": {
      "application/javascript": [
       "IPython.CodeCell.config_defaults.highlight_modes['magic_stata'] = {'reg':[/^%%stata/]};"
      ]
     },
     "metadata": {},
     "output_type": "display_data"
    },
    {
     "name": "stdout",
     "output_type": "stream",
     "text": [
      "C:\\Users\\mjbaker\\Documents\\GitHub\\NewsHour\n"
     ]
    }
   ],
   "source": [
    "import ipystata\n",
    "import os\n",
    "\n",
    "CWD = os.getcwd()\n",
    "print(CWD)"
   ]
  },
  {
   "cell_type": "code",
   "execution_count": 2,
   "metadata": {
    "collapsed": false
   },
   "outputs": [
    {
     "name": "stdout",
     "output_type": "stream",
     "text": [
      "\n",
      "C:\\Users\\mjbaker\\Documents\\GitHub\\NewsHour\n"
     ]
    }
   ],
   "source": [
    "%%stata\n",
    "clear all\n",
    "cd C:\\Users\\mjbaker\\Documents\\GitHub\\NewsHour"
   ]
  },
  {
   "cell_type": "markdown",
   "metadata": {},
   "source": [
    "Get our data (which we assembled in Part I) - it is an averaged data set that should be ready to use:"
   ]
  },
  {
   "cell_type": "code",
   "execution_count": 5,
   "metadata": {
    "collapsed": false
   },
   "outputs": [
    {
     "name": "stdout",
     "output_type": "stream",
     "text": [
      "\n",
      "       panel variable:  stationid (strongly balanced)\n",
      "        time variable:  timeslot, 3 to 8\n",
      "                delta:  1 unit\n"
     ]
    }
   ],
   "source": [
    "%%stata\n",
    "use \"Data\\AveragedData.dta\", clear\n",
    "set more off\n",
    "set seed 5150\n",
    "tsset stationid timeslot"
   ]
  },
  {
   "cell_type": "markdown",
   "metadata": {},
   "source": [
    "## Wrangling the Data into Dynamic form (i.e., the usual panel-like setup)\n",
    "\n",
    "One of the first things to do is get dynamic leads and lags to estimate some simple models that will somewhat resemble what we are going to do later with a complete set of random effects. One thing that is nice about doing this is that it provides somewhat of a guide as to how one might think about our more complex `Mata` code in `Stata` - we can also compare our random effects models with a more traditional two-way fixed effects model. \n",
    "\n",
    "Anyways, here are some lagged variables. We have lagged shares, and dummies indicating whether or not a broadcast of type $b$ in period $t$ follows a broadcast of type $b'$ in period $t-1$:"
   ]
  },
  {
   "cell_type": "code",
   "execution_count": 6,
   "metadata": {
    "collapsed": false
   },
   "outputs": [
    {
     "name": "stdout",
     "output_type": "stream",
     "text": [
      "\n",
      "(16622 missing values generated)\n",
      "(16622 real changes made)\n",
      "(16622 missing values generated)\n",
      "(16622 missing values generated)\n",
      "(16622 missing values generated)\n",
      "(16622 missing values generated)\n",
      "(16622 real changes made)\n",
      "(16622 real changes made)\n",
      "(16622 real changes made)\n",
      "(16622 real changes made)\n"
     ]
    }
   ],
   "source": [
    "%%stata\n",
    "gen double lsi=l.lnsi\n",
    "replace lsi=0 if lsi==.\n",
    "\n",
    "gen lnewslnews=lnews*l.lnews\n",
    "gen lnewsnnews=lnews*l.nnews\n",
    "gen nnewslnews=nnews*l.lnews\n",
    "gen nnewsnnews=nnews*l.nnews\n",
    "replace lnewslnews=0 if lnewslnews==.\n",
    "replace lnewsnnews=0 if lnewsnnews==.\n",
    "replace nnewslnews=0 if nnewslnews==.\n",
    "replace nnewsnnews=0 if nnewsnnews==.\n"
   ]
  },
  {
   "cell_type": "markdown",
   "metadata": {},
   "source": [
    "We now have interactions of shares in the current period with each of the $t,t-1$ combinations of broadcasts that we care about - i.e., what the lagged share was last period, in the event that a station broadcast, say, national news last period, and is following it with local news this period. "
   ]
  },
  {
   "cell_type": "code",
   "execution_count": 7,
   "metadata": {
    "collapsed": false
   },
   "outputs": [
    {
     "name": "stdout",
     "output_type": "stream",
     "text": [
      "\n",
      "\n"
     ]
    }
   ],
   "source": [
    "%%stata\n",
    "gen double siXlnln=lnewslnews*lsi\n",
    "gen double siXlnnn=lnewsnnews*lsi\n",
    "gen double siXnnln=nnewslnews*lsi\n",
    "gen double siXnnnn=nnewsnnews*lsi"
   ]
  },
  {
   "cell_type": "markdown",
   "metadata": {},
   "source": [
    "We also generate the total cumulative shares of local news broadcast up to a particular time slot during the night, and the total cumulative shares of national news broadcast up to a particular time slot during the night. Here goes:"
   ]
  },
  {
   "cell_type": "code",
   "execution_count": 8,
   "metadata": {
    "collapsed": false
   },
   "outputs": [
    {
     "name": "stdout",
     "output_type": "stream",
     "text": [
      "\n",
      "(16402 real changes made)\n",
      "(16476 real changes made)\n",
      "(16622 real changes made)\n",
      "(16622 real changes made)\n",
      "(16622 real changes made)\n",
      "(15225 real changes made)\n",
      "(16554 real changes made)\n",
      "(16622 real changes made)\n",
      "(16622 real changes made)\n",
      "(16622 real changes made)\n"
     ]
    }
   ],
   "source": [
    "%%stata\n",
    "gen double totslnews=0\n",
    "sort stationid timeslot\n",
    "bysort stationid: replace totslnews=slnews[_n-1] if _n==2\n",
    "bysort stationid: replace totslnews=totslnews[_n-1]+slnews[2] if _n==3\n",
    "bysort stationid: replace totslnews=totslnews[_n-1]+slnews[3] if _n==4\n",
    "bysort stationid: replace totslnews=totslnews[_n-1]+slnews[4] if _n==5\n",
    "bysort stationid: replace totslnews=totslnews[_n-1]+slnews[5] if _n==6\n",
    "\n",
    "gen double totsnnews=0\n",
    "sort stationid timeslot\n",
    "bysort stationid: replace totsnnews=snnews[_n-1] if _n==2\n",
    "bysort stationid: replace totsnnews=totsnnews[_n-1]+snnews[2] if _n==3\n",
    "bysort stationid: replace totsnnews=totsnnews[_n-1]+snnews[3] if _n==4\n",
    "bysort stationid: replace totsnnews=totsnnews[_n-1]+snnews[4] if _n==5\n",
    "bysort stationid: replace totsnnews=totsnnews[_n-1]+snnews[5] if _n==6"
   ]
  },
  {
   "cell_type": "markdown",
   "metadata": {},
   "source": [
    "Because these variables can be zero, and to keep the coefficients small and stable, we will typically use a transformed version of these variables in estimation:"
   ]
  },
  {
   "cell_type": "code",
   "execution_count": 10,
   "metadata": {
    "collapsed": false
   },
   "outputs": [
    {
     "name": "stdout",
     "output_type": "stream",
     "text": [
      "\n",
      "\n"
     ]
    }
   ],
   "source": [
    "%%stata\n",
    "gen double lnewstot=lnews*ln(1+totslnews)\n",
    "gen double nnewstot=nnews*ln(1+totsnnews)\n",
    "\n",
    "gen l_ACS_HH=ln(ACS_HH)"
   ]
  },
  {
   "cell_type": "markdown",
   "metadata": {},
   "source": [
    "[Ackerberg and Ryman (2006)](http://www.econ.ucla.edu/ackerber/pdfinal2.pdf) show that a multinomial logit can be really restrictive, and that it is helpful to include (functions of) group counts in estimation. Accordingly, we will include counts of each of the different types of broadcasts at given times in our estimation. These counts are easy to calculate, which can then be converted into functions as Ackerberg and Ryman (2006) suggest:"
   ]
  },
  {
   "cell_type": "code",
   "execution_count": 12,
   "metadata": {
    "collapsed": false
   },
   "outputs": [
    {
     "name": "stdout",
     "output_type": "stream",
     "text": [
      "\n",
      "\n"
     ]
    }
   ],
   "source": [
    "%%stata\n",
    "bysort mt: egen total_lnews=total(lnews)\n",
    "bysort mt: egen total_nnews=total(nnews)\n",
    "bysort mt: egen total_otherl=total(otherl)\n",
    "bysort mt: egen total_otherc=total(otherc)\n",
    "\n",
    "gen double lnewsn=lnews*ln(1+total_lnews)\n",
    "gen double nnewsn=nnews*ln(1+total_nnews)\n",
    "gen double otherln=otherl*ln(1+total_otherl)\n",
    "gen double othercn=otherc*ln(1+total_otherc)"
   ]
  },
  {
   "cell_type": "markdown",
   "metadata": {},
   "source": [
    "## Some preliminary preliminary estimates\n",
    "### The Viewership model\n",
    "\n",
    "We can basically now estimate a proto-viewership model, which doesn't worry about endogeneity or anything, but has the basic shape as the specification we shall employ. One needs the `a2reg` package to do this, as we include market-time and station-level fixed effects in this estimation. \n",
    "\n",
    "Here goes (without the A/R control variables):"
   ]
  },
  {
   "cell_type": "code",
   "execution_count": 15,
   "metadata": {
    "collapsed": false
   },
   "outputs": [
    {
     "name": "stdout",
     "output_type": "stream",
     "text": [
      "\n",
      "> ws nnewslnews nnewsnnews lsi siXlnln siXlnnn siXnnln siXnnnn lnewstot nnewstot l_ACS_HH, individua\n",
      "> l(stationid) unit(mt)\n",
      "99732 observations, 19 covariates, 16622 individuals, 1206 units, 99732 cells\n",
      "Beginning Iterations\n",
      "Starting Conjugate Gradient Algorithm\n",
      "Iteration 0, norm of residual 4260.23108, relative error 1\n",
      "Iteration 1, norm of residual 226.981112, relative error .053279061\n",
      "Iteration 2, norm of residual 38.3122062, relative error .008992988\n",
      "Iteration 3, norm of residual 18.9410761, relative error .004446021\n",
      "Iteration 4, norm of residual 20.967133, relative error .004921595\n",
      "Iteration 5, norm of residual 26.1236141, relative error .006131971\n",
      "Iteration 6, norm of residual 12.3186342, relative error .002891541\n",
      "Iteration 7, norm of residual 10.9890762, relative error .002579455\n",
      "Iteration 8, norm of residual 6.56774712, relative error .001541641\n",
      "Iteration 9, norm of residual 5.54913896, relative error .001302544\n",
      "Iteration 10, norm of residual 4.10267068, relative error .000963016\n",
      "Iteration 11, norm of residual 3.03920604, relative error .00071339\n",
      "Iteration 12, norm of residual 2.54209364, relative error .000596703\n",
      "Iteration 13, norm of residual 2.70150488, relative error .000634122\n",
      "Iteration 14, norm of residual 4.1799979, relative error .000981167\n",
      "Iteration 15, norm of residual 3.02937655, relative error .000711083\n",
      "Iteration 16, norm of residual 2.77561131, relative error .000651517\n",
      "Iteration 17, norm of residual 2.37721982, relative error .000558003\n",
      "Iteration 18, norm of residual 3.01628198, relative error .000708009\n",
      "Iteration 19, norm of residual 2.06570449, relative error .000484881\n",
      "Iteration 20, norm of residual 1.44824837, relative error .000339946\n",
      "Iteration 21, norm of residual .894756929, relative error .000210025\n",
      "Iteration 22, norm of residual .599000866, relative error .000140603\n",
      "Iteration 23, norm of residual .285124993, relative error .000066927\n",
      "Iteration 24, norm of residual .19661075, relative error .00004615\n",
      "Iteration 25, norm of residual .153025281, relative error .000035919\n",
      "Iteration 26, norm of residual .289844047, relative error .000068035\n",
      "Iteration 27, norm of residual .457739741, relative error .000107445\n",
      "Iteration 28, norm of residual .425596081, relative error .0000999\n",
      "Iteration 29, norm of residual .364341818, relative error .000085522\n",
      "Iteration 30, norm of residual .216421752, relative error .0000508\n",
      "Iteration 31, norm of residual .131363058, relative error .000030835\n",
      "Iteration 32, norm of residual .036326604, relative error 8.5269e-06\n",
      "Iteration 33, norm of residual .016886993, relative error 3.9639e-06\n",
      "Iteration 34, norm of residual .007170216, relative error 1.6831e-06\n",
      "Iteration 35, norm of residual .002863765, relative error 6.7221e-07\n",
      "Iteration 36, norm of residual .000735952, relative error 1.7275e-07\n",
      "Iteration 37, norm of residual .000293923, relative error 6.8992e-08\n",
      "\n",
      "Linear regression with two way fixed effects           Number of obs =   99732\n",
      "                                                       F(17847, 81884) = 1018.77\n",
      "                                                       Prob > F      =  0.0000\n",
      "                                                       R-squared     =  0.9955\n",
      "                                                       Adj R-squared =  0.9945\n",
      "                                                       Root MSE      =  .11962\n",
      "\n",
      "-------------+-----------------------------------------------------------------\n",
      "         dln |      Coef.   Std. Err.      t    P>|t|     [95% Conf. Interval]\n",
      "-------------+-----------------------------------------------------------------\n",
      "      ln_swg |  .9559916 missing : standard errors only by bootstrapping \n",
      "ln_swgXsln~s | -.7391087 missing : standard errors only by bootstrapping \n",
      "ln_swgXsot~l | -.7962684 missing : standard errors only by bootstrapping \n",
      "ln_swgXsnn~s | -.8638517 missing : standard errors only by bootstrapping \n",
      "       lnews | -4.199594 missing : standard errors only by bootstrapping \n",
      "      otherl | -4.515077 missing : standard errors only by bootstrapping \n",
      "       nnews | -4.995999 missing : standard errors only by bootstrapping \n",
      "  lnewslnews |  .7095408 missing : standard errors only by bootstrapping \n",
      "  lnewsnnews |  .9157911 missing : standard errors only by bootstrapping \n",
      "  nnewslnews |  1.401183 missing : standard errors only by bootstrapping \n",
      "  nnewsnnews |  2.026056 missing : standard errors only by bootstrapping \n",
      "         lsi |  .0360382 missing : standard errors only by bootstrapping \n",
      "     siXlnln |  .1359738 missing : standard errors only by bootstrapping \n",
      "     siXlnnn |  .2016861 missing : standard errors only by bootstrapping \n",
      "     siXnnln |  .1542326 missing : standard errors only by bootstrapping \n",
      "     siXnnnn |  .2246007 missing : standard errors only by bootstrapping \n",
      "    lnewstot | -3.199865 missing : standard errors only by bootstrapping \n",
      "    nnewstot | -5.209541 missing : standard errors only by bootstrapping \n",
      "    l_ACS_HH |  .1655646 missing : standard errors only by bootstrapping \n",
      "       _cons | -2.534818\n",
      "-------------+-----------------------------------------------------------------\n",
      "SDs of FEs   |\n",
      "   stationid |   .9917722\n",
      "          mt |   .7303788\n",
      " Correlation |   .5937629\n",
      "-------------+-----------------------------------------------------------------\n",
      "Tests of FEs |\n",
      "   stationid |   F(16622, 81884) =     13.012   0.000       (16622 categories)\n",
      "          mt |    F(1206, 81884) =     98.571   0.000        (1206 categories)\n",
      "        Both |   F(17829, 81884) =     54.629   0.000       \n"
     ]
    }
   ],
   "source": [
    "%%stata\n",
    "a2reg dln ln_swg ln_swgXslnews ln_swgXsotherl ln_swgXsnnews lnews otherl nnews lnewslnews lnewsnnews nnewslnews nnewsnnews lsi siXlnln siXlnnn siXnnln siXnnnn lnewstot nnewstot l_ACS_HH, individual(stationid) unit(mt)"
   ]
  },
  {
   "cell_type": "markdown",
   "metadata": {},
   "source": [
    "And here is a version with the Ackerberg/Ryman controls:"
   ]
  },
  {
   "cell_type": "code",
   "execution_count": 17,
   "metadata": {
    "collapsed": false
   },
   "outputs": [
    {
     "name": "stdout",
     "output_type": "stream",
     "text": [
      "\n",
      "> ws nnewslnews nnewsnnews lsi siXlnln siXlnnn siXnnln siXnnnn lnewstot nnewstot l_ACS_HH lnewsn oth\n",
      "> erln nnewsn othercn, individual(stationid) unit(mt)\n",
      "99732 observations, 23 covariates, 16622 individuals, 1206 units, 99732 cells\n",
      "Beginning Iterations\n",
      "Starting Conjugate Gradient Algorithm\n",
      "Iteration 0, norm of residual 4269.64854, relative error 1\n",
      "Iteration 1, norm of residual 177.372896, relative error .041542739\n",
      "Iteration 2, norm of residual 25.5208496, relative error .005977272\n",
      "Iteration 3, norm of residual 16.5499861, relative error .003876194\n",
      "Iteration 4, norm of residual 19.206008, relative error .004498264\n",
      "Iteration 5, norm of residual 28.7209617, relative error .006726774\n",
      "Iteration 6, norm of residual 7.87969834, relative error .001845515\n",
      "Iteration 7, norm of residual 7.47044031, relative error .001749662\n",
      "Iteration 8, norm of residual 4.9641564, relative error .001162662\n",
      "Iteration 9, norm of residual 4.05031447, relative error .000948629\n",
      "Iteration 10, norm of residual 2.42099193, relative error .000567024\n",
      "Iteration 11, norm of residual 1.86632817, relative error .000437115\n",
      "Iteration 12, norm of residual 2.46475142, relative error .000577273\n",
      "Iteration 13, norm of residual 2.43431377, relative error .000570144\n",
      "Iteration 14, norm of residual 2.62166282, relative error .000614023\n",
      "Iteration 15, norm of residual 2.09716913, relative error .000491181\n",
      "Iteration 16, norm of residual 2.14447222, relative error .00050226\n",
      "Iteration 17, norm of residual 2.26801505, relative error .000531195\n",
      "Iteration 18, norm of residual 2.43184813, relative error .000569566\n",
      "Iteration 19, norm of residual 1.48163792, relative error .000347016\n",
      "Iteration 20, norm of residual 1.15702968, relative error .000270989\n",
      "Iteration 21, norm of residual .600258582, relative error .000140587\n",
      "Iteration 22, norm of residual .374895529, relative error .000087805\n",
      "Iteration 23, norm of residual .186662484, relative error .000043718\n",
      "Iteration 24, norm of residual .167941422, relative error .000039334\n",
      "Iteration 25, norm of residual .203997967, relative error .000047779\n",
      "Iteration 26, norm of residual .297726908, relative error .000069731\n",
      "Iteration 27, norm of residual .443538132, relative error .000103882\n",
      "Iteration 28, norm of residual .491987092, relative error .000115229\n",
      "Iteration 29, norm of residual .343885673, relative error .000080542\n",
      "Iteration 30, norm of residual .242847917, relative error .000056878\n",
      "Iteration 31, norm of residual .14267026, relative error .000033415\n",
      "Iteration 32, norm of residual .081826879, relative error .000019165\n",
      "Iteration 33, norm of residual .071521318, relative error .000016751\n",
      "Iteration 34, norm of residual .183091201, relative error .000042882\n",
      "Iteration 35, norm of residual .30063776, relative error .000070413\n",
      "Iteration 36, norm of residual .444277396, relative error .000104055\n",
      "Iteration 37, norm of residual .303714341, relative error .000071133\n",
      "Iteration 38, norm of residual .249068133, relative error .000058335\n",
      "Iteration 39, norm of residual .243467264, relative error .000057023\n",
      "Iteration 40, norm of residual .292422551, relative error .000068489\n",
      "Iteration 41, norm of residual .201324111, relative error .000047152\n",
      "Iteration 42, norm of residual .104143458, relative error .000024392\n",
      "Iteration 43, norm of residual .043030254, relative error .000010078\n",
      "Iteration 44, norm of residual .010450992, relative error 2.4477e-06\n",
      "Iteration 45, norm of residual .003876271, relative error 9.0787e-07\n",
      "Iteration 46, norm of residual .001039426, relative error 2.4345e-07\n",
      "Iteration 47, norm of residual .000363977, relative error 8.5248e-08\n",
      "\n",
      "Linear regression with two way fixed effects           Number of obs =   99732\n",
      "                                                       F(17851, 81880) = 1477.53\n",
      "                                                       Prob > F      =  0.0000\n",
      "                                                       R-squared     =  0.9969\n",
      "                                                       Adj R-squared =  0.9962\n",
      "                                                       Root MSE      =  .09939\n",
      "\n",
      "-------------+-----------------------------------------------------------------\n",
      "         dln |      Coef.   Std. Err.      t    P>|t|     [95% Conf. Interval]\n",
      "-------------+-----------------------------------------------------------------\n",
      "      ln_swg |  .9709259 missing : standard errors only by bootstrapping \n",
      "ln_swgXsln~s | -.4931294 missing : standard errors only by bootstrapping \n",
      "ln_swgXsot~l | -.4979818 missing : standard errors only by bootstrapping \n",
      "ln_swgXsnn~s | -.6830928 missing : standard errors only by bootstrapping \n",
      "       lnews |  4.580344 missing : standard errors only by bootstrapping \n",
      "      otherl |   3.20165 missing : standard errors only by bootstrapping \n",
      "       nnews |  3.659821 missing : standard errors only by bootstrapping \n",
      "  lnewslnews |  .6176387 missing : standard errors only by bootstrapping \n",
      "  lnewsnnews |  .6919002 missing : standard errors only by bootstrapping \n",
      "  nnewslnews |  .8741786 missing : standard errors only by bootstrapping \n",
      "  nnewsnnews |  1.379638 missing : standard errors only by bootstrapping \n",
      "         lsi |  .0286521 missing : standard errors only by bootstrapping \n",
      "     siXlnln |   .093884 missing : standard errors only by bootstrapping \n",
      "     siXlnnn |  .1279129 missing : standard errors only by bootstrapping \n",
      "     siXnnln |   .033641 missing : standard errors only by bootstrapping \n",
      "     siXnnnn |  .1398807 missing : standard errors only by bootstrapping \n",
      "    lnewstot | -4.719284 missing : standard errors only by bootstrapping \n",
      "    nnewstot | -3.687134 missing : standard errors only by bootstrapping \n",
      "    l_ACS_HH | -.5252206 missing : standard errors only by bootstrapping \n",
      "      lnewsn |  1.109985 missing : standard errors only by bootstrapping \n",
      "     otherln |  1.320537 missing : standard errors only by bootstrapping \n",
      "      nnewsn |  .8510302 missing : standard errors only by bootstrapping \n",
      "     othercn |  2.152107 missing : standard errors only by bootstrapping \n",
      "       _cons | -2.553072\n",
      "-------------+-----------------------------------------------------------------\n",
      "SDs of FEs   |\n",
      "   stationid |   .7166259\n",
      "          mt |   .5059782\n",
      " Correlation |   .4639621\n",
      "-------------+-----------------------------------------------------------------\n",
      "Tests of FEs |\n",
      "   stationid |   F(16622, 81880) =     10.949   0.000       (16622 categories)\n",
      "          mt |    F(1206, 81880) =    118.025   0.000        (1206 categories)\n",
      "        Both |   F(17829, 81880) =     34.161   0.000       \n"
     ]
    }
   ],
   "source": [
    "%%stata\n",
    "a2reg dln ln_swg ln_swgXslnews ln_swgXsotherl ln_swgXsnnews lnews otherl nnews lnewslnews lnewsnnews nnewslnews nnewsnnews lsi siXlnln siXlnnn siXnnln siXnnnn lnewstot nnewstot l_ACS_HH lnewsn otherln nnewsn othercn, individual(stationid) unit(mt)"
   ]
  },
  {
   "cell_type": "code",
   "execution_count": null,
   "metadata": {
    "collapsed": true
   },
   "outputs": [],
   "source": []
  }
 ],
 "metadata": {
  "kernelspec": {
   "display_name": "Python 3",
   "language": "python",
   "name": "python3"
  },
  "language_info": {
   "codemirror_mode": {
    "name": "ipython",
    "version": 3
   },
   "file_extension": ".py",
   "mimetype": "text/x-python",
   "name": "python",
   "nbconvert_exporter": "python",
   "pygments_lexer": "ipython3",
   "version": "3.5.1"
  }
 },
 "nbformat": 4,
 "nbformat_minor": 0
}
